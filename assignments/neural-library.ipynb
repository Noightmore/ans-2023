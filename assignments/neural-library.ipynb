{
 "cells": [
  {
   "cell_type": "markdown",
   "id": "f688f9ac-ebc1-475c-a278-5e7242b99802",
   "metadata": {},
   "source": [
    "# Modularizace základních operací"
   ]
  },
  {
   "cell_type": "markdown",
   "id": "21f9aabd-6fd0-4329-9239-0ec347de0db9",
   "metadata": {},
   "source": [
    "Úkolem cvičení je implementovat základní operace jako lineární funkce a sigmoid používané v neurosítích jako funkční bloky tak, aby je bylo možné skládat za sebe v libovolném pořadí. Návrh přebírá a kopíruje od knihovny PyTorch."
   ]
  },
  {
   "cell_type": "code",
   "execution_count": 1,
   "id": "42fb7b35-c756-4246-aff2-03ab3928ad77",
   "metadata": {
    "ExecuteTime": {
     "start_time": "2023-12-05T18:22:09.411245Z",
     "end_time": "2023-12-05T18:22:09.412856Z"
    }
   },
   "outputs": [],
   "source": [
    "%load_ext autoreload\n",
    "%autoreload 2"
   ]
  },
  {
   "cell_type": "code",
   "execution_count": 2,
   "id": "3375f030-c696-4b7d-a808-5ab895104166",
   "metadata": {
    "ExecuteTime": {
     "start_time": "2023-12-05T18:22:30.017753Z",
     "end_time": "2023-12-05T18:22:33.372827Z"
    }
   },
   "outputs": [],
   "source": [
    "import functools\n",
    "import sys\n",
    "sys.path.append('..')  # import tests\n",
    "\n",
    "import torch\n",
    "\n",
    "import ans\n",
    "from tests import test_neural_library\n",
    "from tests import randn_var"
   ]
  },
  {
   "cell_type": "code",
   "execution_count": 3,
   "id": "940ea4a8-9454-4f9f-979e-0b190c28b9e6",
   "metadata": {
    "ExecuteTime": {
     "start_time": "2023-12-05T18:22:36.098787Z",
     "end_time": "2023-12-05T18:22:36.169862Z"
    }
   },
   "outputs": [],
   "source": [
    "torch.set_printoptions(profile='short')"
   ]
  },
  {
   "cell_type": "markdown",
   "id": "e27932d6-b1a2-4284-b7be-64a77ec4da7a",
   "metadata": {
    "tags": []
   },
   "source": [
    "# Fukcionální rozhraní: modul `ans.functional` a třída `Function`"
   ]
  },
  {
   "cell_type": "markdown",
   "id": "e393a8db-6a22-45ca-b997-367622b7d2d5",
   "metadata": {
    "tags": []
   },
   "source": [
    "Ve cvičení [backpropagation.ipynb](backpropagation.ipynb) byly operace nad `Variable` definovány přepisem tzv. magických metod pro odpovídající operátory této třídy. Tento způsob je vhodný pro základní operace jako sčítání a násobení. Pro složitější operace jako konvoluce či rekurence však v Pythonu operátory, které bychom mohli definovat, neexistují. Navíc mohou mít tyto operace nepovinné parametry, které by nebylo jednoduché předat.\n",
    "\n",
    "Operace s proměnnými `Variable` ale můžeme provádět i jako volání funkcí. Např. násobení dvou proměnných `u` a `v` by namísto `w = u * v` mohlo vypadat jako `w = multiply(u, v)`. Jednou z výhod takového návrhu je rozšiřitelnost i pro složitější operace s dodatečnými parametry. Funkce `multiply` by mohla vypadat takto:"
   ]
  },
  {
   "cell_type": "code",
   "execution_count": 4,
   "id": "1a807c24-4bdf-4bd9-8a0f-19f3a9cd5398",
   "metadata": {
    "ExecuteTime": {
     "start_time": "2023-12-05T18:22:37.371770Z",
     "end_time": "2023-12-05T18:22:37.418047Z"
    }
   },
   "outputs": [],
   "source": [
    "def multiply(a: ans.autograd.Variable, b: ans.autograd.Variable) -> ans.autograd.Variable:\n",
    "    def grad_fn(dout: torch.Tensor) -> tuple[torch.Tensor, torch.Tensor]:\n",
    "        return dout * b.data, dout * a.data  \n",
    "    return ans.autograd.Variable(\n",
    "        a.data * b.data,\n",
    "        parents=(a, b),\n",
    "        grad_fn=grad_fn\n",
    "    )"
   ]
  },
  {
   "cell_type": "code",
   "execution_count": 5,
   "id": "074b839b-32ae-4826-9236-c4b720c5430e",
   "metadata": {
    "ExecuteTime": {
     "start_time": "2023-12-05T18:22:39.247406Z",
     "end_time": "2023-12-05T18:22:39.319424Z"
    }
   },
   "outputs": [
    {
     "data": {
      "text/plain": "Variable(6.0, grad_fn=multiply.<locals>.grad_fn)"
     },
     "execution_count": 5,
     "metadata": {},
     "output_type": "execute_result"
    }
   ],
   "source": [
    "u = ans.autograd.Variable(2.)\n",
    "v = ans.autograd.Variable(3.)\n",
    "w = multiply(u, v)\n",
    "w"
   ]
  },
  {
   "cell_type": "code",
   "execution_count": 6,
   "id": "a29eb318-2234-4132-a847-a17257c2bdea",
   "metadata": {
    "ExecuteTime": {
     "start_time": "2023-12-05T18:22:40.843356Z",
     "end_time": "2023-12-05T18:22:40.902600Z"
    }
   },
   "outputs": [
    {
     "data": {
      "text/plain": "(tensor(3.), tensor(2.))"
     },
     "execution_count": 6,
     "metadata": {},
     "output_type": "execute_result"
    }
   ],
   "source": [
    "w.grad_fn(torch.tensor(1.))  # du, dv"
   ]
  },
  {
   "cell_type": "markdown",
   "id": "d32ce126-59fc-4ca8-975c-9ba51d23e286",
   "metadata": {},
   "source": [
    "Analogicky bychom mohli definovat i sčítání."
   ]
  },
  {
   "cell_type": "code",
   "execution_count": 7,
   "id": "69465ed5-b09b-439c-882b-79ded6fb0aaf",
   "metadata": {
    "ExecuteTime": {
     "start_time": "2023-12-05T18:22:42.680781Z",
     "end_time": "2023-12-05T18:22:42.727984Z"
    }
   },
   "outputs": [],
   "source": [
    "def add(a: ans.autograd.Variable, b: ans.autograd.Variable) -> ans.autograd.Variable:\n",
    "    def grad_fn(dout: torch.Tensor) -> tuple[torch.Tensor, torch.Tensor]:\n",
    "        return dout.clone(), dout.clone()\n",
    "    return ans.autograd.Variable(\n",
    "        a.data + b.data,\n",
    "        parents=(a, b),\n",
    "        grad_fn=grad_fn\n",
    "    )"
   ]
  },
  {
   "cell_type": "code",
   "execution_count": 8,
   "id": "b515a835-ab07-4028-bfc6-b568d5fcfd4a",
   "metadata": {
    "ExecuteTime": {
     "start_time": "2023-12-05T18:22:44.917192Z",
     "end_time": "2023-12-05T18:22:44.976719Z"
    }
   },
   "outputs": [
    {
     "data": {
      "text/plain": "Variable(5.0, grad_fn=add.<locals>.grad_fn)"
     },
     "execution_count": 8,
     "metadata": {},
     "output_type": "execute_result"
    }
   ],
   "source": [
    "u = ans.autograd.Variable(2.)\n",
    "v = ans.autograd.Variable(3.)\n",
    "w = add(u, v)\n",
    "w"
   ]
  },
  {
   "cell_type": "code",
   "execution_count": 9,
   "id": "295959d4-564b-4369-b195-36d8e20268f9",
   "metadata": {
    "ExecuteTime": {
     "start_time": "2023-12-05T18:22:47.735528Z",
     "end_time": "2023-12-05T18:22:47.809899Z"
    }
   },
   "outputs": [
    {
     "data": {
      "text/plain": "(tensor(2.), tensor(2.))"
     },
     "execution_count": 9,
     "metadata": {},
     "output_type": "execute_result"
    }
   ],
   "source": [
    "w.grad_fn(torch.tensor(2.))  # du, dv"
   ]
  },
  {
   "cell_type": "markdown",
   "id": "e94ca001-a270-4417-8ffb-717d7a0729d3",
   "metadata": {
    "tags": []
   },
   "source": [
    "Tzv. boilerplate kód, kdy se musíme neustále starat o \"vytahování\" atributu `data: torch.Tensor` z `Variable` a vytváření `Variable` z výstupu se správně nastavenými `parents` atp., lze zautomatizovat. Abychom toho dosáhli, nejprve každou operaci nad objekty `Variable` jako `add` či `multiply` principiálně rozdělíme na dopředný a zpětný průchod, tj. např. jako `multiply_forward` a `multiply_backward`, přičemž oba budou pracovat se vstupy typu `torch.Tensor`."
   ]
  },
  {
   "cell_type": "code",
   "execution_count": 10,
   "id": "1a88ff4f-3687-43b9-8c53-41be0d8d4029",
   "metadata": {
    "ExecuteTime": {
     "start_time": "2023-12-05T18:22:49.377513Z",
     "end_time": "2023-12-05T18:22:49.425234Z"
    }
   },
   "outputs": [],
   "source": [
    "def multiply_forward(a: torch.Tensor, b: torch.Tensor) -> tuple[torch.Tensor, tuple]:\n",
    "    output = a * b\n",
    "    cache = a, b\n",
    "    return output, cache"
   ]
  },
  {
   "cell_type": "code",
   "execution_count": 11,
   "id": "0c31ba80-54db-406a-ab22-43524b15f056",
   "metadata": {
    "ExecuteTime": {
     "start_time": "2023-12-05T18:22:50.849891Z",
     "end_time": "2023-12-05T18:22:50.901984Z"
    }
   },
   "outputs": [],
   "source": [
    "def multiply_backward(doutput: torch.Tensor, cache=()) -> tuple[torch.Tensor, ...]:\n",
    "    a, b = cache\n",
    "    return doutput * b, doutput * a"
   ]
  },
  {
   "cell_type": "markdown",
   "id": "fd70ede8-c1e6-42ae-b759-ee9438e8af02",
   "metadata": {},
   "source": [
    "Poté bude existovat třetí metoda `apply`, která bude zajišťovat jejich správné volání s proměnnými `Variable`."
   ]
  },
  {
   "cell_type": "code",
   "execution_count": 12,
   "id": "554a6734-1d14-4826-ade6-37af8cdc54cf",
   "metadata": {
    "ExecuteTime": {
     "start_time": "2023-12-05T18:22:52.645956Z",
     "end_time": "2023-12-05T18:22:52.675074Z"
    }
   },
   "outputs": [],
   "source": [
    "def multiply_apply(*inputs: ans.autograd.Variable, **params) -> ans.autograd.Variable:\n",
    "    tensor_args = [i.data for i in inputs]\n",
    "    output_data, cache = multiply_forward(*tensor_args, **params)\n",
    "    return ans.autograd.Variable(\n",
    "        output_data,\n",
    "        parents=inputs,\n",
    "        grad_fn=functools.partial(multiply_backward, cache=cache)\n",
    "    )"
   ]
  },
  {
   "cell_type": "code",
   "execution_count": 13,
   "id": "d9af2d93-387a-4873-8b06-fe424e0552cf",
   "metadata": {
    "ExecuteTime": {
     "start_time": "2023-12-05T18:22:54.281196Z",
     "end_time": "2023-12-05T18:22:54.330138Z"
    }
   },
   "outputs": [
    {
     "data": {
      "text/plain": "Variable(6.0, grad_fn=multiply_backward)"
     },
     "execution_count": 13,
     "metadata": {},
     "output_type": "execute_result"
    }
   ],
   "source": [
    "u = ans.autograd.Variable(2.)\n",
    "v = ans.autograd.Variable(3.)\n",
    "w = multiply_apply(u, v)\n",
    "w"
   ]
  },
  {
   "cell_type": "code",
   "execution_count": 14,
   "id": "2c108120-1619-4e11-928d-2fb320187e73",
   "metadata": {
    "ExecuteTime": {
     "start_time": "2023-12-05T18:22:55.804986Z",
     "end_time": "2023-12-05T18:22:55.860371Z"
    }
   },
   "outputs": [
    {
     "data": {
      "text/plain": "(True, True)"
     },
     "execution_count": 14,
     "metadata": {},
     "output_type": "execute_result"
    }
   ],
   "source": [
    "w.parents[0] is u, w.parents[1] is v"
   ]
  },
  {
   "cell_type": "code",
   "execution_count": 15,
   "id": "2bf305ce-b457-48f9-91df-355a9a5f3e00",
   "metadata": {
    "ExecuteTime": {
     "start_time": "2023-12-05T18:22:57.548392Z",
     "end_time": "2023-12-05T18:22:57.598275Z"
    }
   },
   "outputs": [
    {
     "data": {
      "text/plain": "(tensor(3.), tensor(2.))"
     },
     "execution_count": 15,
     "metadata": {},
     "output_type": "execute_result"
    }
   ],
   "source": [
    "w.grad_fn(torch.tensor(1.))  # du, dv"
   ]
  },
  {
   "cell_type": "markdown",
   "id": "ccd2e5ef-a569-4abe-9ab9-511d81fd802a",
   "metadata": {},
   "source": [
    "Zatím jsme si příliš nepomohli, protože namísto jedné teď máme metody tři a ještě specializované výhradně na operaci násobení. Postup ovšem zobecníme a zabalíme do obecné šablony v podobě základní třídy `Function` v modulu `ans.functional`. Všechny operace, které budeme definovat, budou odvozeny (dědit z) z této třídy, což mimo jiné znamená, že `apply` bude existovat pouze jedna.\n",
    "\n",
    "Základní třída `Function` má tři metody:\n",
    "\n",
    "``` python\n",
    "@staticmethod\n",
    "def forward(*inputs: torch.Tensor, **params: Any) -> tuple[torch.Tensor, tuple]\n",
    "```\n",
    "Funkce deklaruje obecnou podobu dopředného průchodu jakékoliv diferencovatelné operace. Převezme\n",
    "- vstupy `inputs: torch.Tensor`\n",
    "- příp. nepovinné parametry `params`\n",
    "\n",
    "a bude vždy vracet dvojici `(output, cache)`, kde\n",
    "- `output: torch.Tensor` je výsledek operace\n",
    "- `cache: tuple[Any, ...]` je n-tice, ve které jsou uloženy mezivýsledky potřebné pro výpočet zpětného průchodu\n",
    "\n",
    "``` python\n",
    "@staticmethod\n",
    "def backward(doutput: torch.Tensor, cache=()) -> tuple[torch.Tensor, ...]\n",
    "```\n",
    "Deklaruje rozhraní zpětného průchodu dané operace. Převezme\n",
    "- příchozí gradient `doutput: torch.Tensor`\n",
    "- mezipaměť z dopředného průchodu `cache`\n",
    "\n",
    "a vrátí\n",
    "- propagovaný gradient `dinput0` na vstup `inputs[0]`,\n",
    "- propagovaný gradient `dinput1` na vstup `inputs[1]`,\n",
    "\n",
    "``` python\n",
    "@classmethod\n",
    "def apply(cls, *inputs: Union[torch.Tensor, Variable], **params: Any) -> Variable\n",
    "```\n",
    "Je hlavní metoda, kterou budeme volat pro provedení dané operace. Tuto metodu odvozené třídy nebudou přepisovat a bude tak společná pro všechny. Zajišťuje:\n",
    "- automatické \"obalení\" výstupu typu `torch.Tensor` z dopředného průchodu `forward()` třídou `Variable`\n",
    "- nastavení rodičů (`parents: tuple[Variable]`) tak, aby ukazovaly na ty vstupy `inputs`, které jsou typu `Variable` a zajímá nás jejich gradient\n",
    "- nastavení `grad_fn` na zpětný průchod dané operace, tj. `backward` stejné třídy s předpřipravenou `cache`"
   ]
  },
  {
   "cell_type": "markdown",
   "id": "09d8f9c5-7b1d-4019-947c-cf566f92cdee",
   "metadata": {},
   "source": [
    "## Násobení: třída `Multiply`"
   ]
  },
  {
   "cell_type": "markdown",
   "id": "29500fb9-f1f2-4b2f-b9b2-b9affe7424cc",
   "metadata": {},
   "source": [
    "Jako ukázku odvozování z třídy `Function` si můžeme implementovat třídu pro operaci násobení.\n",
    "\n",
    "**Dopředný průchod**\n",
    "\n",
    "Převezme libovolný počet tensorů $x_1, \\ldots, x_M$ a prvkově je pronásobí mezi sebou jako\n",
    "$$y = x_1 \\odot x_2 \\odot \\ldots \\odot x_M = \\prod_{m=1}^{M}x_m$$\n",
    "(tensory by měly být stejných rozměrů).\n",
    "\n",
    "**Zpětný průchod**\n",
    "\n",
    "Lokální gradient, tj. parciální derivace $dy/dx_m$, $m=1,\\ldots,M$ je na libovolný vstup $x_m$\n",
    "$$\\frac{dy}{dx_m} = \\prod_{i=1, i \\ne m}^{M}x_m = \\frac{y}{x_m}$$\n",
    "\n",
    "Zpětný průchod řetízkovým pravidlem při nějakém příchozím gradientu $\\overline{y}$ bude\n",
    "$$\\overline{x}_m = \\overline{y} \\odot \\frac{dy}{dx_m} = \\overline{y} \\odot \\frac{y}{x_m}$$\n",
    "\n",
    "To znamená, že v dopředném průchodu potřebujeme do `cache` uložit všechny vstupy $x_1, \\ldots, x_M$ a výsledek pronásobení $y$."
   ]
  },
  {
   "cell_type": "code",
   "execution_count": 16,
   "id": "c509ae52-5abb-4636-9001-305028db7c4c",
   "metadata": {
    "ExecuteTime": {
     "start_time": "2023-12-05T18:23:00.578707Z",
     "end_time": "2023-12-05T18:23:00.649464Z"
    }
   },
   "outputs": [],
   "source": [
    "class Multiply(ans.functional.Function):\n",
    "\n",
    "    @staticmethod\n",
    "    def forward(*inputs: torch.Tensor) -> tuple[torch.Tensor, tuple]:\n",
    "        outputs = inputs[0].clone()\n",
    "        for inp in inputs[1:]:\n",
    "            outputs *= inp\n",
    "        cache = inputs, outputs\n",
    "        return outputs, cache\n",
    "\n",
    "    @staticmethod\n",
    "    def backward(doutputs: torch.Tensor, cache=()) -> tuple[torch.Tensor, ...]:\n",
    "        inputs, outputs = cache\n",
    "        return tuple(doutputs * outputs / inp for inp in inputs)"
   ]
  },
  {
   "cell_type": "markdown",
   "id": "8f8a7dde-3b56-446f-823d-ff3818e4d31f",
   "metadata": {},
   "source": [
    "Funkci `Multiply` chceme aplikovat na proměnné `Variable`, zatímco obě metody `Multiply.forward()` i `Multiply.backward()` přebírají `torch.Tensor`. Volat funkci proto budeme skrze metodu `apply()`, která provede automatickou konverzi."
   ]
  },
  {
   "cell_type": "code",
   "execution_count": 17,
   "id": "f43f00f7-50f9-4ea1-b756-0ae76f8a8406",
   "metadata": {
    "ExecuteTime": {
     "start_time": "2023-12-05T18:23:01.864823Z",
     "end_time": "2023-12-05T18:23:01.910640Z"
    }
   },
   "outputs": [
    {
     "data": {
      "text/plain": "Variable(6.0, grad_fn=Function.apply.<locals>.grad_fn)"
     },
     "execution_count": 17,
     "metadata": {},
     "output_type": "execute_result"
    }
   ],
   "source": [
    "u = ans.autograd.Variable(2.)\n",
    "v = ans.autograd.Variable(3.)\n",
    "w = Multiply.apply(u, v)\n",
    "w"
   ]
  },
  {
   "cell_type": "code",
   "execution_count": 18,
   "id": "5c98e25e-8562-48c3-8d39-8c90d799b61f",
   "metadata": {
    "ExecuteTime": {
     "start_time": "2023-12-05T18:23:03.621291Z",
     "end_time": "2023-12-05T18:23:03.652716Z"
    }
   },
   "outputs": [
    {
     "data": {
      "text/plain": "(True, True)"
     },
     "execution_count": 18,
     "metadata": {},
     "output_type": "execute_result"
    }
   ],
   "source": [
    "w.parents[0] is u, w.parents[1] is v"
   ]
  },
  {
   "cell_type": "code",
   "execution_count": 19,
   "id": "d2a18912-17e5-436a-92c9-be754676b61e",
   "metadata": {
    "ExecuteTime": {
     "start_time": "2023-12-05T18:23:04.981911Z",
     "end_time": "2023-12-05T18:23:05.034780Z"
    }
   },
   "outputs": [
    {
     "data": {
      "text/plain": "<function ans.functional.Function.apply.<locals>.grad_fn(dout: torch.Tensor) -> tuple[torch.Tensor, ...]>"
     },
     "execution_count": 19,
     "metadata": {},
     "output_type": "execute_result"
    }
   ],
   "source": [
    "w.grad_fn"
   ]
  },
  {
   "cell_type": "code",
   "execution_count": 20,
   "id": "96da1d47-1ab4-42f3-a1ec-84509a70670c",
   "metadata": {
    "ExecuteTime": {
     "start_time": "2023-12-05T18:23:07.343134Z",
     "end_time": "2023-12-05T18:23:07.381687Z"
    }
   },
   "outputs": [
    {
     "data": {
      "text/plain": "(tensor(3.), tensor(2.))"
     },
     "execution_count": 20,
     "metadata": {},
     "output_type": "execute_result"
    }
   ],
   "source": [
    "w.grad_fn(1.)  # du, dv"
   ]
  },
  {
   "cell_type": "markdown",
   "id": "cb9b787b-3ddc-4e08-a0b2-0e8a33072e4b",
   "metadata": {},
   "source": [
    "## Kontrola gradientů: `ans.autograd.gradcheck()`"
   ]
  },
  {
   "cell_type": "markdown",
   "id": "84a9795f-039a-4c0e-b546-50b3bf01fc57",
   "metadata": {},
   "source": [
    "Abychom si byli jistější, že jsme násobení implementovali správně, můžeme implementaci numericky zkontrolovat. Pokud některý ze vstupů nepatrně změníme, měl by se odpovídajícím způsobem změnit i výsledek. Analyticky odvozený gradient přitom vyjadřuje, jak velká tato změna bude v poměru ke změně na vstupu, pokud ta se limitně blíží nule. Pokud tedy vstup změníme o dostatečně malou hodnotu, musí se výsledek rovnat gradientu vrácenému ze zpětného průchodu. Pokud se oba výsledky nerovnají až na nějakou numerickou toleranci, chyba musí být na straně odvození či implementace zpětného průchodu. Numerický gradient se mýlit nemůže, protože měří skutečné změny na výstupu po spuštění dopředného průchodu se změněným vstupem. Celou takovouto kontrolu provádí metoda `ans.autograd.gradcheck()` a vlastně pouze ověřuje, zda si dopředný a zpětný průchod operace odpovídají. Může se tedy i stát, že `gradcheck` selže kvůli implementační chybě ve `forward` a přitom `backward` bude správně vůči analyticky odovzeným vztahům."
   ]
  },
  {
   "cell_type": "code",
   "execution_count": 21,
   "id": "38c00262-7bfd-4e0b-885b-15467393ef35",
   "metadata": {
    "ExecuteTime": {
     "start_time": "2023-12-05T18:23:09.303856Z",
     "end_time": "2023-12-05T18:23:09.399221Z"
    }
   },
   "outputs": [],
   "source": [
    "ans.autograd.gradcheck?"
   ]
  },
  {
   "cell_type": "markdown",
   "id": "463bfbb4-fbfa-4449-beef-a4775bf0ec67",
   "metadata": {},
   "source": [
    "Funkce `ans.autograd.gradcheck` převezme\n",
    "- nějakou funkci `func`, do které vstupují i ze které vystupují `ans.autograd.Variable`,\n",
    "- vstupy `inputs` typu `torch.Tensor` nebo `ans.autograd.Variable`,\n",
    "- případné nepovinné parametry `params`,\n",
    "- velikost změny na vstupu `eps` (pokud `None`, pak se spočítá automaticky jako 0.01 * standardní odchylka vstupu)\n",
    "- relativní povolenou toleranci `rtol`,\n",
    "- absolutní povolenou toleranci `atol`,\n",
    "- zda se mají či nemají vypisovat odchylky mezi analytickými a numerickými gradienty"
   ]
  },
  {
   "cell_type": "code",
   "execution_count": 22,
   "id": "d943034a-fb0a-4678-8688-d7882aca96f3",
   "metadata": {
    "ExecuteTime": {
     "start_time": "2023-12-05T18:23:12.614582Z",
     "end_time": "2023-12-05T18:23:12.684802Z"
    }
   },
   "outputs": [
    {
     "name": "stdout",
     "output_type": "stream",
     "text": [
      "dinput0 ok: rel_err=2.643e-14, abs_err=8.327e-15\n",
      "dinput1 ok: rel_err=1.596e-14, abs_err=6.106e-15\n",
      "dinput2 ok: rel_err=8.488e-15, abs_err=6.994e-15\n"
     ]
    },
    {
     "data": {
      "text/plain": "True"
     },
     "execution_count": 22,
     "metadata": {},
     "output_type": "execute_result"
    }
   ],
   "source": [
    "ans.autograd.gradcheck(Multiply.apply, (randn_var(3, 4), randn_var(3, 4), randn_var(3, 4)))"
   ]
  },
  {
   "cell_type": "markdown",
   "id": "e812db4e-c7a2-4133-b4ba-c13259e0e76f",
   "metadata": {},
   "source": [
    "Pro ověření si lze zkusit záměrně vytvořit chybu ve zpětném průchodu. Změňte zpětný průchod `Multiply.backward()` např. na\n",
    "``` python\n",
    "return tuple(doutputs * outputs / inpupts[0] for inp in inputs)\n",
    "```\n",
    "a spusťte `gradcheck` znovu."
   ]
  },
  {
   "cell_type": "markdown",
   "id": "9e754247-b411-4b41-8ef1-35eb5662796c",
   "metadata": {},
   "source": [
    "## Lineární (afinní) funkce $\\boldsymbol{z} = \\boldsymbol{x} \\cdot \\boldsymbol{w} + \\boldsymbol{b}$"
   ]
  },
  {
   "cell_type": "markdown",
   "id": "1b1809e7-2cbf-48e9-97e0-c72dfb7bf5eb",
   "metadata": {},
   "source": [
    "Jedním ze základních stavebních kamenů neurosítí je afinní operace, většinou nesprávně označovaná jako lineární (platí pouze bez biasu):\n",
    "\n",
    "**Dopředný průchod**\n",
    "\n",
    "$$\\boldsymbol{z}_n = \\boldsymbol{x}_n \\cdot \\boldsymbol{w} + \\boldsymbol{b}$$\n",
    "\n",
    "- $\\boldsymbol{x}_n = [x_{n,1}, \\ldots, x_{n,D}]$ je *řádkový* vektor s rozměrem $D$\n",
    "- $\\boldsymbol{w} = [w_{d,c}]$ je váhová matice tvaru $D \\times C$, tj. s $D$ řádky a $C$ sloupci\n",
    "- $\\boldsymbol{b} = [b_1, \\ldots, b_C]$ je řádkový vektor biasů s rozměrem $C$\n",
    "- $\\boldsymbol{z}_n = [z_{n,1}, \\ldots, z_{n,C}]$ je řádkový vektor výstupních lineárních skóre s rozměrem $C$\n",
    "\n",
    "**Zpětný průchod**\n",
    "\n",
    "$$\\overline{\\boldsymbol{x}}_n = \\overline{\\boldsymbol{z}}_n \\cdot \\boldsymbol{w}^\\top$$\n",
    "$$\\overline{\\boldsymbol{w}} = \\sum_{n=1}^N{\\boldsymbol{x}_n^\\top \\cdot \\overline{\\boldsymbol{z}}_n}$$\n",
    "$$\\overline{\\boldsymbol{b}} = \\sum_{n=1}^N{\\overline{\\boldsymbol{z}}_n}$$\n",
    "\n",
    "- $\\overline{\\boldsymbol{x}}_n, \\overline{\\boldsymbol{w}}, \\overline{\\boldsymbol{b}}$ jsou propagované \"odchozí\" gradienty na $\\boldsymbol{x}_n$, $\\boldsymbol{w}$, resp. $\\boldsymbol{b}$; každý gradient $\\overline{\\boldsymbol{v}}$ má vždy stejný rozměr jako odpovídající vstup $\\boldsymbol{v}\\in\\{\\boldsymbol{x}, \\boldsymbol{w}, \\boldsymbol{b}, \\boldsymbol{z}\\}$\n",
    "- $\\overline{\\boldsymbol{z}}_n = [\\overline{z}_1, \\ldots, \\overline{z}_C]$ je \"příchozí\" gradient na výstup $\\boldsymbol{z}_n$\n",
    "- $N$ je počet vzorků v dávce (batch size)\n",
    "\n",
    "**Dávkové zpracování**\n",
    "\n",
    "Vrstvu naimplementujeme tak, aby vstupy byly\n",
    "- **dávka vektorů** $\\boldsymbol{X} = [\\boldsymbol{x}_1; \\ldots; \\boldsymbol{x}_N]$ jako matice s rozměry $N \\times D$, tzn. jednotlivé vektory $\\boldsymbol{x}_n$ jdou po řádcích a $N$ značí velikost dávky (batch size)\n",
    "- váhová matice $\\boldsymbol{w}$\n",
    "- bias vektor $\\boldsymbol{b}$\n",
    "\n",
    "Výstup bude\n",
    "- matice $\\boldsymbol{Z} = [\\boldsymbol{z}_1; \\ldots; \\boldsymbol{z}_N]$ s rozměry $N \\times C$\n",
    "\n",
    "**Všechny další funkce budou takto zamýšleny rovněž, tj. s první dimenzí vstupního tensoru odpovídající jednotlivým vzorkům (např. obrázkům či vektorům) v dávce.**"
   ]
  },
  {
   "cell_type": "markdown",
   "id": "394b01b7-b6bd-4bf3-acc0-68e0951faf68",
   "metadata": {},
   "source": [
    "### TODO: implementuje třídu `ans.functional.Linear`"
   ]
  },
  {
   "cell_type": "code",
   "execution_count": 23,
   "id": "84f765c2-3aab-4963-9a62-b9bb0d353e45",
   "metadata": {
    "ExecuteTime": {
     "start_time": "2023-12-05T18:23:16.679542Z",
     "end_time": "2023-12-05T18:23:16.717036Z"
    }
   },
   "outputs": [
    {
     "name": "stdout",
     "output_type": "stream",
     "text": [
      "dinput ok: rel_err=1.632e-14, abs_err=7.994e-15\n",
      "dweight ok: rel_err=3.910e-14, abs_err=1.033e-14\n",
      "dbias ok: rel_err=2.333e-15, abs_err=2.109e-15\n"
     ]
    },
    {
     "data": {
      "text/plain": "True"
     },
     "execution_count": 23,
     "metadata": {},
     "output_type": "execute_result"
    }
   ],
   "source": [
    "ans.autograd.gradcheck(\n",
    "    ans.functional.Linear.apply,\n",
    "    (randn_var(2, 4, name='input'), randn_var(4, 3, name='weight'), randn_var(3, name='bias'))\n",
    ")"
   ]
  },
  {
   "cell_type": "code",
   "execution_count": 24,
   "id": "7c1ea99d-682e-409c-be4e-f171de188cac",
   "metadata": {
    "ExecuteTime": {
     "start_time": "2023-12-05T18:23:19.203169Z",
     "end_time": "2023-12-05T18:23:19.261039Z"
    }
   },
   "outputs": [
    {
     "name": "stderr",
     "output_type": "stream",
     "text": [
      "test_forward (tests.ANSTestCase.eval.<locals>._TestCaseClass.test_forward) ... ok\n",
      "test_gradcheck (tests.ANSTestCase.eval.<locals>._TestCaseClass.test_gradcheck) ... ok\n",
      "test_implementaiton (tests.ANSTestCase.eval.<locals>._TestCaseClass.test_implementaiton) ... ok\n",
      "\n",
      "----------------------------------------------------------------------\n",
      "Ran 3 tests in 0.013s\n",
      "\n",
      "OK\n"
     ]
    },
    {
     "data": {
      "text/plain": "<unittest.runner.TextTestResult run=3 errors=0 failures=0>"
     },
     "execution_count": 24,
     "metadata": {},
     "output_type": "execute_result"
    }
   ],
   "source": [
    "test_neural_library.TestLinearFunction.eval()"
   ]
  },
  {
   "cell_type": "markdown",
   "id": "61099930-1ffe-4997-9962-2c056278fba6",
   "metadata": {},
   "source": [
    "## Sigmoid aktivace"
   ]
  },
  {
   "cell_type": "markdown",
   "id": "56da523a-81cf-4e36-b4da-2a2d1ce0dcac",
   "metadata": {},
   "source": [
    "Mezi lineární vrstvy budeme pro začátek vkládat sigmoid nelinearitu a až později vyměníme za ReLU.\n",
    "\n",
    "**Dopředný průchod**\n",
    "\n",
    "$$z = \\frac{1}{1 + e^{-x}}$$\n",
    "- $x$ je reálné číslo (skalár)\n",
    "- $z$ je reálně číslo (skalár)\n",
    "\n",
    "**Zpětný průchod**\n",
    "\n",
    "$$\\overline{x} = \\overline{z} \\cdot z \\cdot (1 - z)$$\n",
    "- $\\overline{z}$ je příchozí gradient na $z$\n",
    "\n",
    "**Dávkové zpracování**\n",
    "\n",
    "Operace sigmoid aplikujeme na všechny prvky vstupu nezávisle na sobě."
   ]
  },
  {
   "cell_type": "markdown",
   "id": "7af92e8e-7c5b-481e-adb8-fc2ff844175f",
   "metadata": {},
   "source": [
    "### TODO: implementujte třídu `ans.functional.Sigmoid`"
   ]
  },
  {
   "cell_type": "code",
   "execution_count": 25,
   "id": "ac3bb8ed-d01e-4f3b-a25d-78d476594316",
   "metadata": {
    "ExecuteTime": {
     "start_time": "2023-12-05T18:23:21.855474Z",
     "end_time": "2023-12-05T18:23:21.914960Z"
    }
   },
   "outputs": [
    {
     "name": "stdout",
     "output_type": "stream",
     "text": [
      "dinput ok: rel_err=2.259e-05, abs_err=4.828e-06\n"
     ]
    },
    {
     "data": {
      "text/plain": "True"
     },
     "execution_count": 25,
     "metadata": {},
     "output_type": "execute_result"
    }
   ],
   "source": [
    "ans.autograd.gradcheck(\n",
    "    ans.functional.Sigmoid.apply,\n",
    "    (randn_var(2, 4, name='input', dtype=torch.float32),)\n",
    ")"
   ]
  },
  {
   "cell_type": "code",
   "execution_count": 26,
   "id": "2932dc1d-4bea-49c1-9000-3626c50b908f",
   "metadata": {
    "ExecuteTime": {
     "start_time": "2023-12-05T18:23:23.774962Z",
     "end_time": "2023-12-05T18:23:23.824966Z"
    }
   },
   "outputs": [
    {
     "name": "stderr",
     "output_type": "stream",
     "text": [
      "test_forward (tests.ANSTestCase.eval.<locals>._TestCaseClass.test_forward) ... ok\n",
      "test_gradcheck (tests.ANSTestCase.eval.<locals>._TestCaseClass.test_gradcheck) ... ok\n",
      "test_implementation (tests.ANSTestCase.eval.<locals>._TestCaseClass.test_implementation) ... ok\n",
      "\n",
      "----------------------------------------------------------------------\n",
      "Ran 3 tests in 0.011s\n",
      "\n",
      "OK\n"
     ]
    },
    {
     "data": {
      "text/plain": "<unittest.runner.TextTestResult run=3 errors=0 failures=0>"
     },
     "execution_count": 26,
     "metadata": {},
     "output_type": "execute_result"
    }
   ],
   "source": [
    "test_neural_library.TestSigmoidFunction.eval()"
   ]
  },
  {
   "cell_type": "markdown",
   "id": "2d6ea49c-0180-4b10-b728-935c5d56d00a",
   "metadata": {},
   "source": [
    "## Křížová entropie pro klasifikaci softmaxem"
   ]
  },
  {
   "cell_type": "markdown",
   "id": "2f4467cf-0982-4214-af01-ddb69506c825",
   "metadata": {},
   "source": [
    "Podobně jako v prvním cvičení [linear-classification.ipynb](linear-classification.ipynb) si křížovou entropii zadefinujeme tak, aby vstupem byla skóre neznormalizovaná softmaxem, tj. např. výstup z poslední lineární vrstvy.\n",
    "\n",
    "**Dopředný průchod**\n",
    "\n",
    "$$\n",
    "l_n = -\\log\\frac{\\exp{z_{n,y_n}}}{\\sum_{i=1}^{C}\\exp{z_{n,i}}}\n",
    "$$\n",
    "- $\\boldsymbol{z}_n = [z_{n,1}, \\ldots, z_{n,C}]$ je řádkový vektor (rozměr $C$), typicky \"před-softmax\" skóre z poslední vrstvy predikované klasifikátorem pro jeden aktuální vstup\n",
    "- $y_n \\in \\{1, \\ldots, C\\}$ je číslo (skalár) označující správnou třídu pro jeden aktuální vstup\n",
    "- $l_n$ je výsledná skalární hodnota vyjadřující, jak dobře pravděpodobnosti predikované klasifikátorem pro jednotlivé třídy odpovídají cílovému rozdělení pro jeden aktuální vstup\n",
    "\n",
    "**Zpětný průchod**\n",
    "\n",
    "$$\n",
    "\\overline{z}_{n,c} = \\frac{\\exp{z_{n,c}}}{\\sum_{i=1}^{C}\\exp{z_{n,i}}} - \\mathbb{1}(c = y_n)\n",
    "$$\n",
    "<!-- - $\\overline{\\boldsymbol{z}} = [\\overline{z_1}, \\ldots, \\overline{z_C}]$ je příchozí gradient  -->\n",
    "- $\\mathbb{1}(\\cdot)$ je rovno 1, pokud je splněna podmínka $\\cdot$, jinak 0\n",
    "\n",
    "**Dávkové zpracování**\n",
    "\n",
    "Vstupy budou\n",
    "- dávka predikovaných skóre $\\boldsymbol{Z} = [\\boldsymbol{z}_1; \\ldots; \\boldsymbol{z}_N]$ jako matice s rozměry $N \\times C$, tzn. jednotlivé vektory $\\boldsymbol{z}_n$ jdou po řádcích a $N$ značí velikost dávky (batch size)\n",
    "- dávka \"targetů\" $\\boldsymbol{y} = [y_1, \\ldots, y_N]$ jako vektor s rozměrem $N$\n",
    "\n",
    "Výstupy budou\n",
    "- celkový loss $l = \\frac{1}{N}\\sum_{n=1}^Nl_n$ jako průměr dílčích lossů za jednotlivé vektory predikcí $\\boldsymbol{z}_n$\n",
    "\n",
    "**Numerická stabilita**\n",
    "\n",
    "Během kontroly gradientů, kdy se pracuje s datovým typem `float64`, se nejspíše žádné problémy s numerickou (ne)stabilitou neprojeví. Pokud ovšem budeme funkci `SoftmaxCrossEntropy` používat s 32bitovými reálnými čísly `float32`, může vlivem umocňování funkcí `exp` docházet k přetékání numerické přenosti pro $z_c \\gg 1$. Odolnost funkce vůči příliš velkým vstupům lze vylepšit odečtením maxima z každého vstupního vektoru\n",
    "$$\\boldsymbol{z}_n := \\boldsymbol{z}_n - \\max(\\boldsymbol{z}_n)$$\n",
    "Takže výpočet bude ve skutečnosti\n",
    "$$\n",
    "l_n = -\\log\\frac{\\exp{(z_{n,y} - \\max(\\boldsymbol{z}_n))}}{\\sum_{i=1}^{C}\\exp{(z_{n,i} - \\max(\\boldsymbol{z}_n))}}\n",
    "$$\n",
    "před výpočtem $l$ v dopředném průchodu. Výpočet $l$ to neovlivní, protože pro libovolná reálná čísla $z$, $a$ platí\n",
    "$$\\exp{(z - a)} = \\exp{z}\\cdot\\exp{(-a)}$$\n",
    "a člen $\\exp{(-a)}$ lze vytknout z čitatele i jmenovatele a tím pádem se normalizace odečtením maxima vykrátí."
   ]
  },
  {
   "cell_type": "markdown",
   "id": "5350b044-20c5-42e1-8d65-2fce5fe2fe2c",
   "metadata": {},
   "source": [
    "### TODO: implementujte třídu `ans.functional.SoftmaxCrossEntropy`"
   ]
  },
  {
   "cell_type": "code",
   "execution_count": 29,
   "id": "537495e1-574d-46fb-ad15-b8b1c3184e21",
   "metadata": {
    "ExecuteTime": {
     "start_time": "2023-12-05T18:24:59.465654Z",
     "end_time": "2023-12-05T18:25:00.423703Z"
    }
   },
   "outputs": [
    {
     "name": "stdout",
     "output_type": "stream",
     "text": [
      "dscores ok: rel_err=1.761e-05, abs_err=2.277e-07\n"
     ]
    },
    {
     "data": {
      "text/plain": "True"
     },
     "execution_count": 29,
     "metadata": {},
     "output_type": "execute_result"
    }
   ],
   "source": [
    "ans.autograd.gradcheck(\n",
    "    ans.functional.SoftmaxCrossEntropy.apply,\n",
    "    (randn_var(10, 4, name='scores'), torch.randint(-1, 4, (10,)))\n",
    ")"
   ]
  },
  {
   "cell_type": "code",
   "execution_count": 30,
   "id": "860333c4-2e9e-4d41-be96-f6c8d5b84c4e",
   "metadata": {
    "ExecuteTime": {
     "start_time": "2023-12-05T18:25:03.730046Z",
     "end_time": "2023-12-05T18:25:03.819108Z"
    }
   },
   "outputs": [
    {
     "name": "stderr",
     "output_type": "stream",
     "text": [
      "test_forward (tests.ANSTestCase.eval.<locals>._TestCaseClass.test_forward) ... ok\n",
      "test_gradcheck (tests.ANSTestCase.eval.<locals>._TestCaseClass.test_gradcheck) ... ok\n",
      "test_implementation (tests.ANSTestCase.eval.<locals>._TestCaseClass.test_implementation) ... ok\n",
      "\n",
      "----------------------------------------------------------------------\n",
      "Ran 3 tests in 0.028s\n",
      "\n",
      "OK\n"
     ]
    },
    {
     "data": {
      "text/plain": "<unittest.runner.TextTestResult run=3 errors=0 failures=0>"
     },
     "execution_count": 30,
     "metadata": {},
     "output_type": "execute_result"
    }
   ],
   "source": [
    "test_neural_library.TestSoftmaxCrossEntropyFunction.eval()"
   ]
  },
  {
   "cell_type": "markdown",
   "id": "3864f81b-d460-495a-b954-1e4598bd3f72",
   "metadata": {},
   "source": [
    "## Dvouvrstvý perceptron"
   ]
  },
  {
   "cell_type": "markdown",
   "id": "abc56a40-c823-4691-99cc-22b0fd8c2f2a",
   "metadata": {},
   "source": [
    "Základní bloky `Linear` a `Sigmoid` jsme navrhli jako funkce, takže je můžeme libovolně volat a skládat za sebe. Např. vícevrstvý bychom nyní mohli implementovat následovně. Nejprve inicializujeme \"toy data\" s deseti vstupními vektory, které budeme klasifikovat do 3 tříd. Jelikož gradienty na data nás nezajímají, budou to \"neobalené\" `torch.Tensor`y."
   ]
  },
  {
   "cell_type": "code",
   "execution_count": 31,
   "id": "69470be2-f722-4e8a-9f9b-0a611d55d463",
   "metadata": {
    "ExecuteTime": {
     "start_time": "2023-12-05T18:25:08.732883Z",
     "end_time": "2023-12-05T18:25:08.787165Z"
    }
   },
   "outputs": [],
   "source": [
    "x = torch.randn(10, 5)  # toy data\n",
    "y = torch.randint(3, (10,))  # toy targets with 3 classes"
   ]
  },
  {
   "cell_type": "markdown",
   "id": "e4e98150-266b-485c-be17-e4ddd1245a44",
   "metadata": {},
   "source": [
    "Poté incializujeme parametry sítě:"
   ]
  },
  {
   "cell_type": "code",
   "execution_count": 32,
   "id": "31dd7f00-8046-43dc-8d9d-85c40046bf44",
   "metadata": {
    "ExecuteTime": {
     "start_time": "2023-12-05T18:25:10.170896Z",
     "end_time": "2023-12-05T18:25:10.222196Z"
    }
   },
   "outputs": [],
   "source": [
    "w1 = ans.autograd.Variable(0.001 * torch.randn(5, 4))  # weight matrix for layer 1\n",
    "b1 = ans.autograd.Variable(torch.zeros(4))  # bias vector for layer 1\n",
    "w2 = ans.autograd.Variable(0.001 * torch.randn(4, 3))  # weight matrix for layer 2\n",
    "b2 = ans.autograd.Variable(torch.zeros(3))  # bias vector for layer 2"
   ]
  },
  {
   "cell_type": "markdown",
   "id": "a3722ac0-2bd3-4608-829d-8623ddc47240",
   "metadata": {},
   "source": [
    "Provedeme dopředný průchod:"
   ]
  },
  {
   "cell_type": "code",
   "execution_count": 33,
   "id": "1fe353a7-9801-4696-ae49-81ee92a35885",
   "metadata": {
    "ExecuteTime": {
     "start_time": "2023-12-05T18:25:11.506155Z",
     "end_time": "2023-12-05T18:25:11.556025Z"
    }
   },
   "outputs": [
    {
     "data": {
      "text/plain": "Variable(shape=(10, 3), grad_fn=Function.apply.<locals>.grad_fn)"
     },
     "execution_count": 33,
     "metadata": {},
     "output_type": "execute_result"
    }
   ],
   "source": [
    "z1 = ans.functional.Linear.apply(x, w1, b1)\n",
    "h1 = ans.functional.Sigmoid.apply(z1)\n",
    "z2 = ans.functional.Linear.apply(h1, w2, b2)\n",
    "z2  # predicted scores"
   ]
  },
  {
   "cell_type": "markdown",
   "id": "876254b9-803d-41c0-aac8-ede6b731109e",
   "metadata": {},
   "source": [
    "Spočítáme loss:"
   ]
  },
  {
   "cell_type": "code",
   "execution_count": 34,
   "id": "cab81446-d5b5-4893-9db9-ed30988180c1",
   "metadata": {
    "ExecuteTime": {
     "start_time": "2023-12-05T18:25:13.130189Z",
     "end_time": "2023-12-05T18:25:13.198701Z"
    }
   },
   "outputs": [
    {
     "data": {
      "text/plain": "Variable(1.098233938217163, grad_fn=Function.apply.<locals>.grad_fn)"
     },
     "execution_count": 34,
     "metadata": {},
     "output_type": "execute_result"
    }
   ],
   "source": [
    "loss = ans.functional.SoftmaxCrossEntropy.apply(z2, y)\n",
    "loss"
   ]
  },
  {
   "cell_type": "markdown",
   "id": "741d8b2f-0890-4d16-9185-7297413cccfc",
   "metadata": {},
   "source": [
    "V grafu neuvidíme všechny uzly, ale pouze takové, které jsou typu `Variable`. Uzly typu `torch.Tensor` se totiž nezapisují do atributu `parents`."
   ]
  },
  {
   "cell_type": "code",
   "execution_count": 35,
   "id": "41ec3d17-84b5-49ed-b5c3-fe3116a87977",
   "metadata": {
    "ExecuteTime": {
     "start_time": "2023-12-05T18:25:14.629647Z",
     "end_time": "2023-12-05T18:25:14.895957Z"
    }
   },
   "outputs": [
    {
     "data": {
      "image/svg+xml": "<?xml version=\"1.0\" encoding=\"UTF-8\" standalone=\"no\"?>\n<!DOCTYPE svg PUBLIC \"-//W3C//DTD SVG 1.1//EN\"\n \"http://www.w3.org/Graphics/SVG/1.1/DTD/svg11.dtd\">\n<!-- Generated by graphviz version 8.1.0 (20230707.0739)\n -->\n<!-- Pages: 1 -->\n<svg width=\"1229pt\" height=\"183pt\"\n viewBox=\"0.00 0.00 1229.45 183.00\" xmlns=\"http://www.w3.org/2000/svg\" xmlns:xlink=\"http://www.w3.org/1999/xlink\">\n<g id=\"graph0\" class=\"graph\" transform=\"scale(1 1) rotate(0) translate(4 179)\">\n<polygon fill=\"white\" stroke=\"none\" points=\"-4,4 -4,-179 1225.45,-179 1225.45,4 -4,4\"/>\n<!-- 140382061610384 -->\n<g id=\"node1\" class=\"node\">\n<title>140382061610384</title>\n<polygon fill=\"none\" stroke=\"black\" points=\"1137.2,-55.5 1137.2,-91.5 1221.45,-91.5 1221.45,-55.5 1137.2,-55.5\"/>\n<text text-anchor=\"middle\" x=\"1179.32\" y=\"-69.2\" font-family=\"Times,serif\" font-size=\"14.00\">_ = 1.098</text>\n</g>\n<!-- 140382061610384.grad_fn -->\n<g id=\"node2\" class=\"node\">\n<title>140382061610384.grad_fn</title>\n<ellipse fill=\"none\" stroke=\"black\" cx=\"979.49\" cy=\"-73.5\" rx=\"121.71\" ry=\"18\"/>\n<text text-anchor=\"middle\" x=\"979.49\" y=\"-68.83\" font-family=\"Times,serif\" font-size=\"14.00\">SoftmaxCrossEntropy</text>\n</g>\n<!-- 140382061610384.grad_fn&#45;&gt;140382061610384 -->\n<g id=\"edge1\" class=\"edge\">\n<title>140382061610384.grad_fn&#45;&gt;140382061610384</title>\n<path fill=\"none\" stroke=\"black\" d=\"M1101.55,-73.5C1110.28,-73.5 1118.76,-73.5 1126.71,-73.5\"/>\n<polygon fill=\"black\" stroke=\"black\" points=\"1126.56,-77 1136.56,-73.5 1126.56,-70 1126.56,-77\"/>\n</g>\n<!-- 140382055910480 -->\n<g id=\"node3\" class=\"node\">\n<title>140382055910480</title>\n<polygon fill=\"none\" stroke=\"black\" points=\"741.29,-55.5 741.29,-91.5 821.79,-91.5 821.79,-55.5 741.29,-55.5\"/>\n<text text-anchor=\"middle\" x=\"781.54\" y=\"-69.2\" font-family=\"Times,serif\" font-size=\"14.00\">__ (10, 3)</text>\n</g>\n<!-- 140382055910480&#45;&gt;140382061610384.grad_fn -->\n<g id=\"edge2\" class=\"edge\">\n<title>140382055910480&#45;&gt;140382061610384.grad_fn</title>\n<path fill=\"none\" stroke=\"black\" d=\"M821.72,-73.5C829.34,-73.5 837.72,-73.5 846.51,-73.5\"/>\n<polygon fill=\"black\" stroke=\"black\" points=\"846.42,-77 856.42,-73.5 846.42,-70 846.42,-77\"/>\n</g>\n<!-- 140382055910480.grad_fn -->\n<g id=\"node4\" class=\"node\">\n<title>140382055910480.grad_fn</title>\n<ellipse fill=\"none\" stroke=\"black\" cx=\"661.97\" cy=\"-73.5\" rx=\"43.32\" ry=\"18\"/>\n<text text-anchor=\"middle\" x=\"661.97\" y=\"-68.83\" font-family=\"Times,serif\" font-size=\"14.00\">Linear</text>\n</g>\n<!-- 140382055910480.grad_fn&#45;&gt;140382055910480 -->\n<g id=\"edge3\" class=\"edge\">\n<title>140382055910480.grad_fn&#45;&gt;140382055910480</title>\n<path fill=\"none\" stroke=\"black\" d=\"M705.75,-73.5C713.87,-73.5 722.44,-73.5 730.76,-73.5\"/>\n<polygon fill=\"black\" stroke=\"black\" points=\"730.5,-77 740.5,-73.5 730.5,-70 730.5,-77\"/>\n</g>\n<!-- 140382055987728 -->\n<g id=\"node5\" class=\"node\">\n<title>140382055987728</title>\n<polygon fill=\"none\" stroke=\"black\" points=\"497.65,-110.5 497.65,-146.5 582.65,-146.5 582.65,-110.5 497.65,-110.5\"/>\n<text text-anchor=\"middle\" x=\"540.15\" y=\"-124.2\" font-family=\"Times,serif\" font-size=\"14.00\">h1 (10, 4)</text>\n</g>\n<!-- 140382055987728&#45;&gt;140382055910480.grad_fn -->\n<g id=\"edge4\" class=\"edge\">\n<title>140382055987728&#45;&gt;140382055910480.grad_fn</title>\n<path fill=\"none\" stroke=\"black\" d=\"M580.05,-110.64C593.56,-104.44 608.69,-97.5 622.19,-91.3\"/>\n<polygon fill=\"black\" stroke=\"black\" points=\"623.5,-94.09 631.13,-86.74 620.58,-87.73 623.5,-94.09\"/>\n</g>\n<!-- 140382061315792 -->\n<g id=\"node6\" class=\"node\">\n<title>140382061315792</title>\n<polygon fill=\"none\" stroke=\"black\" points=\"500.65,-55.5 500.65,-91.5 579.65,-91.5 579.65,-55.5 500.65,-55.5\"/>\n<text text-anchor=\"middle\" x=\"540.15\" y=\"-69.2\" font-family=\"Times,serif\" font-size=\"14.00\">w2 (4, 3)</text>\n</g>\n<!-- 140382061315792&#45;&gt;140382055910480.grad_fn -->\n<g id=\"edge5\" class=\"edge\">\n<title>140382061315792&#45;&gt;140382055910480.grad_fn</title>\n<path fill=\"none\" stroke=\"black\" d=\"M579.39,-73.5C588.35,-73.5 598.06,-73.5 607.54,-73.5\"/>\n<polygon fill=\"black\" stroke=\"black\" points=\"607.52,-77 617.52,-73.5 607.52,-70 607.52,-77\"/>\n</g>\n<!-- 140382061341520 -->\n<g id=\"node7\" class=\"node\">\n<title>140382061341520</title>\n<polygon fill=\"none\" stroke=\"black\" points=\"508.9,-0.5 508.9,-36.5 571.4,-36.5 571.4,-0.5 508.9,-0.5\"/>\n<text text-anchor=\"middle\" x=\"540.15\" y=\"-14.2\" font-family=\"Times,serif\" font-size=\"14.00\">b2 (3,)</text>\n</g>\n<!-- 140382061341520&#45;&gt;140382055910480.grad_fn -->\n<g id=\"edge6\" class=\"edge\">\n<title>140382061341520&#45;&gt;140382055910480.grad_fn</title>\n<path fill=\"none\" stroke=\"black\" d=\"M571.39,-32.38C586.77,-39.44 605.65,-48.11 622.11,-55.66\"/>\n<polygon fill=\"black\" stroke=\"black\" points=\"620.44,-59.2 630.98,-60.19 623.36,-52.84 620.44,-59.2\"/>\n</g>\n<!-- 140382055987728.grad_fn -->\n<g id=\"node8\" class=\"node\">\n<title>140382055987728.grad_fn</title>\n<ellipse fill=\"none\" stroke=\"black\" cx=\"409.39\" cy=\"-128.5\" rx=\"52.26\" ry=\"18\"/>\n<text text-anchor=\"middle\" x=\"409.39\" y=\"-123.83\" font-family=\"Times,serif\" font-size=\"14.00\">Sigmoid</text>\n</g>\n<!-- 140382055987728.grad_fn&#45;&gt;140382055987728 -->\n<g id=\"edge7\" class=\"edge\">\n<title>140382055987728.grad_fn&#45;&gt;140382055987728</title>\n<path fill=\"none\" stroke=\"black\" d=\"M462.02,-128.5C470.2,-128.5 478.66,-128.5 486.86,-128.5\"/>\n<polygon fill=\"black\" stroke=\"black\" points=\"486.81,-132 496.81,-128.5 486.81,-125 486.81,-132\"/>\n</g>\n<!-- 140382061391824 -->\n<g id=\"node9\" class=\"node\">\n<title>140382061391824</title>\n<polygon fill=\"none\" stroke=\"black\" points=\"237.63,-110.5 237.63,-146.5 321.13,-146.5 321.13,-110.5 237.63,-110.5\"/>\n<text text-anchor=\"middle\" x=\"279.38\" y=\"-124.2\" font-family=\"Times,serif\" font-size=\"14.00\">z1 (10, 4)</text>\n</g>\n<!-- 140382061391824&#45;&gt;140382055987728.grad_fn -->\n<g id=\"edge8\" class=\"edge\">\n<title>140382061391824&#45;&gt;140382055987728.grad_fn</title>\n<path fill=\"none\" stroke=\"black\" d=\"M320.89,-128.5C328.92,-128.5 337.53,-128.5 346.1,-128.5\"/>\n<polygon fill=\"black\" stroke=\"black\" points=\"345.88,-132 355.88,-128.5 345.88,-125 345.88,-132\"/>\n</g>\n<!-- 140382061391824.grad_fn -->\n<g id=\"node10\" class=\"node\">\n<title>140382061391824.grad_fn</title>\n<ellipse fill=\"none\" stroke=\"black\" cx=\"158.32\" cy=\"-128.5\" rx=\"43.32\" ry=\"18\"/>\n<text text-anchor=\"middle\" x=\"158.32\" y=\"-123.83\" font-family=\"Times,serif\" font-size=\"14.00\">Linear</text>\n</g>\n<!-- 140382061391824.grad_fn&#45;&gt;140382061391824 -->\n<g id=\"edge9\" class=\"edge\">\n<title>140382061391824.grad_fn&#45;&gt;140382061391824</title>\n<path fill=\"none\" stroke=\"black\" d=\"M201.97,-128.5C210.13,-128.5 218.76,-128.5 227.16,-128.5\"/>\n<polygon fill=\"black\" stroke=\"black\" points=\"227.02,-132 237.02,-128.5 227.02,-125 227.02,-132\"/>\n</g>\n<!-- 140382819215120 -->\n<g id=\"node11\" class=\"node\">\n<title>140382819215120</title>\n<polygon fill=\"none\" stroke=\"black\" points=\"0,-138.5 0,-174.5 79,-174.5 79,-138.5 0,-138.5\"/>\n<text text-anchor=\"middle\" x=\"39.5\" y=\"-152.2\" font-family=\"Times,serif\" font-size=\"14.00\">w1 (5, 4)</text>\n</g>\n<!-- 140382819215120&#45;&gt;140382061391824.grad_fn -->\n<g id=\"edge10\" class=\"edge\">\n<title>140382819215120&#45;&gt;140382061391824.grad_fn</title>\n<path fill=\"none\" stroke=\"black\" d=\"M78.75,-147.33C88.63,-144.96 99.38,-142.39 109.67,-139.92\"/>\n<polygon fill=\"black\" stroke=\"black\" points=\"110.27,-143.14 119.17,-137.4 108.63,-136.33 110.27,-143.14\"/>\n</g>\n<!-- 140382057040976 -->\n<g id=\"node12\" class=\"node\">\n<title>140382057040976</title>\n<polygon fill=\"none\" stroke=\"black\" points=\"8.25,-83.5 8.25,-119.5 70.75,-119.5 70.75,-83.5 8.25,-83.5\"/>\n<text text-anchor=\"middle\" x=\"39.5\" y=\"-97.2\" font-family=\"Times,serif\" font-size=\"14.00\">b1 (4,)</text>\n</g>\n<!-- 140382057040976&#45;&gt;140382061391824.grad_fn -->\n<g id=\"edge11\" class=\"edge\">\n<title>140382057040976&#45;&gt;140382061391824.grad_fn</title>\n<path fill=\"none\" stroke=\"black\" d=\"M70.58,-108.45C82.42,-111.19 96.32,-114.4 109.47,-117.44\"/>\n<polygon fill=\"black\" stroke=\"black\" points=\"108.27,-120.99 118.81,-119.83 109.85,-114.17 108.27,-120.99\"/>\n</g>\n</g>\n</svg>\n",
      "text/plain": "<graphviz.graphs.Digraph at 0x7fad3e935b10>"
     },
     "execution_count": 35,
     "metadata": {},
     "output_type": "execute_result"
    }
   ],
   "source": [
    "loss.to_graphviz()  # re-run this a few times if variables have names like '__'"
   ]
  },
  {
   "cell_type": "markdown",
   "id": "4cb6333d-c818-4ed1-90b2-226378d7b18c",
   "metadata": {},
   "source": [
    "Provedeme zpětnou propagaci:"
   ]
  },
  {
   "cell_type": "code",
   "execution_count": 36,
   "id": "7cfbdfbc-1fde-4962-9ab1-1ff7b910660f",
   "metadata": {
    "ExecuteTime": {
     "start_time": "2023-12-05T18:25:21.967555Z",
     "end_time": "2023-12-05T18:25:22.010393Z"
    }
   },
   "outputs": [],
   "source": [
    "loss.backprop()"
   ]
  },
  {
   "cell_type": "markdown",
   "id": "6a5102f6-68da-4a84-a0d9-6be4ca10d729",
   "metadata": {},
   "source": [
    "Konečně trochu pocítíme výhodu automatického výpočtu gradientů, tzv. autogradu. Všechny uzly v grafu typu `Variable` teď mají vyplněny atribut `grad`, který obsahuje gradient $\\partial l/\\partial u$, kde $l$ je celkový loss a $u$ je nějaký uzel. Jelikož vstup jsme nechali jako `torch.Tensor`, gradienty jsme obdrželi pouze na parametry sítě `W1, b1, W2, b2`."
   ]
  },
  {
   "cell_type": "code",
   "execution_count": 37,
   "id": "325c48a7-b326-411b-afdb-ffeff284ce5e",
   "metadata": {
    "ExecuteTime": {
     "start_time": "2023-12-05T18:25:32.771237Z",
     "end_time": "2023-12-05T18:25:32.839441Z"
    }
   },
   "outputs": [
    {
     "data": {
      "text/plain": "tensor([[ 1.65e-04,  5.44e-05,  4.43e-05,  5.23e-05],\n        [ 8.87e-06,  4.68e-06, -4.19e-06, -3.99e-08],\n        [-1.03e-05, -1.02e-06, -1.17e-05, -7.13e-06],\n        [-5.01e-05,  1.59e-05, -1.35e-04, -6.86e-05],\n        [-1.70e-06,  2.21e-05, -8.54e-05, -3.74e-05]])"
     },
     "execution_count": 37,
     "metadata": {},
     "output_type": "execute_result"
    }
   ],
   "source": [
    "w1.grad"
   ]
  },
  {
   "cell_type": "code",
   "execution_count": 38,
   "id": "99936173-d09d-42a1-bbc9-8980bad59b0d",
   "metadata": {
    "ExecuteTime": {
     "start_time": "2023-12-05T18:25:34.277589Z",
     "end_time": "2023-12-05T18:25:34.341299Z"
    }
   },
   "outputs": [
    {
     "data": {
      "text/plain": "tensor([ 3.56e-06,  4.59e-05, -1.67e-04, -7.16e-05])"
     },
     "execution_count": 38,
     "metadata": {},
     "output_type": "execute_result"
    }
   ],
   "source": [
    "b1.grad"
   ]
  },
  {
   "cell_type": "code",
   "execution_count": 39,
   "id": "35a0ba62-8563-4c3d-9328-9749e0b30a7d",
   "metadata": {
    "ExecuteTime": {
     "start_time": "2023-12-05T18:25:35.763071Z",
     "end_time": "2023-12-05T18:25:35.789342Z"
    }
   },
   "outputs": [
    {
     "data": {
      "text/plain": "tensor([[-0.08, -0.03,  0.12],\n        [-0.08, -0.03,  0.12],\n        [-0.08, -0.03,  0.12],\n        [-0.08, -0.03,  0.12]])"
     },
     "execution_count": 39,
     "metadata": {},
     "output_type": "execute_result"
    }
   ],
   "source": [
    "w2.grad"
   ]
  },
  {
   "cell_type": "code",
   "execution_count": 40,
   "id": "49abf8fa-5fca-46fc-95e4-835d5a4adf8c",
   "metadata": {
    "ExecuteTime": {
     "start_time": "2023-12-05T18:25:37.137910Z",
     "end_time": "2023-12-05T18:25:37.217590Z"
    }
   },
   "outputs": [
    {
     "data": {
      "text/plain": "tensor([-0.17, -0.07,  0.23])"
     },
     "execution_count": 40,
     "metadata": {},
     "output_type": "execute_result"
    }
   ],
   "source": [
    "b2.grad"
   ]
  },
  {
   "cell_type": "markdown",
   "id": "e1b164ab-df04-49b0-8b2f-8c554caa7f81",
   "metadata": {},
   "source": [
    "Pokud bychom nyní chtěli síť trénovat, updatovali bychom gradienty např. standardním SGD pravidlem jako např. `W1.data -= learning_rate * W1.grad`."
   ]
  },
  {
   "cell_type": "markdown",
   "id": "325cd17d-95fc-47b9-8b75-2c27388be22b",
   "metadata": {},
   "source": [
    "# Objektové rozhraní: `ans.modules` a třída `Module`"
   ]
  },
  {
   "cell_type": "markdown",
   "id": "bde627e3-8f91-49e5-9031-653540a9e11e",
   "metadata": {},
   "source": [
    "Systém ovšem stále ještě není optimálně konfigurovatelný.\n",
    "1. Musíme manuálně inicializovat parametry. Lepší by bylo, kdybychom např. u funkce `Linear` mohli jednoduše zadat požadované rozměry vstupu a výstupu a vše ostatní by bylo schované v její implementaci.\n",
    "2. Musíme rovněž specifikovat dopředný průchod. Mohli bychom vše např. navrhnout tak, že zadáme pouze posloupnost požadovaných operací, která se má se vstupem v daném pořadí provést.\n",
    "\n",
    "Základní stavební bloky si proto navrhneme tak, abychom je mohli používat jako objekty. Např. lineární vrstvu zadefinujeme jako třídu `Linear` a budeme používat takto:\n",
    "``` python\n",
    "x = torch.randn(10, 5)  # data (num_inputs, input_size)\n",
    "linear = ans.modules.Linear(5, 4)  # (input_size, output_size)\n",
    "z = linear(x)  # z = xW + b\n",
    "```\n",
    "\n",
    "Všechny takto navržené vrstvy umístíme do modulu `ans.modules` a budou dědit od základní třídy `Module`, která implementuje funkcionalitu společnou pro všechny vrstvy - např. navrácení seznamu parametrů či přepis magické metody `__call__` apod. - a zamezuje tak zbytečné duplicitě kódu. Každá vrstva odvozená od `Module` musí přepsat:\n",
    "1. `forward`, kde definuje dopředný průchod,\n",
    "2. nepovinně `__init__`, kde vyřeší příp. inicializaci parametrů apod.\n",
    "\n",
    "Nebudeme přitom samozřejmě reimplementovat lineární a sigmoid funkce znovu, ale z vrstev odvozených z `Module` budeme volat funkce z modulu `ans.functional`."
   ]
  },
  {
   "cell_type": "markdown",
   "id": "fbdc663a-1174-43ca-a803-2ade9c603d27",
   "metadata": {},
   "source": [
    "## Vrstva `Linear`"
   ]
  },
  {
   "cell_type": "markdown",
   "id": "91dc7562-d0d5-4630-b42a-fed470b30fc4",
   "metadata": {},
   "source": [
    "Lineární funkce jako vrstva by měla:\n",
    "- uchovávat v sobě a v metodě `__init__` automaticky vhodně inicializovat parametry $\\boldsymbol{w}$ a $\\boldsymbol{b}$, tedy váhy a bias\n",
    "- v dopředném průchodu `forward` vypočítat výstup jako $\\boldsymbol{z}_n = \\boldsymbol{x}_n\\cdot\\boldsymbol{w} + \\boldsymbol{b}$\n",
    "\n",
    "Inicializovat váhy budeme jednou z variant metody Xavier, kde prvky váhové matice $\\boldsymbol{w} = [w_{d,c}]$ s rozměry $D \\times C$ pocházejí z rovnoměrného náhodného rozdělení\n",
    "$$\n",
    "w_{d,c} \\sim \\mathcal{U}\\left(\\frac{-1}{\\sqrt D}, \\frac{+1}{\\sqrt D}\\right)\n",
    "$$\n",
    "Použijeme k tomu metodu [`torch.rand`](https://pytorch.org/docs/stable/generated/torch.rand.html).\n",
    "\n",
    "Bias inicializujeme na nuly metodou [`torch.zeros`](https://pytorch.org/docs/stable/generated/torch.zeros.html).\n",
    "\n",
    "Váhová matice $\\boldsymbol{w}$ a bias vektor $\\boldsymbol{b}$ musejí být definovány a inicializovány v mětodě `__init__` třídy `Linear` jako atributy typu `Variable`, aby na ně `grad_fn`, která se automaticky přiřazuje do výstupní `Variable` v metodě `Function.apply` vracela gradient. Základní třída `Module` rovněž definuje metodu `named_parameters()`, která vrací seznam všech trénovatelných parametrů daného modulu, přičemž za takové parametry považuje všechny atributy typu `Variable`.\n",
    "\n",
    "Dopředný průchod `Linear.forward` by měl volat `ans.functional.Linear.apply`."
   ]
  },
  {
   "cell_type": "markdown",
   "id": "5884ff10-874a-4e8a-a824-4cb27053923f",
   "metadata": {},
   "source": [
    "### TODO: implementujte vrstvu `Linear`"
   ]
  },
  {
   "cell_type": "code",
   "execution_count": 43,
   "id": "dfaeee9a-9525-4bd5-87b9-9f745061f816",
   "metadata": {
    "ExecuteTime": {
     "start_time": "2023-12-05T18:28:10.132987Z",
     "end_time": "2023-12-05T18:28:10.732423Z"
    }
   },
   "outputs": [
    {
     "name": "stderr",
     "output_type": "stream",
     "text": [
      "test_forward (tests.ANSTestCase.eval.<locals>._TestCaseClass.test_forward) ... ok\n",
      "test_implementaiton (tests.ANSTestCase.eval.<locals>._TestCaseClass.test_implementaiton) ... ok\n",
      "test_init (tests.ANSTestCase.eval.<locals>._TestCaseClass.test_init) ... ok\n",
      "\n",
      "----------------------------------------------------------------------\n",
      "Ran 3 tests in 0.005s\n",
      "\n",
      "OK\n"
     ]
    },
    {
     "data": {
      "text/plain": "<unittest.runner.TextTestResult run=3 errors=0 failures=0>"
     },
     "execution_count": 43,
     "metadata": {},
     "output_type": "execute_result"
    }
   ],
   "source": [
    "test_neural_library.TestLinearModule.eval()"
   ]
  },
  {
   "cell_type": "markdown",
   "id": "a17a4f47-8f07-4acd-8af6-da88affb8d17",
   "metadata": {},
   "source": [
    "## Vrstva `Sigmoid`"
   ]
  },
  {
   "cell_type": "markdown",
   "id": "77b578e6-783b-44ba-954e-3ca4723261cf",
   "metadata": {},
   "source": [
    "Funkce Sigmoid jako vrstva bude jednodušší. Nemá žádné parametry, a tak nám bude stačit přepsat pouze `forward` tak, aby volal `ans.functional.Sigmoid.apply`. I bez parametrů bude objektově navržený sigmoid výhodný, protože ho půjde jednoduše přidat jako vrstvu do obecné dopředné vícerstvé sítě (multilayer perceptronu)."
   ]
  },
  {
   "cell_type": "markdown",
   "id": "033f90cf-23d4-4a48-ae14-a7ea01efb2ad",
   "metadata": {},
   "source": [
    "### TODO: implementujte vrstvu `Sigmoid`"
   ]
  },
  {
   "cell_type": "code",
   "execution_count": 45,
   "id": "20fcc728-ea34-4e38-86d1-1a22c9362737",
   "metadata": {
    "ExecuteTime": {
     "start_time": "2023-12-05T18:28:53.595625Z",
     "end_time": "2023-12-05T18:28:54.652971Z"
    }
   },
   "outputs": [
    {
     "name": "stderr",
     "output_type": "stream",
     "text": [
      "test_forward (tests.ANSTestCase.eval.<locals>._TestCaseClass.test_forward) ... ok\n",
      "test_implementaiton (tests.ANSTestCase.eval.<locals>._TestCaseClass.test_implementaiton) ... ok\n",
      "\n",
      "----------------------------------------------------------------------\n",
      "Ran 2 tests in 0.003s\n",
      "\n",
      "OK\n"
     ]
    },
    {
     "data": {
      "text/plain": "<unittest.runner.TextTestResult run=2 errors=0 failures=0>"
     },
     "execution_count": 45,
     "metadata": {},
     "output_type": "execute_result"
    }
   ],
   "source": [
    "test_neural_library.TestSigmoidModule.eval()"
   ]
  },
  {
   "cell_type": "markdown",
   "id": "e36a4cbb-1309-4c4d-8ba1-7c70d73ed79a",
   "metadata": {},
   "source": [
    "## Vrstva `SoftmaxCrossEntropy`"
   ]
  },
  {
   "cell_type": "markdown",
   "id": "b2675468-fb41-4122-8b9c-baecb58dd465",
   "metadata": {},
   "source": [
    "Implementace `SoftmaxCorssEntropy` bude jednoduchá podobně jako vrstva `Sigmoid`, protože opět nemá žádné parametry. Dopředný průchod `forward` tedy stačí pouze definovat, aby volal `ans.functional.softax_corss_entropy`."
   ]
  },
  {
   "cell_type": "markdown",
   "id": "dc35e216-5e1a-4fa8-8503-4f998f045067",
   "metadata": {},
   "source": [
    "### TODO: implementujte vrstvu `SoftmaxCrossEntropy`"
   ]
  },
  {
   "cell_type": "code",
   "execution_count": 47,
   "id": "46b3aa8c-ec30-4601-8258-c7900d80d8ab",
   "metadata": {
    "ExecuteTime": {
     "start_time": "2023-12-05T18:29:25.322736Z",
     "end_time": "2023-12-05T18:29:26.393367Z"
    }
   },
   "outputs": [
    {
     "name": "stderr",
     "output_type": "stream",
     "text": [
      "test_forward (tests.ANSTestCase.eval.<locals>._TestCaseClass.test_forward) ... ok\n",
      "test_implementaiton (tests.ANSTestCase.eval.<locals>._TestCaseClass.test_implementaiton) ... ok\n",
      "\n",
      "----------------------------------------------------------------------\n",
      "Ran 2 tests in 0.004s\n",
      "\n",
      "OK\n"
     ]
    },
    {
     "data": {
      "text/plain": "<unittest.runner.TextTestResult run=2 errors=0 failures=0>"
     },
     "execution_count": 47,
     "metadata": {},
     "output_type": "execute_result"
    }
   ],
   "source": [
    "test_neural_library.TestSoftmaxCrossEntropyModule.eval()"
   ]
  },
  {
   "cell_type": "markdown",
   "id": "930f90c4-a617-4ac9-85c2-6c1f6ae27f63",
   "metadata": {},
   "source": [
    "# Konfigurovatelný vícevrstvý perceptron pomocí třídy `ans.modules.Sequential`"
   ]
  },
  {
   "cell_type": "markdown",
   "id": "597e2bd0-f472-405a-9f76-72087643a330",
   "metadata": {},
   "source": [
    "Konečně máme definovány základní funkční bloky, které nyní můžeme libovolně skládat za sebe a snadno parametrizovat (předávat hyperparametry). Obecný vícevrstvý perceptron implementuje třída `ans.modules.Sequential`. Při vytváření převezme seznam vrstev v pořadí, v jakém by se měly postupně aplikovat na vstup. Funkcionalita kopíruje třídu [Sequential](https://pytorch.org/docs/stable/generated/torch.nn.Sequential.html) knihovny PyTorch. Viz příklad:"
   ]
  },
  {
   "cell_type": "code",
   "execution_count": 48,
   "id": "8558da33-c8e7-4181-a3d1-6bda796ef8f3",
   "metadata": {
    "ExecuteTime": {
     "start_time": "2023-12-05T18:29:29.368451Z",
     "end_time": "2023-12-05T18:29:29.425780Z"
    }
   },
   "outputs": [
    {
     "data": {
      "text/plain": "<ans.modules.Sequential at 0x7fad3e946590>"
     },
     "execution_count": 48,
     "metadata": {},
     "output_type": "execute_result"
    }
   ],
   "source": [
    "model = ans.modules.Sequential(\n",
    "    ans.modules.Linear(4, 4),\n",
    "    ans.modules.Sigmoid(),\n",
    "    ans.modules.Linear(4, 3),\n",
    "    ans.modules.Sigmoid(),\n",
    "    ans.modules.Linear(3, 2)\n",
    ")\n",
    "model"
   ]
  },
  {
   "cell_type": "markdown",
   "id": "f161d89a-527e-47ca-9165-bbbfd265764b",
   "metadata": {},
   "source": [
    "Každá třída odvozená od `ans.modules.Module` dědí metodu `named_parameters()`, která projde danou instanci a vrátí seznam všech jejích atributů typu `Variable`, přičemž jim zároveň přiřadí jméno a to i rekurzivně pro vnořené objekty. Metodu později využijeme např. pro optimalizaci."
   ]
  },
  {
   "cell_type": "code",
   "execution_count": 49,
   "id": "c7f027d5-67f0-4d1c-a162-2811afebbca9",
   "metadata": {
    "ExecuteTime": {
     "start_time": "2023-12-05T18:29:31.371550Z",
     "end_time": "2023-12-05T18:29:31.445600Z"
    }
   },
   "outputs": [
    {
     "data": {
      "text/plain": "[('0.bias', Variable(shape=(4,), grad_fn=None)),\n ('0.weight', Variable(shape=(4, 4), grad_fn=None)),\n ('2.bias', Variable(shape=(3,), grad_fn=None)),\n ('2.weight', Variable(shape=(4, 3), grad_fn=None)),\n ('4.bias', Variable(shape=(2,), grad_fn=None)),\n ('4.weight', Variable(shape=(3, 2), grad_fn=None))]"
     },
     "execution_count": 49,
     "metadata": {},
     "output_type": "execute_result"
    }
   ],
   "source": [
    "model.named_parameters()"
   ]
  },
  {
   "cell_type": "code",
   "execution_count": 50,
   "id": "ccb6af56-255e-4e44-8d0c-8f22fda4bd2c",
   "metadata": {
    "ExecuteTime": {
     "start_time": "2023-12-05T18:29:33.345849Z",
     "end_time": "2023-12-05T18:29:33.408661Z"
    }
   },
   "outputs": [
    {
     "data": {
      "text/plain": "Variable(shape=(5, 4), grad_fn=None)"
     },
     "execution_count": 50,
     "metadata": {},
     "output_type": "execute_result"
    }
   ],
   "source": [
    "x = randn_var(5, 4, dtype=torch.float32)\n",
    "x"
   ]
  },
  {
   "cell_type": "code",
   "execution_count": 51,
   "id": "fffd3966-e278-4160-80f3-5f12aa4b71bf",
   "metadata": {
    "ExecuteTime": {
     "start_time": "2023-12-05T18:29:35.044617Z",
     "end_time": "2023-12-05T18:29:35.099848Z"
    }
   },
   "outputs": [
    {
     "name": "stdout",
     "output_type": "stream",
     "text": [
      "dinput0 ok: rel_err=9.575e-04, abs_err=2.071e-06\n"
     ]
    },
    {
     "data": {
      "text/plain": "True"
     },
     "execution_count": 51,
     "metadata": {},
     "output_type": "execute_result"
    }
   ],
   "source": [
    "ans.autograd.gradcheck(model, (x,))  # calls backprop"
   ]
  },
  {
   "cell_type": "code",
   "execution_count": 54,
   "id": "10693eb5-7e51-4856-9ca2-eab679466c09",
   "metadata": {
    "ExecuteTime": {
     "start_time": "2023-12-05T18:29:42.018968Z",
     "end_time": "2023-12-05T18:29:42.063633Z"
    }
   },
   "outputs": [],
   "source": [
    "model.zero_grad()  # cleanup after backprop"
   ]
  },
  {
   "cell_type": "code",
   "execution_count": 53,
   "id": "d4e76480-1ea5-44da-a2e9-6e49dd4e04bc",
   "metadata": {
    "ExecuteTime": {
     "start_time": "2023-12-05T18:29:40.785071Z",
     "end_time": "2023-12-05T18:29:40.833116Z"
    }
   },
   "outputs": [
    {
     "data": {
      "text/plain": "Variable(shape=(5, 2), grad_fn=Function.apply.<locals>.grad_fn)"
     },
     "execution_count": 53,
     "metadata": {},
     "output_type": "execute_result"
    }
   ],
   "source": [
    "z = model(x)\n",
    "z"
   ]
  },
  {
   "cell_type": "code",
   "execution_count": 55,
   "id": "9af4fbbb-b3ca-478a-a65c-e018f23ab887",
   "metadata": {
    "ExecuteTime": {
     "start_time": "2023-12-05T18:29:45.578174Z",
     "end_time": "2023-12-05T18:29:45.636604Z"
    }
   },
   "outputs": [
    {
     "data": {
      "text/plain": "tensor([1, 0, 1, 0, 0])"
     },
     "execution_count": 55,
     "metadata": {},
     "output_type": "execute_result"
    }
   ],
   "source": [
    "y = torch.randint(2, (5,))\n",
    "y"
   ]
  },
  {
   "cell_type": "code",
   "execution_count": 56,
   "id": "b50c7827-4828-4a7a-b4eb-45bbcfd490ba",
   "metadata": {
    "ExecuteTime": {
     "start_time": "2023-12-05T18:29:47.536299Z",
     "end_time": "2023-12-05T18:29:47.585025Z"
    }
   },
   "outputs": [
    {
     "data": {
      "text/plain": "Variable(0.7633880376815796, grad_fn=Function.apply.<locals>.grad_fn)"
     },
     "execution_count": 56,
     "metadata": {},
     "output_type": "execute_result"
    }
   ],
   "source": [
    "l = ans.functional.SoftmaxCrossEntropy.apply(z, y)\n",
    "l"
   ]
  },
  {
   "cell_type": "code",
   "execution_count": 71,
   "id": "5b444d01-ca54-4dd3-bd8e-ec438fbcc21d",
   "metadata": {
    "ExecuteTime": {
     "start_time": "2023-12-05T18:30:53.143787Z",
     "end_time": "2023-12-05T18:30:53.440770Z"
    }
   },
   "outputs": [
    {
     "data": {
      "image/svg+xml": "<?xml version=\"1.0\" encoding=\"UTF-8\" standalone=\"no\"?>\n<!DOCTYPE svg PUBLIC \"-//W3C//DTD SVG 1.1//EN\"\n \"http://www.w3.org/Graphics/SVG/1.1/DTD/svg11.dtd\">\n<!-- Generated by graphviz version 8.1.0 (20230707.0739)\n -->\n<!-- Pages: 1 -->\n<svg width=\"1619pt\" height=\"265pt\"\n viewBox=\"0.00 0.00 1619.10 265.00\" xmlns=\"http://www.w3.org/2000/svg\" xmlns:xlink=\"http://www.w3.org/1999/xlink\">\n<g id=\"graph0\" class=\"graph\" transform=\"scale(1 1) rotate(0) translate(4 261)\">\n<polygon fill=\"white\" stroke=\"none\" points=\"-4,4 -4,-261 1615.1,-261 1615.1,4 -4,4\"/>\n<!-- 140382055981776 -->\n<g id=\"node1\" class=\"node\">\n<title>140382055981776</title>\n<polygon fill=\"none\" stroke=\"black\" points=\"1520.1,-55.5 1520.1,-91.5 1611.1,-91.5 1611.1,-55.5 1520.1,-55.5\"/>\n<text text-anchor=\"middle\" x=\"1565.6\" y=\"-69.2\" font-family=\"Times,serif\" font-size=\"14.00\">__ = 0.763</text>\n</g>\n<!-- 140382055981776.grad_fn -->\n<g id=\"node2\" class=\"node\">\n<title>140382055981776.grad_fn</title>\n<ellipse fill=\"none\" stroke=\"black\" cx=\"1362.4\" cy=\"-73.5\" rx=\"121.71\" ry=\"18\"/>\n<text text-anchor=\"middle\" x=\"1362.4\" y=\"-68.83\" font-family=\"Times,serif\" font-size=\"14.00\">SoftmaxCrossEntropy</text>\n</g>\n<!-- 140382055981776.grad_fn&#45;&gt;140382055981776 -->\n<g id=\"edge1\" class=\"edge\">\n<title>140382055981776.grad_fn&#45;&gt;140382055981776</title>\n<path fill=\"none\" stroke=\"black\" d=\"M1484.5,-73.5C1493.1,-73.5 1501.49,-73.5 1509.41,-73.5\"/>\n<polygon fill=\"black\" stroke=\"black\" points=\"1509.25,-77 1519.25,-73.5 1509.25,-70 1509.25,-77\"/>\n</g>\n<!-- 140381995480848 -->\n<g id=\"node3\" class=\"node\">\n<title>140381995480848</title>\n<polygon fill=\"none\" stroke=\"black\" points=\"1139.19,-55.5 1139.19,-91.5 1204.69,-91.5 1204.69,-55.5 1139.19,-55.5\"/>\n<text text-anchor=\"middle\" x=\"1171.94\" y=\"-69.2\" font-family=\"Times,serif\" font-size=\"14.00\">z (5, 2)</text>\n</g>\n<!-- 140381995480848&#45;&gt;140382055981776.grad_fn -->\n<g id=\"edge2\" class=\"edge\">\n<title>140381995480848&#45;&gt;140382055981776.grad_fn</title>\n<path fill=\"none\" stroke=\"black\" d=\"M1204.48,-73.5C1212.01,-73.5 1220.52,-73.5 1229.59,-73.5\"/>\n<polygon fill=\"black\" stroke=\"black\" points=\"1229.46,-77 1239.46,-73.5 1229.46,-70 1229.46,-77\"/>\n</g>\n<!-- 140381995480848.grad_fn -->\n<g id=\"node4\" class=\"node\">\n<title>140381995480848.grad_fn</title>\n<ellipse fill=\"none\" stroke=\"black\" cx=\"1059.87\" cy=\"-73.5\" rx=\"43.32\" ry=\"18\"/>\n<text text-anchor=\"middle\" x=\"1059.87\" y=\"-68.83\" font-family=\"Times,serif\" font-size=\"14.00\">Linear</text>\n</g>\n<!-- 140381995480848.grad_fn&#45;&gt;140381995480848 -->\n<g id=\"edge3\" class=\"edge\">\n<title>140381995480848.grad_fn&#45;&gt;140381995480848</title>\n<path fill=\"none\" stroke=\"black\" d=\"M1103.43,-73.5C1111.66,-73.5 1120.29,-73.5 1128.52,-73.5\"/>\n<polygon fill=\"black\" stroke=\"black\" points=\"1128.42,-77 1138.42,-73.5 1128.42,-70 1128.42,-77\"/>\n</g>\n<!-- 140381995480720 -->\n<g id=\"node5\" class=\"node\">\n<title>140381995480720</title>\n<polygon fill=\"none\" stroke=\"black\" points=\"912.56,-110.5 912.56,-146.5 966.56,-146.5 966.56,-110.5 912.56,-110.5\"/>\n<text text-anchor=\"middle\" x=\"939.56\" y=\"-124.2\" font-family=\"Times,serif\" font-size=\"14.00\">(5, 3)</text>\n</g>\n<!-- 140381995480720&#45;&gt;140381995480848.grad_fn -->\n<g id=\"edge4\" class=\"edge\">\n<title>140381995480720&#45;&gt;140381995480848.grad_fn</title>\n<path fill=\"none\" stroke=\"black\" d=\"M966.52,-116.43C982.22,-109.13 1002.52,-99.7 1020.09,-91.53\"/>\n<polygon fill=\"black\" stroke=\"black\" points=\"1021.47,-94.28 1029.06,-86.89 1018.52,-87.93 1021.47,-94.28\"/>\n</g>\n<!-- 140382061352400 -->\n<g id=\"node6\" class=\"node\">\n<title>140382061352400</title>\n<polygon fill=\"none\" stroke=\"black\" points=\"898.56,-55.5 898.56,-91.5 980.56,-91.5 980.56,-55.5 898.56,-55.5\"/>\n<text text-anchor=\"middle\" x=\"939.56\" y=\"-69.2\" font-family=\"Times,serif\" font-size=\"14.00\">par (3, 2)</text>\n</g>\n<!-- 140382061352400&#45;&gt;140381995480848.grad_fn -->\n<g id=\"edge5\" class=\"edge\">\n<title>140382061352400&#45;&gt;140381995480848.grad_fn</title>\n<path fill=\"none\" stroke=\"black\" d=\"M980.28,-73.5C988.31,-73.5 996.88,-73.5 1005.29,-73.5\"/>\n<polygon fill=\"black\" stroke=\"black\" points=\"1005.21,-77 1015.21,-73.5 1005.21,-70 1005.21,-77\"/>\n</g>\n<!-- 140382061351376 -->\n<g id=\"node7\" class=\"node\">\n<title>140382061351376</title>\n<polygon fill=\"none\" stroke=\"black\" points=\"912.56,-0.5 912.56,-36.5 966.56,-36.5 966.56,-0.5 912.56,-0.5\"/>\n<text text-anchor=\"middle\" x=\"939.56\" y=\"-14.2\" font-family=\"Times,serif\" font-size=\"14.00\">(2,)</text>\n</g>\n<!-- 140382061351376&#45;&gt;140381995480848.grad_fn -->\n<g id=\"edge6\" class=\"edge\">\n<title>140382061351376&#45;&gt;140381995480848.grad_fn</title>\n<path fill=\"none\" stroke=\"black\" d=\"M966.52,-30.57C982.22,-37.87 1002.52,-47.3 1020.09,-55.47\"/>\n<polygon fill=\"black\" stroke=\"black\" points=\"1018.52,-59.07 1029.06,-60.11 1021.47,-52.72 1018.52,-59.07\"/>\n</g>\n<!-- 140381995480720.grad_fn -->\n<g id=\"node8\" class=\"node\">\n<title>140381995480720.grad_fn</title>\n<ellipse fill=\"none\" stroke=\"black\" cx=\"810.3\" cy=\"-128.5\" rx=\"52.26\" ry=\"18\"/>\n<text text-anchor=\"middle\" x=\"810.3\" y=\"-123.83\" font-family=\"Times,serif\" font-size=\"14.00\">Sigmoid</text>\n</g>\n<!-- 140381995480720.grad_fn&#45;&gt;140381995480720 -->\n<g id=\"edge7\" class=\"edge\">\n<title>140381995480720.grad_fn&#45;&gt;140381995480720</title>\n<path fill=\"none\" stroke=\"black\" d=\"M862.69,-128.5C875.89,-128.5 889.83,-128.5 902.1,-128.5\"/>\n<polygon fill=\"black\" stroke=\"black\" points=\"901.84,-132 911.84,-128.5 901.84,-125 901.84,-132\"/>\n</g>\n<!-- 140381995480400 -->\n<g id=\"node9\" class=\"node\">\n<title>140381995480400</title>\n<polygon fill=\"none\" stroke=\"black\" points=\"668.04,-110.5 668.04,-146.5 722.04,-146.5 722.04,-110.5 668.04,-110.5\"/>\n<text text-anchor=\"middle\" x=\"695.04\" y=\"-124.2\" font-family=\"Times,serif\" font-size=\"14.00\">(5, 3)</text>\n</g>\n<!-- 140381995480400&#45;&gt;140381995480720.grad_fn -->\n<g id=\"edge8\" class=\"edge\">\n<title>140381995480400&#45;&gt;140381995480720.grad_fn</title>\n<path fill=\"none\" stroke=\"black\" d=\"M722.02,-128.5C729.63,-128.5 738.31,-128.5 747.16,-128.5\"/>\n<polygon fill=\"black\" stroke=\"black\" points=\"746.99,-132 756.99,-128.5 746.99,-125 746.99,-132\"/>\n</g>\n<!-- 140381995480400.grad_fn -->\n<g id=\"node10\" class=\"node\">\n<title>140381995480400.grad_fn</title>\n<ellipse fill=\"none\" stroke=\"black\" cx=\"588.72\" cy=\"-128.5\" rx=\"43.32\" ry=\"18\"/>\n<text text-anchor=\"middle\" x=\"588.72\" y=\"-123.83\" font-family=\"Times,serif\" font-size=\"14.00\">Linear</text>\n</g>\n<!-- 140381995480400.grad_fn&#45;&gt;140381995480400 -->\n<g id=\"edge9\" class=\"edge\">\n<title>140381995480400.grad_fn&#45;&gt;140381995480400</title>\n<path fill=\"none\" stroke=\"black\" d=\"M632.45,-128.5C640.71,-128.5 649.3,-128.5 657.34,-128.5\"/>\n<polygon fill=\"black\" stroke=\"black\" points=\"657.27,-132 667.27,-128.5 657.27,-125 657.27,-132\"/>\n</g>\n<!-- 140381995480976 -->\n<g id=\"node11\" class=\"node\">\n<title>140381995480976</title>\n<polygon fill=\"none\" stroke=\"black\" points=\"455.4,-165.5 455.4,-201.5 509.4,-201.5 509.4,-165.5 455.4,-165.5\"/>\n<text text-anchor=\"middle\" x=\"482.4\" y=\"-179.2\" font-family=\"Times,serif\" font-size=\"14.00\">(5, 4)</text>\n</g>\n<!-- 140381995480976&#45;&gt;140381995480400.grad_fn -->\n<g id=\"edge10\" class=\"edge\">\n<title>140381995480976&#45;&gt;140381995480400.grad_fn</title>\n<path fill=\"none\" stroke=\"black\" d=\"M509.19,-169.9C521.81,-163.25 537.23,-155.12 551.05,-147.83\"/>\n<polygon fill=\"black\" stroke=\"black\" points=\"552.56,-150.47 559.78,-142.71 549.3,-144.27 552.56,-150.47\"/>\n</g>\n<!-- 140381995361552 -->\n<g id=\"node12\" class=\"node\">\n<title>140381995361552</title>\n<polygon fill=\"none\" stroke=\"black\" points=\"455.4,-110.5 455.4,-146.5 509.4,-146.5 509.4,-110.5 455.4,-110.5\"/>\n<text text-anchor=\"middle\" x=\"482.4\" y=\"-124.2\" font-family=\"Times,serif\" font-size=\"14.00\">(4, 3)</text>\n</g>\n<!-- 140381995361552&#45;&gt;140381995480400.grad_fn -->\n<g id=\"edge11\" class=\"edge\">\n<title>140381995361552&#45;&gt;140381995480400.grad_fn</title>\n<path fill=\"none\" stroke=\"black\" d=\"M509.19,-128.5C516.83,-128.5 525.48,-128.5 534.2,-128.5\"/>\n<polygon fill=\"black\" stroke=\"black\" points=\"534.18,-132 544.18,-128.5 534.18,-125 534.18,-132\"/>\n</g>\n<!-- 140382061350288 -->\n<g id=\"node13\" class=\"node\">\n<title>140382061350288</title>\n<polygon fill=\"none\" stroke=\"black\" points=\"455.4,-55.5 455.4,-91.5 509.4,-91.5 509.4,-55.5 455.4,-55.5\"/>\n<text text-anchor=\"middle\" x=\"482.4\" y=\"-69.2\" font-family=\"Times,serif\" font-size=\"14.00\">(3,)</text>\n</g>\n<!-- 140382061350288&#45;&gt;140381995480400.grad_fn -->\n<g id=\"edge12\" class=\"edge\">\n<title>140382061350288&#45;&gt;140381995480400.grad_fn</title>\n<path fill=\"none\" stroke=\"black\" d=\"M509.19,-87.1C521.81,-93.75 537.23,-101.88 551.05,-109.17\"/>\n<polygon fill=\"black\" stroke=\"black\" points=\"549.3,-112.73 559.78,-114.29 552.56,-106.53 549.3,-112.73\"/>\n</g>\n<!-- 140381995480976.grad_fn -->\n<g id=\"node14\" class=\"node\">\n<title>140381995480976.grad_fn</title>\n<ellipse fill=\"none\" stroke=\"black\" cx=\"367.14\" cy=\"-183.5\" rx=\"52.26\" ry=\"18\"/>\n<text text-anchor=\"middle\" x=\"367.14\" y=\"-178.82\" font-family=\"Times,serif\" font-size=\"14.00\">Sigmoid</text>\n</g>\n<!-- 140381995480976.grad_fn&#45;&gt;140381995480976 -->\n<g id=\"edge13\" class=\"edge\">\n<title>140381995480976.grad_fn&#45;&gt;140381995480976</title>\n<path fill=\"none\" stroke=\"black\" d=\"M419.8,-183.5C428.21,-183.5 436.76,-183.5 444.71,-183.5\"/>\n<polygon fill=\"black\" stroke=\"black\" points=\"444.48,-187 454.48,-183.5 444.48,-180 444.48,-187\"/>\n</g>\n<!-- 140381995477776 -->\n<g id=\"node15\" class=\"node\">\n<title>140381995477776</title>\n<polygon fill=\"none\" stroke=\"black\" points=\"224.88,-165.5 224.88,-201.5 278.88,-201.5 278.88,-165.5 224.88,-165.5\"/>\n<text text-anchor=\"middle\" x=\"251.88\" y=\"-179.2\" font-family=\"Times,serif\" font-size=\"14.00\">(5, 4)</text>\n</g>\n<!-- 140381995477776&#45;&gt;140381995480976.grad_fn -->\n<g id=\"edge14\" class=\"edge\">\n<title>140381995477776&#45;&gt;140381995480976.grad_fn</title>\n<path fill=\"none\" stroke=\"black\" d=\"M278.87,-183.5C286.48,-183.5 295.15,-183.5 304.01,-183.5\"/>\n<polygon fill=\"black\" stroke=\"black\" points=\"303.84,-187 313.84,-183.5 303.84,-180 303.84,-187\"/>\n</g>\n<!-- 140381995477776.grad_fn -->\n<g id=\"node16\" class=\"node\">\n<title>140381995477776.grad_fn</title>\n<ellipse fill=\"none\" stroke=\"black\" cx=\"145.57\" cy=\"-183.5\" rx=\"43.32\" ry=\"18\"/>\n<text text-anchor=\"middle\" x=\"145.57\" y=\"-178.82\" font-family=\"Times,serif\" font-size=\"14.00\">Linear</text>\n</g>\n<!-- 140381995477776.grad_fn&#45;&gt;140381995477776 -->\n<g id=\"edge15\" class=\"edge\">\n<title>140381995477776.grad_fn&#45;&gt;140381995477776</title>\n<path fill=\"none\" stroke=\"black\" d=\"M189.3,-183.5C197.56,-183.5 206.14,-183.5 214.19,-183.5\"/>\n<polygon fill=\"black\" stroke=\"black\" points=\"214.12,-187 224.12,-183.5 214.12,-180 214.12,-187\"/>\n</g>\n<!-- 140382061564752 -->\n<g id=\"node17\" class=\"node\">\n<title>140382061564752</title>\n<polygon fill=\"none\" stroke=\"black\" points=\"0,-220.5 0,-256.5 66.25,-256.5 66.25,-220.5 0,-220.5\"/>\n<text text-anchor=\"middle\" x=\"33.12\" y=\"-234.2\" font-family=\"Times,serif\" font-size=\"14.00\">x (5, 4)</text>\n</g>\n<!-- 140382061564752&#45;&gt;140381995477776.grad_fn -->\n<g id=\"edge16\" class=\"edge\">\n<title>140382061564752&#45;&gt;140381995477776.grad_fn</title>\n<path fill=\"none\" stroke=\"black\" d=\"M66.07,-222.59C78.86,-216.22 93.7,-208.83 107,-202.21\"/>\n<polygon fill=\"black\" stroke=\"black\" points=\"108.43,-204.91 115.82,-197.32 105.31,-198.64 108.43,-204.91\"/>\n</g>\n<!-- 140382056834320 -->\n<g id=\"node18\" class=\"node\">\n<title>140382056834320</title>\n<polygon fill=\"none\" stroke=\"black\" points=\"6.12,-165.5 6.12,-201.5 60.12,-201.5 60.12,-165.5 6.12,-165.5\"/>\n<text text-anchor=\"middle\" x=\"33.12\" y=\"-179.2\" font-family=\"Times,serif\" font-size=\"14.00\">(4, 4)</text>\n</g>\n<!-- 140382056834320&#45;&gt;140381995477776.grad_fn -->\n<g id=\"edge17\" class=\"edge\">\n<title>140382056834320&#45;&gt;140381995477776.grad_fn</title>\n<path fill=\"none\" stroke=\"black\" d=\"M60.02,-183.5C69.39,-183.5 80.35,-183.5 91.21,-183.5\"/>\n<polygon fill=\"black\" stroke=\"black\" points=\"90.98,-187 100.98,-183.5 90.98,-180 90.98,-187\"/>\n</g>\n<!-- 140382063299664 -->\n<g id=\"node19\" class=\"node\">\n<title>140382063299664</title>\n<polygon fill=\"none\" stroke=\"black\" points=\"6.12,-110.5 6.12,-146.5 60.12,-146.5 60.12,-110.5 6.12,-110.5\"/>\n<text text-anchor=\"middle\" x=\"33.12\" y=\"-124.2\" font-family=\"Times,serif\" font-size=\"14.00\">(4,)</text>\n</g>\n<!-- 140382063299664&#45;&gt;140381995477776.grad_fn -->\n<g id=\"edge18\" class=\"edge\">\n<title>140382063299664&#45;&gt;140381995477776.grad_fn</title>\n<path fill=\"none\" stroke=\"black\" d=\"M60.02,-141.4C74.03,-148.38 91.6,-157.12 107.09,-164.84\"/>\n<polygon fill=\"black\" stroke=\"black\" points=\"105.39,-168.4 115.9,-169.72 108.51,-162.13 105.39,-168.4\"/>\n</g>\n</g>\n</svg>\n",
      "text/plain": "<graphviz.graphs.Digraph at 0x7fad3af9d210>"
     },
     "execution_count": 71,
     "metadata": {},
     "output_type": "execute_result"
    }
   ],
   "source": [
    "l.to_graphviz()"
   ]
  },
  {
   "cell_type": "code",
   "execution_count": 70,
   "id": "e41f65e9-c29e-4a11-b6a1-834d56403287",
   "metadata": {
    "ExecuteTime": {
     "start_time": "2023-12-05T18:30:50.485494Z",
     "end_time": "2023-12-05T18:30:50.520360Z"
    }
   },
   "outputs": [
    {
     "name": "stdout",
     "output_type": "stream",
     "text": [
      "0.bias: tensor([ 0.01, -0.00,  0.00, -0.03])\n",
      "0.weight: tensor([[-0.01,  0.00, -0.00,  0.04],\n",
      "        [ 0.01, -0.00,  0.00, -0.03],\n",
      "        [-0.01,  0.00, -0.00,  0.04],\n",
      "        [ 0.01, -0.00,  0.00, -0.05]])\n",
      "2.bias: tensor([0.11, 0.12, 0.01])\n",
      "2.weight: tensor([[0.07, 0.08, 0.00],\n",
      "        [0.08, 0.08, 0.00],\n",
      "        [0.07, 0.08, 0.00],\n",
      "        [0.04, 0.05, 0.00]])\n",
      "4.bias: tensor([-0.63,  0.63])\n",
      "4.weight: tensor([[-0.33,  0.33],\n",
      "        [-0.27,  0.27],\n",
      "        [-0.30,  0.30]])\n"
     ]
    }
   ],
   "source": [
    "for name, par in model.named_parameters():\n",
    "    print(f\"{name}: {par.grad}\")"
   ]
  },
  {
   "cell_type": "code",
   "execution_count": 68,
   "id": "c8ca31a2-79fd-4c6b-98ab-2d813a75db2e",
   "metadata": {
    "ExecuteTime": {
     "start_time": "2023-12-05T18:30:38.445819Z",
     "end_time": "2023-12-05T18:30:38.461989Z"
    }
   },
   "outputs": [],
   "source": [
    "l.backprop()"
   ]
  },
  {
   "cell_type": "code",
   "execution_count": 67,
   "id": "6753081f-031c-4b45-8b3b-4ed2b7f9b62f",
   "metadata": {
    "ExecuteTime": {
     "start_time": "2023-12-05T18:30:36.875639Z",
     "end_time": "2023-12-05T18:30:36.911714Z"
    }
   },
   "outputs": [
    {
     "name": "stdout",
     "output_type": "stream",
     "text": [
      "0.bias: tensor([ 0.00, -0.00,  0.00, -0.00])\n",
      "0.weight: tensor([[-0.00,  0.00, -0.00,  0.01],\n",
      "        [ 0.00, -0.00,  0.00, -0.00],\n",
      "        [-0.00,  0.00, -0.00,  0.01],\n",
      "        [ 0.00, -0.00,  0.00, -0.01]])\n",
      "2.bias: tensor([0.02, 0.02, 0.00])\n",
      "2.weight: tensor([[0.01, 0.02, 0.00],\n",
      "        [0.02, 0.02, 0.00],\n",
      "        [0.01, 0.02, 0.00],\n",
      "        [0.01, 0.01, 0.00]])\n",
      "4.bias: tensor([-0.21,  0.21])\n",
      "4.weight: tensor([[-0.11,  0.11],\n",
      "        [-0.09,  0.09],\n",
      "        [-0.10,  0.10]])\n"
     ]
    }
   ],
   "source": [
    "for name, par in model.named_parameters():\n",
    "    print(f\"{name}: {par.grad}\")"
   ]
  },
  {
   "cell_type": "code",
   "execution_count": 69,
   "id": "66a85ea9-92ad-4c03-a49b-7a20fb639508",
   "metadata": {
    "ExecuteTime": {
     "start_time": "2023-12-05T18:30:44.430504Z",
     "end_time": "2023-12-05T18:30:44.477072Z"
    }
   },
   "outputs": [],
   "source": [
    "for name, par in model.named_parameters():\n",
    "    par.data -= 1e-3 * par.grad  # SGD update with learning rate of 0.001"
   ]
  }
 ],
 "metadata": {
  "kernelspec": {
   "name": "python3",
   "language": "python",
   "display_name": "Python 3 (ipykernel)"
  },
  "language_info": {
   "codemirror_mode": {
    "name": "ipython",
    "version": 3
   },
   "file_extension": ".py",
   "mimetype": "text/x-python",
   "name": "python",
   "nbconvert_exporter": "python",
   "pygments_lexer": "ipython3",
   "version": "3.10.12"
  }
 },
 "nbformat": 4,
 "nbformat_minor": 5
}
