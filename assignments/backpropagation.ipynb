{
 "cells": [
  {
   "cell_type": "markdown",
   "id": "f688f9ac-ebc1-475c-a278-5e7242b99802",
   "metadata": {},
   "source": [
    "# Zpětná propagace"
   ]
  },
  {
   "cell_type": "markdown",
   "id": "21f9aabd-6fd0-4329-9239-0ec347de0db9",
   "metadata": {},
   "source": [
    "Úkolem cvičení je naprogramovat algoritmus zpětné propagace pro obecný případ obdobným způsobem, jako je navržen v knihovně PyTorch."
   ]
  },
  {
   "cell_type": "code",
   "execution_count": 44,
   "id": "42fb7b35-c756-4246-aff2-03ab3928ad77",
   "metadata": {
    "ExecuteTime": {
     "start_time": "2023-11-26T21:53:15.912666Z",
     "end_time": "2023-11-26T21:53:16.564926Z"
    }
   },
   "outputs": [
    {
     "name": "stdout",
     "output_type": "stream",
     "text": [
      "The autoreload extension is already loaded. To reload it, use:\n",
      "  %reload_ext autoreload\n"
     ]
    }
   ],
   "source": [
    "%load_ext autoreload\n",
    "%autoreload 2"
   ]
  },
  {
   "cell_type": "code",
   "execution_count": 45,
   "id": "3375f030-c696-4b7d-a808-5ab895104166",
   "metadata": {
    "ExecuteTime": {
     "start_time": "2023-11-26T21:53:15.964757Z",
     "end_time": "2023-11-26T21:53:16.582503Z"
    }
   },
   "outputs": [],
   "source": [
    "import sys\n",
    "sys.path.append('..')  # import tests\n",
    "\n",
    "import graphviz\n",
    "import numpy as np\n",
    "import matplotlib.pyplot as plt\n",
    "import torch\n",
    "import torchvision\n",
    "\n",
    "import ans\n",
    "from tests import test_backpropagation"
   ]
  },
  {
   "cell_type": "markdown",
   "id": "e27932d6-b1a2-4284-b7be-64a77ec4da7a",
   "metadata": {
    "tags": []
   },
   "source": [
    "V PyTorchi je automatické derivování implementováno v modulu autograd, viz notebook [pytorch-autograd](../notebooks/pytorch-autograd.ipynb). Centrální třída `torch.Tensor` umožňuje nastavit parametr `requires_grad` na hodnotu `True`. PyTorch si v takovém případě zapamatuje všechny operace provedené nad daným tensorem a umí pak sputit zpětnou propagaci gradientu.\n",
    "\n",
    "My ale tuto funkcionalitu třídy `Tensor` využívat nebudeme a implementujeme si obdobnou zpětnou propagaci vlastními silami. Pro tento účel si zavedeme třídu `Variable`, která bude využívat `Tensor` pouze pro přechovávání dat. Účelem třídy bude pamatovat si operace provedené nad svým tensorem uloženým v atributu `data` a implementovat metodu `backprop()`, která po zavolání uživatelem provede zpětnou propagaci gradientů. Ty se uloží do atributu `grad` objektu třídy `Variable`. Celý systém je tedy velmi podobný tomu, jak autograd funguje v PyTorchi a v podstatě shodný s tím, jak fungoval v původním návrhu knihovny až do verze [0.4.0](https://pytorch.org/blog/pytorch-0_4_0-migration-guide/), kdy došlo ke sloučení tříd `torch.autograd.Variable` a `torch.Tensor`. Přes třídu [Variable](https://docs.chainer.org/en/stable/reference/generated/chainer.Variable.html) \"obalující\" n-rozměrné pole [cupy.ndarray](https://docs.cupy.dev/en/stable/reference/generated/cupy.ndarray.html) knihovny [cupy](https://cupy.dev/) byl navržen i autograd knihovny [Chainer](https://chainer.org/https://chainer.org/). Chainer byl předchůdcem a významnou inspirací pro PyTorch, který dnes spolu s [TensorFlow](https://www.tensorflow.org/) tvoří dvojici nejpopulárnějších frameworků pro práci s neurosítěmi."
   ]
  },
  {
   "cell_type": "markdown",
   "id": "00593cd2-734e-4f04-b5b9-45418f6f0b40",
   "metadata": {},
   "source": [
    "# Třída `Variable`"
   ]
  },
  {
   "cell_type": "markdown",
   "id": "c656207b-bedb-481d-bcb9-29f9220e4008",
   "metadata": {},
   "source": [
    "Třída `Variable` obsahuje atributy\n",
    "- `data`: `torch.Tensor`, který drží hodnotu proměnné\n",
    "- `grad`: `torch.Tensor`, který po kompletním provedení zpětné propagace bude obsahovat gradient na proměnnou\n",
    "- `parents`: `tuple[Variable, ...]`, která odkazuje na přímé předky proměnné\n",
    "- `grad_fn`: `Callable[[torch.Tensor], tuple[torch.Tensor, ...]]`; odkazuje na zpětný průchod operace, jejíž výsledkem proměnná je"
   ]
  },
  {
   "cell_type": "code",
   "execution_count": 46,
   "id": "4c75a3b6-711f-4ff0-8985-5d59ee72e3bd",
   "metadata": {
    "ExecuteTime": {
     "start_time": "2023-11-26T21:53:15.983382Z",
     "end_time": "2023-11-26T21:53:16.608260Z"
    }
   },
   "outputs": [],
   "source": [
    "ans.autograd.Variable.__init__??"
   ]
  },
  {
   "cell_type": "markdown",
   "id": "06e48c08-e778-478b-a280-1cd00b8dd038",
   "metadata": {},
   "source": [
    "Vytvořme dvě proměnné `f` a `g`."
   ]
  },
  {
   "cell_type": "code",
   "execution_count": 47,
   "id": "4c288925-d324-4477-a107-91e69acc8402",
   "metadata": {
    "ExecuteTime": {
     "start_time": "2023-11-26T21:53:16.020606Z",
     "end_time": "2023-11-26T21:53:16.612528Z"
    }
   },
   "outputs": [
    {
     "data": {
      "text/plain": "Variable(2.0, grad_fn=None)"
     },
     "execution_count": 47,
     "metadata": {},
     "output_type": "execute_result"
    }
   ],
   "source": [
    "f = ans.autograd.Variable(torch.tensor(2.))\n",
    "f"
   ]
  },
  {
   "cell_type": "code",
   "execution_count": 48,
   "id": "7088fa95-d052-4deb-b68c-4498fa399a90",
   "metadata": {
    "ExecuteTime": {
     "start_time": "2023-11-26T21:53:16.035417Z",
     "end_time": "2023-11-26T21:53:16.626465Z"
    }
   },
   "outputs": [
    {
     "data": {
      "text/plain": "(Variable(3.0, grad_fn=None), tensor(3.))"
     },
     "execution_count": 48,
     "metadata": {},
     "output_type": "execute_result"
    }
   ],
   "source": [
    "g = ans.autograd.Variable(torch.tensor(3.))\n",
    "g, g.data"
   ]
  },
  {
   "cell_type": "markdown",
   "id": "36d2ddb8-2aa0-4a55-92a1-50f7604662e6",
   "metadata": {},
   "source": [
    "# Operace sčítání nad objekty typu `Variable`"
   ]
  },
  {
   "cell_type": "markdown",
   "id": "f7c0b196-a2b3-4055-a6d1-2ffd32477b75",
   "metadata": {},
   "source": [
    "Pokaždé, kdy se s nějakým objektem typu `Variable` něco stane, tj. sečteme jej či pronásobíme s jinou `Variable`, vznikne nová `Variable` s odpovídajícími atributy. Začněme např. nejjednodušší operací sčítání\n",
    "$$h = f + g$$\n",
    "kde `f` a `g` jsou objekty typu `Variable`. Operace sčítání pro `Variable` není definována a prvním úkolem cvičení je jí doplnit.\n",
    "\n",
    "Proměnná `h` by měla být typu `Variable` a její atributy by měly být\n",
    "- `data`: `torch.tensor(5.)`, protože `torch.tensor(2.) + torch.tensor(3.) == torch.tensor(5.)`\n",
    "- `grad`: `None`, protože ještě neproběhla zpětná propagace\n",
    "- `parents`: `(f, g)`, protože vznikla sečtením `f` a `g`\n",
    "- `grad_fn`: `def add.backward(dout)`, tedy funkce, která převezme příchozí gradient a provede zpětný průchod operace sčítání.\n",
    "\n",
    "V Pythonu lze násobení pro uživatelsky definovanou třídu definovat pomocí magické metody `add`. Implementace by mohla vypadat např. takto:\n",
    "``` python\n",
    "def add(self, other: 'Variable') -> 'Variable':\n",
    "    def grad_fn(dout: torch.Tensor) -> tuple[torch.Tensor, torch.Tensor]:\n",
    "        return dout.clone(), dout.clone()\n",
    "    return Variable(\n",
    "        self.data + other.data,\n",
    "        parents=(self, other),\n",
    "        grad_fn=grad_fn\n",
    "    )\n",
    "```\n",
    "Navracíme `Variable` s atributy\n",
    "- `data = self.data + other.data`, protože sčítáme,\n",
    "- `parents = (self, other)`, protože výsledek je potomkem sčítanců `self` a `other`,\n",
    "- `grad_fn` je funkce definována jako zpětný průchod operace sčítání, pro nějž platí, že parciální derivace na vstupy jsou kopie příchozího gradientu; gradienty vrátí jako `tuple` na všechny své vstupy (zde dva `self` a `other`)."
   ]
  },
  {
   "cell_type": "markdown",
   "id": "1c79ba51-18cf-48e9-95f7-f9f5226f150e",
   "metadata": {},
   "source": [
    "### TODO: doplňte implementaci metody `add` pro sčítání dvou objektů typu `Variable`."
   ]
  },
  {
   "cell_type": "code",
   "execution_count": 49,
   "id": "831f182b-464f-4934-99ba-26b89df356a1",
   "metadata": {
    "ExecuteTime": {
     "start_time": "2023-11-26T21:53:16.061781Z",
     "end_time": "2023-11-26T21:53:16.646848Z"
    }
   },
   "outputs": [
    {
     "name": "stderr",
     "output_type": "stream",
     "text": [
      "test_operation (tests.ANSTestCase.eval.<locals>._TestCaseClass.test_operation) ... ok\n",
      "\n",
      "----------------------------------------------------------------------\n",
      "Ran 1 test in 0.003s\n",
      "\n",
      "OK\n"
     ]
    },
    {
     "data": {
      "text/plain": "<unittest.runner.TextTestResult run=1 errors=0 failures=0>"
     },
     "execution_count": 49,
     "metadata": {},
     "output_type": "execute_result"
    }
   ],
   "source": [
    "test_backpropagation.TestAdd.eval()"
   ]
  },
  {
   "cell_type": "code",
   "execution_count": 50,
   "id": "f2e4c5af-faad-463a-9d1c-8feec2a20edd",
   "metadata": {
    "ExecuteTime": {
     "start_time": "2023-11-26T21:53:16.087719Z",
     "end_time": "2023-11-26T21:53:16.648870Z"
    }
   },
   "outputs": [
    {
     "data": {
      "text/plain": "Variable(5.0, grad_fn=Variable.__add__.<locals>.grad_fn)"
     },
     "execution_count": 50,
     "metadata": {},
     "output_type": "execute_result"
    }
   ],
   "source": [
    "h = f + g\n",
    "h"
   ]
  },
  {
   "cell_type": "markdown",
   "id": "b9d9bb3b-2d8a-416e-b9c5-e5d9d028bd06",
   "metadata": {},
   "source": [
    "Rodiče proměnné `h` by měly být `f` a `g`."
   ]
  },
  {
   "cell_type": "code",
   "execution_count": 51,
   "id": "3e015f53-6897-4fce-ae75-05e01baccf61",
   "metadata": {
    "ExecuteTime": {
     "start_time": "2023-11-26T21:53:16.107392Z",
     "end_time": "2023-11-26T21:53:16.659165Z"
    }
   },
   "outputs": [
    {
     "data": {
      "text/plain": "(True, True)"
     },
     "execution_count": 51,
     "metadata": {},
     "output_type": "execute_result"
    }
   ],
   "source": [
    "h.parents[0] is f, h.parents[1] is g"
   ]
  },
  {
   "cell_type": "markdown",
   "id": "1163833b-16bb-484a-87fc-26b7e6006c7e",
   "metadata": {},
   "source": [
    "Funkce `h.grad_fn` nyní odpovídá zpětnému průchodu operace sčítání. Pokud jí zavoláme s nějakým příchozím gradientem, dostaneme propagované gradienty na vstupy, ze kterých sčítáním `h` vzniklo, tj. na proměnné `f` a `g` (v tomto pořadí)."
   ]
  },
  {
   "cell_type": "code",
   "execution_count": 52,
   "id": "c4f5b4ed-b5d9-43ea-8043-7b6a97b947e1",
   "metadata": {
    "ExecuteTime": {
     "start_time": "2023-11-26T21:53:16.117896Z",
     "end_time": "2023-11-26T21:53:16.661226Z"
    }
   },
   "outputs": [
    {
     "data": {
      "text/plain": "(tensor(1.), tensor(1.))"
     },
     "execution_count": 52,
     "metadata": {},
     "output_type": "execute_result"
    }
   ],
   "source": [
    "df, dg = h.grad_fn(torch.tensor(1.))\n",
    "df, dg"
   ]
  },
  {
   "cell_type": "markdown",
   "id": "502b101d-ae50-4108-8786-ef06df73ba47",
   "metadata": {},
   "source": [
    "Gradienty `df` a `dg` můžeme zapsat do atributů `f.grad` a `g.grad`, čímž pro takto jednoduchý příklad provedeme kompletní zpětnou propagaci."
   ]
  },
  {
   "cell_type": "code",
   "execution_count": 53,
   "id": "f9e32965-496c-4470-9afa-e582548267f8",
   "metadata": {
    "ExecuteTime": {
     "start_time": "2023-11-26T21:53:16.144023Z",
     "end_time": "2023-11-26T21:53:16.671519Z"
    }
   },
   "outputs": [
    {
     "data": {
      "text/plain": "(tensor(1.), tensor(1.))"
     },
     "execution_count": 53,
     "metadata": {},
     "output_type": "execute_result"
    }
   ],
   "source": [
    "f.grad = df\n",
    "g.grad = df\n",
    "f.grad, g.grad"
   ]
  },
  {
   "cell_type": "markdown",
   "id": "69414d4f-2a1b-4d9f-8262-6107198254af",
   "metadata": {},
   "source": [
    "# Odečítání `Variable`"
   ]
  },
  {
   "cell_type": "markdown",
   "id": "5905e0cd-7595-4f6b-92fe-e79881aa2550",
   "metadata": {},
   "source": [
    "Obdobně můžeme definovat i operaci odečítání. Rozdíl bude pouze ve výpočtu `data` a gradient na druhý operand by měl být přenásoben minus jedničkou (`-dout`)."
   ]
  },
  {
   "cell_type": "markdown",
   "id": "4fe96e73-a778-4aeb-a936-a21ade3863a0",
   "metadata": {},
   "source": [
    "### TODO: doplňte implementaci metody `__sub__` pro sčítání dvou objektů typu `Variable`."
   ]
  },
  {
   "cell_type": "code",
   "execution_count": 54,
   "id": "6bae95f7-b769-4092-af60-b20d50ac2d49",
   "metadata": {
    "ExecuteTime": {
     "start_time": "2023-11-26T21:53:16.677720Z",
     "end_time": "2023-11-26T21:53:16.677874Z"
    }
   },
   "outputs": [
    {
     "name": "stderr",
     "output_type": "stream",
     "text": [
      "test_operation (tests.ANSTestCase.eval.<locals>._TestCaseClass.test_operation) ... ok\n",
      "\n",
      "----------------------------------------------------------------------\n",
      "Ran 1 test in 0.003s\n",
      "\n",
      "OK\n"
     ]
    },
    {
     "data": {
      "text/plain": "<unittest.runner.TextTestResult run=1 errors=0 failures=0>"
     },
     "execution_count": 54,
     "metadata": {},
     "output_type": "execute_result"
    }
   ],
   "source": [
    "test_backpropagation.TestSub.eval()"
   ]
  },
  {
   "cell_type": "code",
   "execution_count": 72,
   "id": "092a5964-0a0e-4c63-ae61-1305b0c45c7d",
   "metadata": {
    "ExecuteTime": {
     "start_time": "2023-11-26T21:55:13.573582Z",
     "end_time": "2023-11-26T21:55:13.657491Z"
    }
   },
   "outputs": [
    {
     "data": {
      "text/plain": "Variable(-1.0, grad_fn=Variable.__sub__.<locals>.grad_fn)"
     },
     "execution_count": 72,
     "metadata": {},
     "output_type": "execute_result"
    }
   ],
   "source": [
    "h_ = f - g\n",
    "h_"
   ]
  },
  {
   "cell_type": "markdown",
   "id": "1e0913eb-de4d-4454-94b3-8f77dec28c48",
   "metadata": {},
   "source": [
    "# Násobení `Variable`"
   ]
  },
  {
   "cell_type": "markdown",
   "id": "0207a8fb-be37-4cc9-ac91-3d053ce7a04b",
   "metadata": {
    "tags": []
   },
   "source": [
    "Zkusme obdobně definovat i pronásobení\n",
    "$$w = u \\cdot v$$\n",
    "kde `u` a `v` jsou objekty typu `Variable`. Nejprve opět obě proměnné `u` a `v` vytvoříme."
   ]
  },
  {
   "cell_type": "code",
   "execution_count": 73,
   "id": "a44f8c7d-56ab-4acb-85e3-fc2e602988ff",
   "metadata": {
    "ExecuteTime": {
     "start_time": "2023-11-26T21:55:15.914537Z",
     "end_time": "2023-11-26T21:55:15.948142Z"
    }
   },
   "outputs": [
    {
     "data": {
      "text/plain": "Variable(2.0, grad_fn=None)"
     },
     "execution_count": 73,
     "metadata": {},
     "output_type": "execute_result"
    }
   ],
   "source": [
    "u = ans.autograd.Variable(torch.tensor(2.))\n",
    "u"
   ]
  },
  {
   "cell_type": "code",
   "execution_count": 74,
   "id": "37025e36-df2c-45d0-9275-ecc494ce131a",
   "metadata": {
    "ExecuteTime": {
     "start_time": "2023-11-26T21:55:17.916702Z",
     "end_time": "2023-11-26T21:55:17.965705Z"
    }
   },
   "outputs": [
    {
     "data": {
      "text/plain": "Variable(3.0, grad_fn=None)"
     },
     "execution_count": 74,
     "metadata": {},
     "output_type": "execute_result"
    }
   ],
   "source": [
    "v = ans.autograd.Variable(torch.tensor(3.))\n",
    "v"
   ]
  },
  {
   "cell_type": "markdown",
   "id": "6fc8bacc-8e19-4415-bec5-e87dddb82cb3",
   "metadata": {},
   "source": [
    "Operace násobení není pro `Variable` definována. Doplníme ji obdobným způsobem jako sčítání. V Pythonu se násobení definuje magickou metodou `__mul__`."
   ]
  },
  {
   "cell_type": "markdown",
   "id": "71d22199-30b5-48e8-ac0f-43c8e1533735",
   "metadata": {},
   "source": [
    "### TODO: doplňte implementaci metody `__mul__` pro násobení dvou objektů typu `Variable`."
   ]
  },
  {
   "cell_type": "code",
   "execution_count": 75,
   "id": "8d395e66-f9e9-404c-9041-0df578da5ba7",
   "metadata": {
    "ExecuteTime": {
     "start_time": "2023-11-26T21:55:20.303425Z",
     "end_time": "2023-11-26T21:55:20.362393Z"
    }
   },
   "outputs": [
    {
     "data": {
      "text/plain": "Variable(6.0, grad_fn=Variable.__mul__.<locals>.grad_fn)"
     },
     "execution_count": 75,
     "metadata": {},
     "output_type": "execute_result"
    }
   ],
   "source": [
    "w = u * v\n",
    "w"
   ]
  },
  {
   "cell_type": "code",
   "execution_count": 76,
   "id": "77adefa1-c20b-4e51-b170-a30e1ad9122b",
   "metadata": {
    "ExecuteTime": {
     "start_time": "2023-11-26T21:55:22.647259Z",
     "end_time": "2023-11-26T21:55:22.699374Z"
    }
   },
   "outputs": [
    {
     "name": "stderr",
     "output_type": "stream",
     "text": [
      "test_operation (tests.ANSTestCase.eval.<locals>._TestCaseClass.test_operation) ... ok\n",
      "\n",
      "----------------------------------------------------------------------\n",
      "Ran 1 test in 0.004s\n",
      "\n",
      "OK\n"
     ]
    },
    {
     "data": {
      "text/plain": "<unittest.runner.TextTestResult run=1 errors=0 failures=0>"
     },
     "execution_count": 76,
     "metadata": {},
     "output_type": "execute_result"
    }
   ],
   "source": [
    "test_backpropagation.TestMul.eval()"
   ]
  },
  {
   "cell_type": "markdown",
   "id": "da6ce03a-f8ad-423d-aced-5b02da8d763f",
   "metadata": {},
   "source": [
    "Proveďme zpětnou propagaci."
   ]
  },
  {
   "cell_type": "code",
   "execution_count": 77,
   "id": "90a214f2-10cf-480f-b2c9-17c05ef7ef4b",
   "metadata": {
    "ExecuteTime": {
     "start_time": "2023-11-26T21:55:24.442123Z",
     "end_time": "2023-11-26T21:55:24.489518Z"
    }
   },
   "outputs": [
    {
     "data": {
      "text/plain": "(tensor(3.), tensor(2.))"
     },
     "execution_count": 77,
     "metadata": {},
     "output_type": "execute_result"
    }
   ],
   "source": [
    "du, dv = w.grad_fn(1.)\n",
    "du, dv"
   ]
  },
  {
   "cell_type": "code",
   "execution_count": 78,
   "id": "79f532a0-11b5-4c4c-aa05-eff92c348310",
   "metadata": {
    "ExecuteTime": {
     "start_time": "2023-11-26T21:55:28.774407Z",
     "end_time": "2023-11-26T21:55:28.812997Z"
    }
   },
   "outputs": [
    {
     "data": {
      "text/plain": "(tensor(3.), tensor(2.))"
     },
     "execution_count": 78,
     "metadata": {},
     "output_type": "execute_result"
    }
   ],
   "source": [
    "u.grad = du\n",
    "v.grad = dv\n",
    "u.grad, v.grad"
   ]
  },
  {
   "cell_type": "markdown",
   "id": "32801c19-23c8-4af9-a339-acd68e1904cf",
   "metadata": {},
   "source": [
    "Podobně jako u sčítání, nyní je zpětná propagace kompletní, protože proměnné `u` a `v` jsou na počátku výpočetního grafu a nemají žádné předky, tj. jejich `parents` je prázdná `tuple`."
   ]
  },
  {
   "cell_type": "markdown",
   "id": "6bb8091f-a356-4ac4-8953-43fc6f97eb97",
   "metadata": {},
   "source": [
    "# Výpočetní graf"
   ]
  },
  {
   "cell_type": "markdown",
   "id": "c801d93a-142f-4b83-9ba5-10a6b3adeb64",
   "metadata": {},
   "source": [
    "Pro lepší názornost si operace provedené s `u`, `v` a `w` můžeme vykreslit jako výpočetní graf. Poslouží nám k tomu třída `Digrapgh` balíku `graphviz`. Nejprve vytvoříme objekt grafu."
   ]
  },
  {
   "cell_type": "code",
   "execution_count": 125,
   "id": "3985584a-9ec8-43e4-a3e5-54f993617bf8",
   "metadata": {
    "ExecuteTime": {
     "start_time": "2023-11-26T22:14:45.340636Z",
     "end_time": "2023-11-26T22:14:45.736747Z"
    }
   },
   "outputs": [],
   "source": [
    "dot = graphviz.Digraph(graph_attr={'rankdir': 'LR'})\n",
    "\n",
    "#graphviz.Digraph??"
   ]
  },
  {
   "cell_type": "markdown",
   "id": "7c11a274-d180-4146-8d8f-cafa400f6e97",
   "metadata": {},
   "source": [
    "Uzly do grafu přidáme metodou `dot.node(node_uid: str, label: Optional[str] = None, shape: str = 'ellipse')`, kde\n",
    "- `node_uid` musí být jedinečný název pro uzel v grafu,\n",
    "- `label` obsahuje textový popis, který se zobrazí ve vykresleném grafu,\n",
    "- `shape` označuje tvar uzlu - uzly proměnných budeme kreslit jako obdélníky a uzly funkcí jako elipsy."
   ]
  },
  {
   "cell_type": "code",
   "execution_count": 126,
   "id": "2c9ce864-afac-44f0-a8c2-6717d8c0ef54",
   "metadata": {
    "ExecuteTime": {
     "start_time": "2023-11-26T22:14:48.091158Z",
     "end_time": "2023-11-26T22:14:48.132521Z"
    }
   },
   "outputs": [
    {
     "data": {
      "image/svg+xml": "<?xml version=\"1.0\" encoding=\"UTF-8\" standalone=\"no\"?>\n<!DOCTYPE svg PUBLIC \"-//W3C//DTD SVG 1.1//EN\"\n \"http://www.w3.org/Graphics/SVG/1.1/DTD/svg11.dtd\">\n<!-- Generated by graphviz version 8.1.0 (20230707.0739)\n -->\n<!-- Pages: 1 -->\n<svg width=\"68pt\" height=\"210pt\"\n viewBox=\"0.00 0.00 68.33 209.50\" xmlns=\"http://www.w3.org/2000/svg\" xmlns:xlink=\"http://www.w3.org/1999/xlink\">\n<g id=\"graph0\" class=\"graph\" transform=\"scale(1 1) rotate(0) translate(4 205.5)\">\n<polygon fill=\"white\" stroke=\"none\" points=\"-4,4 -4,-205.5 64.33,-205.5 64.33,4 -4,4\"/>\n<!-- u -->\n<g id=\"node1\" class=\"node\">\n<title>u</title>\n<polygon fill=\"none\" stroke=\"black\" points=\"3.16,-0.5 3.16,-36.5 57.16,-36.5 57.16,-0.5 3.16,-0.5\"/>\n<text text-anchor=\"middle\" x=\"30.16\" y=\"-14.2\" font-family=\"Times,serif\" font-size=\"14.00\">u</text>\n</g>\n<!-- v -->\n<g id=\"node2\" class=\"node\">\n<title>v</title>\n<polygon fill=\"none\" stroke=\"black\" points=\"3.16,-55.5 3.16,-91.5 57.16,-91.5 57.16,-55.5 3.16,-55.5\"/>\n<text text-anchor=\"middle\" x=\"30.16\" y=\"-69.2\" font-family=\"Times,serif\" font-size=\"14.00\">v</text>\n</g>\n<!-- w -->\n<g id=\"node3\" class=\"node\">\n<title>w</title>\n<polygon fill=\"none\" stroke=\"black\" points=\"3.16,-110.5 3.16,-146.5 57.16,-146.5 57.16,-110.5 3.16,-110.5\"/>\n<text text-anchor=\"middle\" x=\"30.16\" y=\"-124.2\" font-family=\"Times,serif\" font-size=\"14.00\">w</text>\n</g>\n<!-- mul -->\n<g id=\"node4\" class=\"node\">\n<title>mul</title>\n<ellipse fill=\"none\" stroke=\"black\" cx=\"30.16\" cy=\"-183.5\" rx=\"30.16\" ry=\"18\"/>\n<text text-anchor=\"middle\" x=\"30.16\" y=\"-178.82\" font-family=\"Times,serif\" font-size=\"14.00\">mul</text>\n</g>\n</g>\n</svg>\n",
      "text/plain": "<graphviz.graphs.Digraph at 0x7fa9de09d210>"
     },
     "execution_count": 126,
     "metadata": {},
     "output_type": "execute_result"
    }
   ],
   "source": [
    "dot.node('u', label='u', shape='record')\n",
    "dot.node('v', label='v', shape='record')\n",
    "dot.node('w', label='w', shape='record')\n",
    "dot.node('mul', label='mul')\n",
    "dot"
   ]
  },
  {
   "cell_type": "markdown",
   "id": "77cfbbe8-426c-4e55-912c-cd1973b43f55",
   "metadata": {},
   "source": [
    "Hrany přidáme metodou `dot.edge(from_uid: str, to_uid: str)`, kde\n",
    "- `from_uid` je jedinečný název uzlu, *ze* kterého hrana povede\n",
    "- `to_uid` je jedinečný název uzlu, *do* kterého hrana povede"
   ]
  },
  {
   "cell_type": "code",
   "execution_count": 127,
   "id": "f53741d9-9838-4f00-8217-f11f6945aa93",
   "metadata": {
    "ExecuteTime": {
     "start_time": "2023-11-26T22:14:51.999414Z",
     "end_time": "2023-11-26T22:14:52.050556Z"
    }
   },
   "outputs": [
    {
     "data": {
      "image/svg+xml": "<?xml version=\"1.0\" encoding=\"UTF-8\" standalone=\"no\"?>\n<!DOCTYPE svg PUBLIC \"-//W3C//DTD SVG 1.1//EN\"\n \"http://www.w3.org/Graphics/SVG/1.1/DTD/svg11.dtd\">\n<!-- Generated by graphviz version 8.1.0 (20230707.0739)\n -->\n<!-- Pages: 1 -->\n<svg width=\"248pt\" height=\"100pt\"\n viewBox=\"0.00 0.00 248.33 100.00\" xmlns=\"http://www.w3.org/2000/svg\" xmlns:xlink=\"http://www.w3.org/1999/xlink\">\n<g id=\"graph0\" class=\"graph\" transform=\"scale(1 1) rotate(0) translate(4 96)\">\n<polygon fill=\"white\" stroke=\"none\" points=\"-4,4 -4,-96 244.33,-96 244.33,4 -4,4\"/>\n<!-- u -->\n<g id=\"node1\" class=\"node\">\n<title>u</title>\n<polygon fill=\"none\" stroke=\"black\" points=\"0,-55.5 0,-91.5 54,-91.5 54,-55.5 0,-55.5\"/>\n<text text-anchor=\"middle\" x=\"27\" y=\"-69.2\" font-family=\"Times,serif\" font-size=\"14.00\">u</text>\n</g>\n<!-- mul -->\n<g id=\"node4\" class=\"node\">\n<title>mul</title>\n<ellipse fill=\"none\" stroke=\"black\" cx=\"120.16\" cy=\"-45.5\" rx=\"30.16\" ry=\"18\"/>\n<text text-anchor=\"middle\" x=\"120.16\" y=\"-40.83\" font-family=\"Times,serif\" font-size=\"14.00\">mul</text>\n</g>\n<!-- u&#45;&gt;mul -->\n<g id=\"edge1\" class=\"edge\">\n<title>u&#45;&gt;mul</title>\n<path fill=\"none\" stroke=\"black\" d=\"M53.88,-65.55C62.75,-62.83 72.86,-59.72 82.43,-56.78\"/>\n<polygon fill=\"black\" stroke=\"black\" points=\"83.37,-59.85 91.9,-53.57 81.32,-53.16 83.37,-59.85\"/>\n</g>\n<!-- v -->\n<g id=\"node2\" class=\"node\">\n<title>v</title>\n<polygon fill=\"none\" stroke=\"black\" points=\"0,-0.5 0,-36.5 54,-36.5 54,-0.5 0,-0.5\"/>\n<text text-anchor=\"middle\" x=\"27\" y=\"-14.2\" font-family=\"Times,serif\" font-size=\"14.00\">v</text>\n</g>\n<!-- v&#45;&gt;mul -->\n<g id=\"edge2\" class=\"edge\">\n<title>v&#45;&gt;mul</title>\n<path fill=\"none\" stroke=\"black\" d=\"M53.88,-26.16C62.68,-28.77 72.69,-31.73 82.18,-34.55\"/>\n<polygon fill=\"black\" stroke=\"black\" points=\"81,-38.14 91.58,-37.63 82.99,-31.43 81,-38.14\"/>\n</g>\n<!-- w -->\n<g id=\"node3\" class=\"node\">\n<title>w</title>\n<polygon fill=\"none\" stroke=\"black\" points=\"186.33,-27.5 186.33,-63.5 240.33,-63.5 240.33,-27.5 186.33,-27.5\"/>\n<text text-anchor=\"middle\" x=\"213.33\" y=\"-41.2\" font-family=\"Times,serif\" font-size=\"14.00\">w</text>\n</g>\n<!-- mul&#45;&gt;w -->\n<g id=\"edge3\" class=\"edge\">\n<title>mul&#45;&gt;w</title>\n<path fill=\"none\" stroke=\"black\" d=\"M150.76,-45.5C158.7,-45.5 167.37,-45.5 175.64,-45.5\"/>\n<polygon fill=\"black\" stroke=\"black\" points=\"175.56,-49 185.56,-45.5 175.56,-42 175.56,-49\"/>\n</g>\n</g>\n</svg>\n",
      "text/plain": "<graphviz.graphs.Digraph at 0x7fa9de09d210>"
     },
     "execution_count": 127,
     "metadata": {},
     "output_type": "execute_result"
    }
   ],
   "source": [
    "dot.edge('u', 'mul')\n",
    "dot.edge('v', 'mul')\n",
    "dot.edge('mul', 'w')\n",
    "dot"
   ]
  },
  {
   "cell_type": "markdown",
   "id": "f71423ab-2fed-4b55-b11b-1da38635fa7c",
   "metadata": {},
   "source": [
    "Vykreslení trochu zautomatizujeme a zabalíme do dvou metod. Rozšíříme zároveň popisky (`label`) tak, aby obsahovaly atribud `grad`, pokud není `None`."
   ]
  },
  {
   "cell_type": "code",
   "execution_count": 84,
   "id": "7bc90291-812f-436b-b411-a055d2d95ed3",
   "metadata": {
    "ExecuteTime": {
     "start_time": "2023-11-26T21:55:40.928735Z",
     "end_time": "2023-11-26T21:55:40.979215Z"
    }
   },
   "outputs": [],
   "source": [
    "def node_label(node: ans.autograd.Variable) -> str:\n",
    "    try:\n",
    "        name = next(k for k, v in globals().items() if v is node)\n",
    "    except StopIteration:\n",
    "        name = ''\n",
    "    label = f\"{name} = {node.data.item()}\"\n",
    "    if node.grad is not None:\n",
    "        label += f\" | grad = {node.grad.item()}\"\n",
    "    return label"
   ]
  },
  {
   "cell_type": "code",
   "execution_count": 85,
   "id": "b54279fe-0d4b-41d0-b76b-f0ea0c4a5764",
   "metadata": {
    "ExecuteTime": {
     "start_time": "2023-11-26T21:55:42.368486Z",
     "end_time": "2023-11-26T21:55:42.416154Z"
    }
   },
   "outputs": [],
   "source": [
    "def draw_comp_graph_ex_1() -> graphviz.Digraph:\n",
    "    dot = graphviz.Digraph(graph_attr={'rankdir': 'LR'})\n",
    "    dot.node('u', label=node_label(u), shape='record')\n",
    "    dot.node('v', label=node_label(v), shape='record')\n",
    "    dot.node('mul', label='mul')\n",
    "    dot.edge('u', 'mul')\n",
    "    dot.edge('v', 'mul')\n",
    "    dot.node('w', label=node_label(w), shape='record')\n",
    "    dot.edge('mul', 'w')\n",
    "    return dot"
   ]
  },
  {
   "cell_type": "code",
   "execution_count": 128,
   "id": "b0c45734-feeb-4f55-baa9-cd947613f4af",
   "metadata": {
    "ExecuteTime": {
     "start_time": "2023-11-26T22:15:43.725807Z",
     "end_time": "2023-11-26T22:15:43.770131Z"
    }
   },
   "outputs": [
    {
     "data": {
      "image/svg+xml": "<?xml version=\"1.0\" encoding=\"UTF-8\" standalone=\"no\"?>\n<!DOCTYPE svg PUBLIC \"-//W3C//DTD SVG 1.1//EN\"\n \"http://www.w3.org/Graphics/SVG/1.1/DTD/svg11.dtd\">\n<!-- Generated by graphviz version 8.1.0 (20230707.0739)\n -->\n<!-- Pages: 1 -->\n<svg width=\"304pt\" height=\"130pt\"\n viewBox=\"0.00 0.00 304.33 129.50\" xmlns=\"http://www.w3.org/2000/svg\" xmlns:xlink=\"http://www.w3.org/1999/xlink\">\n<g id=\"graph0\" class=\"graph\" transform=\"scale(1 1) rotate(0) translate(4 125.5)\">\n<polygon fill=\"white\" stroke=\"none\" points=\"-4,4 -4,-125.5 300.33,-125.5 300.33,4 -4,4\"/>\n<!-- u -->\n<g id=\"node1\" class=\"node\">\n<title>u</title>\n<polygon fill=\"none\" stroke=\"black\" points=\"0,-70.5 0,-121 92.5,-121 92.5,-70.5 0,-70.5\"/>\n<text text-anchor=\"middle\" x=\"46.25\" y=\"-103.7\" font-family=\"Times,serif\" font-size=\"14.00\">u = 2.0</text>\n<polyline fill=\"none\" stroke=\"black\" points=\"0,-95.75 92.5,-95.75\"/>\n<text text-anchor=\"middle\" x=\"46.25\" y=\"-78.45\" font-family=\"Times,serif\" font-size=\"14.00\">grad = 3.0</text>\n</g>\n<!-- mul -->\n<g id=\"node3\" class=\"node\">\n<title>mul</title>\n<ellipse fill=\"none\" stroke=\"black\" cx=\"158.66\" cy=\"-60.75\" rx=\"30.16\" ry=\"18\"/>\n<text text-anchor=\"middle\" x=\"158.66\" y=\"-56.08\" font-family=\"Times,serif\" font-size=\"14.00\">mul</text>\n</g>\n<!-- u&#45;&gt;mul -->\n<g id=\"edge1\" class=\"edge\">\n<title>u&#45;&gt;mul</title>\n<path fill=\"none\" stroke=\"black\" d=\"M92.48,-81.41C101.98,-78.4 111.89,-75.26 121.03,-72.36\"/>\n<polygon fill=\"black\" stroke=\"black\" points=\"121.87,-75.45 130.34,-69.09 119.75,-68.78 121.87,-75.45\"/>\n</g>\n<!-- v -->\n<g id=\"node2\" class=\"node\">\n<title>v</title>\n<polygon fill=\"none\" stroke=\"black\" points=\"0,-0.5 0,-51 92.5,-51 92.5,-0.5 0,-0.5\"/>\n<text text-anchor=\"middle\" x=\"46.25\" y=\"-33.7\" font-family=\"Times,serif\" font-size=\"14.00\">v = 3.0</text>\n<polyline fill=\"none\" stroke=\"black\" points=\"0,-25.75 92.5,-25.75\"/>\n<text text-anchor=\"middle\" x=\"46.25\" y=\"-8.45\" font-family=\"Times,serif\" font-size=\"14.00\">grad = 2.0</text>\n</g>\n<!-- v&#45;&gt;mul -->\n<g id=\"edge2\" class=\"edge\">\n<title>v&#45;&gt;mul</title>\n<path fill=\"none\" stroke=\"black\" d=\"M92.48,-40.09C101.98,-43.1 111.89,-46.24 121.03,-49.14\"/>\n<polygon fill=\"black\" stroke=\"black\" points=\"119.75,-52.72 130.34,-52.41 121.87,-46.05 119.75,-52.72\"/>\n</g>\n<!-- w -->\n<g id=\"node4\" class=\"node\">\n<title>w</title>\n<polygon fill=\"none\" stroke=\"black\" points=\"224.83,-42.75 224.83,-78.75 296.33,-78.75 296.33,-42.75 224.83,-42.75\"/>\n<text text-anchor=\"middle\" x=\"260.58\" y=\"-56.45\" font-family=\"Times,serif\" font-size=\"14.00\">w = 6.0</text>\n</g>\n<!-- mul&#45;&gt;w -->\n<g id=\"edge3\" class=\"edge\">\n<title>mul&#45;&gt;w</title>\n<path fill=\"none\" stroke=\"black\" d=\"M189.1,-60.75C196.95,-60.75 205.61,-60.75 214.1,-60.75\"/>\n<polygon fill=\"black\" stroke=\"black\" points=\"214.07,-64.25 224.07,-60.75 214.07,-57.25 214.07,-64.25\"/>\n</g>\n</g>\n</svg>\n",
      "text/plain": "<graphviz.graphs.Digraph at 0x7fa9de0b8b10>"
     },
     "execution_count": 128,
     "metadata": {},
     "output_type": "execute_result"
    }
   ],
   "source": [
    "draw_comp_graph_ex_1()"
   ]
  },
  {
   "cell_type": "markdown",
   "id": "088336a8-1c0c-4121-be1d-27885ed70352",
   "metadata": {},
   "source": [
    "Později ve cvičení vykreslování zobecníme pro libovolné sekvence operací."
   ]
  },
  {
   "cell_type": "markdown",
   "id": "d31ae885-0922-494e-b8f2-dd5287a9599c",
   "metadata": {},
   "source": [
    "# Příklad: $z = (x_1 + a \\cdot x_2)^2$"
   ]
  },
  {
   "cell_type": "markdown",
   "id": "d9e3a44d-5a64-48ba-b65c-6fb7cf2526d9",
   "metadata": {},
   "source": [
    "Nyní, když máme definovány základní operace `+`, `-` a `*` a vykreslování, zkusme druhý příklad z notebooku [pytorch-autograd](../notebooks/pytorch-autograd.ipynb)\n",
    "$$z = (x_1 + a \\cdot x_2)^2$$\n",
    "kde $x_1 = 1$, $a = 2$ a $x_2 = 3$ a tedy $z = (1 + 2 \\cdot 3)^2 = 49$."
   ]
  },
  {
   "cell_type": "code",
   "execution_count": 87,
   "id": "f45afc0d-777e-4ed8-a121-2399f2410864",
   "metadata": {
    "ExecuteTime": {
     "start_time": "2023-11-26T21:56:05.233855Z",
     "end_time": "2023-11-26T21:56:05.288752Z"
    }
   },
   "outputs": [
    {
     "data": {
      "text/plain": "Variable(49.0, grad_fn=Variable.__mul__.<locals>.grad_fn)"
     },
     "execution_count": 87,
     "metadata": {},
     "output_type": "execute_result"
    }
   ],
   "source": [
    "x1 = ans.autograd.Variable(torch.tensor(1.))\n",
    "a = ans.autograd.Variable(torch.tensor(2.))\n",
    "x2 = ans.autograd.Variable(torch.tensor(3.))\n",
    "\n",
    "x2_ = a * x2\n",
    "y = x1 + x2_\n",
    "z = y * y\n",
    "z"
   ]
  },
  {
   "cell_type": "code",
   "execution_count": 88,
   "id": "15d7f05d-a909-4c70-ae17-c05a3d460dd7",
   "metadata": {
    "ExecuteTime": {
     "start_time": "2023-11-26T21:56:12.704470Z",
     "end_time": "2023-11-26T21:56:12.765342Z"
    }
   },
   "outputs": [
    {
     "data": {
      "text/plain": "(tensor(1.), tensor(2.), tensor(3.), tensor(6.), tensor(7.), tensor(49.))"
     },
     "execution_count": 88,
     "metadata": {},
     "output_type": "execute_result"
    }
   ],
   "source": [
    "x1.data, a.data, x2.data, x2_.data, y.data, z.data"
   ]
  },
  {
   "cell_type": "code",
   "execution_count": 89,
   "id": "68af6e47-3962-4960-978f-0a22a9dd9d54",
   "metadata": {
    "ExecuteTime": {
     "start_time": "2023-11-26T21:56:14.594420Z",
     "end_time": "2023-11-26T21:56:14.641162Z"
    }
   },
   "outputs": [],
   "source": [
    "def draw_comp_graph_ex_2() -> graphviz.Digraph:\n",
    "    dot = graphviz.Digraph(graph_attr={'rankdir': 'LR'})\n",
    "    dot.node('x1', label=node_label(x1), shape='record')\n",
    "    dot.node('a', label=node_label(a), shape='record')\n",
    "    dot.node('x2', label=node_label(x2), shape='record')\n",
    "    dot.node('mul1', label='mul')  # node name must me unique\n",
    "    dot.edge('a', 'mul1')\n",
    "    dot.edge('x2', 'mul1')\n",
    "    dot.node('x2_', label=node_label(x2_), shape='record')\n",
    "    dot.edge('mul1', 'x2_')\n",
    "    dot.node('add', label='add')\n",
    "    dot.edge('x1', 'add')\n",
    "    dot.edge('x2_', 'add')\n",
    "    dot.node('y', label=node_label(y), shape='record')\n",
    "    dot.edge('add', 'y')\n",
    "    dot.node('mul2', label='mul')\n",
    "    dot.edge('y', 'mul2')\n",
    "    dot.edge('y', 'mul2')\n",
    "    dot.node('z', label=node_label(z), shape='record')\n",
    "    dot.edge('mul2', 'z')\n",
    "    return dot"
   ]
  },
  {
   "cell_type": "code",
   "execution_count": 129,
   "id": "576ff0a8-9a9e-4fe1-9d21-5313699ed84e",
   "metadata": {
    "ExecuteTime": {
     "start_time": "2023-11-26T22:15:50.389932Z",
     "end_time": "2023-11-26T22:15:50.431744Z"
    }
   },
   "outputs": [
    {
     "data": {
      "image/svg+xml": "<?xml version=\"1.0\" encoding=\"UTF-8\" standalone=\"no\"?>\n<!DOCTYPE svg PUBLIC \"-//W3C//DTD SVG 1.1//EN\"\n \"http://www.w3.org/Graphics/SVG/1.1/DTD/svg11.dtd\">\n<!-- Generated by graphviz version 8.1.0 (20230707.0739)\n -->\n<!-- Pages: 1 -->\n<svg width=\"784pt\" height=\"165pt\"\n viewBox=\"0.00 0.00 784.43 164.50\" xmlns=\"http://www.w3.org/2000/svg\" xmlns:xlink=\"http://www.w3.org/1999/xlink\">\n<g id=\"graph0\" class=\"graph\" transform=\"scale(1 1) rotate(0) translate(4 160.5)\">\n<polygon fill=\"white\" stroke=\"none\" points=\"-4,4 -4,-160.5 780.43,-160.5 780.43,4 -4,4\"/>\n<!-- x1 -->\n<g id=\"node1\" class=\"node\">\n<title>x1</title>\n<polygon fill=\"none\" stroke=\"black\" points=\"233.83,-105.5 233.83,-156 335.33,-156 335.33,-105.5 233.83,-105.5\"/>\n<text text-anchor=\"middle\" x=\"284.58\" y=\"-138.7\" font-family=\"Times,serif\" font-size=\"14.00\">x1 = 1.0</text>\n<polyline fill=\"none\" stroke=\"black\" points=\"233.83,-130.75 335.33,-130.75\"/>\n<text text-anchor=\"middle\" x=\"284.58\" y=\"-113.45\" font-family=\"Times,serif\" font-size=\"14.00\">grad = 14.0</text>\n</g>\n<!-- add -->\n<g id=\"node6\" class=\"node\">\n<title>add</title>\n<ellipse fill=\"none\" stroke=\"black\" cx=\"400.96\" cy=\"-95.75\" rx=\"29.64\" ry=\"18\"/>\n<text text-anchor=\"middle\" x=\"400.96\" y=\"-91.08\" font-family=\"Times,serif\" font-size=\"14.00\">add</text>\n</g>\n<!-- x1&#45;&gt;add -->\n<g id=\"edge4\" class=\"edge\">\n<title>x1&#45;&gt;add</title>\n<path fill=\"none\" stroke=\"black\" d=\"M335.08,-115.6C344.72,-112.65 354.65,-109.62 363.76,-106.83\"/>\n<polygon fill=\"black\" stroke=\"black\" points=\"364.46,-109.97 373,-103.69 362.41,-103.27 364.46,-109.97\"/>\n</g>\n<!-- a -->\n<g id=\"node2\" class=\"node\">\n<title>a</title>\n<polygon fill=\"none\" stroke=\"black\" points=\"0,-70.5 0,-121 101.5,-121 101.5,-70.5 0,-70.5\"/>\n<text text-anchor=\"middle\" x=\"50.75\" y=\"-103.7\" font-family=\"Times,serif\" font-size=\"14.00\">a = 2.0</text>\n<polyline fill=\"none\" stroke=\"black\" points=\"0,-95.75 101.5,-95.75\"/>\n<text text-anchor=\"middle\" x=\"50.75\" y=\"-78.45\" font-family=\"Times,serif\" font-size=\"14.00\">grad = 42.0</text>\n</g>\n<!-- mul1 -->\n<g id=\"node4\" class=\"node\">\n<title>mul1</title>\n<ellipse fill=\"none\" stroke=\"black\" cx=\"167.66\" cy=\"-60.75\" rx=\"30.16\" ry=\"18\"/>\n<text text-anchor=\"middle\" x=\"167.66\" y=\"-56.08\" font-family=\"Times,serif\" font-size=\"14.00\">mul</text>\n</g>\n<!-- a&#45;&gt;mul1 -->\n<g id=\"edge1\" class=\"edge\">\n<title>a&#45;&gt;mul1</title>\n<path fill=\"none\" stroke=\"black\" d=\"M101.48,-80.6C110.97,-77.71 120.75,-74.74 129.74,-71.99\"/>\n<polygon fill=\"black\" stroke=\"black\" points=\"130.72,-75.05 139.27,-68.79 128.68,-68.36 130.72,-75.05\"/>\n</g>\n<!-- x2 -->\n<g id=\"node3\" class=\"node\">\n<title>x2</title>\n<polygon fill=\"none\" stroke=\"black\" points=\"0,-0.5 0,-51 101.5,-51 101.5,-0.5 0,-0.5\"/>\n<text text-anchor=\"middle\" x=\"50.75\" y=\"-33.7\" font-family=\"Times,serif\" font-size=\"14.00\">x2 = 3.0</text>\n<polyline fill=\"none\" stroke=\"black\" points=\"0,-25.75 101.5,-25.75\"/>\n<text text-anchor=\"middle\" x=\"50.75\" y=\"-8.45\" font-family=\"Times,serif\" font-size=\"14.00\">grad = 28.0</text>\n</g>\n<!-- x2&#45;&gt;mul1 -->\n<g id=\"edge2\" class=\"edge\">\n<title>x2&#45;&gt;mul1</title>\n<path fill=\"none\" stroke=\"black\" d=\"M101.48,-40.9C110.97,-43.79 120.75,-46.76 129.74,-49.51\"/>\n<polygon fill=\"black\" stroke=\"black\" points=\"128.68,-53.14 139.27,-52.71 130.72,-46.45 128.68,-53.14\"/>\n</g>\n<!-- x2_ -->\n<g id=\"node5\" class=\"node\">\n<title>x2_</title>\n<polygon fill=\"none\" stroke=\"black\" points=\"233.83,-35.5 233.83,-86 335.33,-86 335.33,-35.5 233.83,-35.5\"/>\n<text text-anchor=\"middle\" x=\"284.58\" y=\"-68.7\" font-family=\"Times,serif\" font-size=\"14.00\">x2_ = 6.0</text>\n<polyline fill=\"none\" stroke=\"black\" points=\"233.83,-60.75 335.33,-60.75\"/>\n<text text-anchor=\"middle\" x=\"284.58\" y=\"-43.45\" font-family=\"Times,serif\" font-size=\"14.00\">grad = 14.0</text>\n</g>\n<!-- mul1&#45;&gt;x2_ -->\n<g id=\"edge3\" class=\"edge\">\n<title>mul1&#45;&gt;x2_</title>\n<path fill=\"none\" stroke=\"black\" d=\"M198.26,-60.75C205.93,-60.75 214.47,-60.75 223.1,-60.75\"/>\n<polygon fill=\"black\" stroke=\"black\" points=\"223.03,-64.25 233.03,-60.75 223.03,-57.25 223.03,-64.25\"/>\n</g>\n<!-- x2_&#45;&gt;add -->\n<g id=\"edge5\" class=\"edge\">\n<title>x2_&#45;&gt;add</title>\n<path fill=\"none\" stroke=\"black\" d=\"M335.08,-75.9C344.72,-78.85 354.65,-81.88 363.76,-84.67\"/>\n<polygon fill=\"black\" stroke=\"black\" points=\"362.41,-88.23 373,-87.81 364.46,-81.53 362.41,-88.23\"/>\n</g>\n<!-- y -->\n<g id=\"node7\" class=\"node\">\n<title>y</title>\n<polygon fill=\"none\" stroke=\"black\" points=\"466.6,-70.5 466.6,-121 568.1,-121 568.1,-70.5 466.6,-70.5\"/>\n<text text-anchor=\"middle\" x=\"517.35\" y=\"-103.7\" font-family=\"Times,serif\" font-size=\"14.00\">y = 7.0</text>\n<polyline fill=\"none\" stroke=\"black\" points=\"466.6,-95.75 568.1,-95.75\"/>\n<text text-anchor=\"middle\" x=\"517.35\" y=\"-78.45\" font-family=\"Times,serif\" font-size=\"14.00\">grad = 14.0</text>\n</g>\n<!-- add&#45;&gt;y -->\n<g id=\"edge6\" class=\"edge\">\n<title>add&#45;&gt;y</title>\n<path fill=\"none\" stroke=\"black\" d=\"M430.83,-95.75C438.64,-95.75 447.39,-95.75 456.24,-95.75\"/>\n<polygon fill=\"black\" stroke=\"black\" points=\"456.02,-99.25 466.02,-95.75 456.02,-92.25 456.02,-99.25\"/>\n</g>\n<!-- mul2 -->\n<g id=\"node8\" class=\"node\">\n<title>mul2</title>\n<ellipse fill=\"none\" stroke=\"black\" cx=\"634.27\" cy=\"-95.75\" rx=\"30.16\" ry=\"18\"/>\n<text text-anchor=\"middle\" x=\"634.27\" y=\"-91.08\" font-family=\"Times,serif\" font-size=\"14.00\">mul</text>\n</g>\n<!-- y&#45;&gt;mul2 -->\n<g id=\"edge7\" class=\"edge\">\n<title>y&#45;&gt;mul2</title>\n<path fill=\"none\" stroke=\"black\" d=\"M568.09,-89.05C576.94,-88.93 586.05,-89.02 594.54,-89.33\"/>\n<polygon fill=\"black\" stroke=\"black\" points=\"594.12,-92.86 604.28,-89.86 594.47,-85.87 594.12,-92.86\"/>\n</g>\n<!-- y&#45;&gt;mul2 -->\n<g id=\"edge8\" class=\"edge\">\n<title>y&#45;&gt;mul2</title>\n<path fill=\"none\" stroke=\"black\" d=\"M568.09,-102.45C576.94,-102.57 586.05,-102.48 594.54,-102.17\"/>\n<polygon fill=\"black\" stroke=\"black\" points=\"594.47,-105.63 604.28,-101.64 594.12,-98.64 594.47,-105.63\"/>\n</g>\n<!-- z -->\n<g id=\"node9\" class=\"node\">\n<title>z</title>\n<polygon fill=\"none\" stroke=\"black\" points=\"700.43,-77.75 700.43,-113.75 776.43,-113.75 776.43,-77.75 700.43,-77.75\"/>\n<text text-anchor=\"middle\" x=\"738.43\" y=\"-91.45\" font-family=\"Times,serif\" font-size=\"14.00\">z = 49.0</text>\n</g>\n<!-- mul2&#45;&gt;z -->\n<g id=\"edge9\" class=\"edge\">\n<title>mul2&#45;&gt;z</title>\n<path fill=\"none\" stroke=\"black\" d=\"M664.82,-95.75C672.6,-95.75 681.2,-95.75 689.68,-95.75\"/>\n<polygon fill=\"black\" stroke=\"black\" points=\"689.68,-99.25 699.68,-95.75 689.68,-92.25 689.68,-99.25\"/>\n</g>\n</g>\n</svg>\n",
      "text/plain": "<graphviz.graphs.Digraph at 0x7fa9de0bb0d0>"
     },
     "execution_count": 129,
     "metadata": {},
     "output_type": "execute_result"
    }
   ],
   "source": [
    "draw_comp_graph_ex_2()"
   ]
  },
  {
   "cell_type": "markdown",
   "id": "6d0eb13e-9c5b-46e4-9d26-c82bc9b7ff48",
   "metadata": {},
   "source": [
    "## Zpětná propagace"
   ]
  },
  {
   "cell_type": "markdown",
   "id": "0239cf57-b276-4855-b337-822a92c1f1e6",
   "metadata": {},
   "source": [
    "V druhém příkladu bude zpětná propagace složitější a na více kroků. Začneme opět od konce grafu, tj. tentokrát uzlu `z`."
   ]
  },
  {
   "cell_type": "code",
   "execution_count": 91,
   "id": "f490ea2d-98f3-451c-8dca-6c862735c7c7",
   "metadata": {
    "ExecuteTime": {
     "start_time": "2023-11-26T21:56:19.862368Z",
     "end_time": "2023-11-26T21:56:19.907641Z"
    }
   },
   "outputs": [
    {
     "data": {
      "text/plain": "(Variable(7.0, grad_fn=Variable.__add__.<locals>.grad_fn),\n Variable(7.0, grad_fn=Variable.__add__.<locals>.grad_fn))"
     },
     "execution_count": 91,
     "metadata": {},
     "output_type": "execute_result"
    }
   ],
   "source": [
    "z.parents"
   ]
  },
  {
   "cell_type": "code",
   "execution_count": 92,
   "id": "48fa3958-ace5-4f49-897c-7507deb1d826",
   "metadata": {
    "ExecuteTime": {
     "start_time": "2023-11-26T21:56:21.760000Z",
     "end_time": "2023-11-26T21:56:21.811058Z"
    }
   },
   "outputs": [
    {
     "data": {
      "text/plain": "(True, True)"
     },
     "execution_count": 92,
     "metadata": {},
     "output_type": "execute_result"
    }
   ],
   "source": [
    "z.parents[0] is y, z.parents[1] is y"
   ]
  },
  {
   "cell_type": "markdown",
   "id": "0c384d97-51ea-42be-b4ca-eed55026a8ba",
   "metadata": {},
   "source": [
    "Gradient na `y`:"
   ]
  },
  {
   "cell_type": "code",
   "execution_count": 93,
   "id": "1d07a045-5da9-479d-b0ef-2050b2e14d42",
   "metadata": {
    "ExecuteTime": {
     "start_time": "2023-11-26T21:56:24.043602Z",
     "end_time": "2023-11-26T21:56:24.105669Z"
    }
   },
   "outputs": [
    {
     "data": {
      "text/plain": "(tensor(7.), tensor(7.))"
     },
     "execution_count": 93,
     "metadata": {},
     "output_type": "execute_result"
    }
   ],
   "source": [
    "dy1, dy2 = z.grad_fn(1.)\n",
    "dy1, dy2"
   ]
  },
  {
   "cell_type": "markdown",
   "id": "4df18608-4ae2-47e2-8d77-b0a252c36145",
   "metadata": {},
   "source": [
    "Vidíme, že jsme dostali gradient na oba vstupy pronásobení `z = y * y`. Protože byl použitý stejný vstup `y` dvakrát, oba gradienty jsou na stejnou proměnnou. V takovém případě gradienty sečteme, viz notebook [pytorch-autograd](../notebooks/pytorch-autograd.ipynb). Analyticky přitom můžeme ověřit, že je výsledek správný\n",
    "$$\\frac{dz}{dy} = 2y = 2 \\cdot 7 = 14$$"
   ]
  },
  {
   "cell_type": "code",
   "execution_count": 94,
   "id": "2122fa22-b7c7-4cd0-871e-2b66b1e55be6",
   "metadata": {
    "ExecuteTime": {
     "start_time": "2023-11-26T21:56:26.138952Z",
     "end_time": "2023-11-26T21:56:26.183580Z"
    }
   },
   "outputs": [
    {
     "data": {
      "text/plain": "tensor(14.)"
     },
     "execution_count": 94,
     "metadata": {},
     "output_type": "execute_result"
    }
   ],
   "source": [
    "y.grad = dy1\n",
    "y.grad += dy2\n",
    "y.grad"
   ]
  },
  {
   "cell_type": "markdown",
   "id": "98afd53d-39ef-4ae2-b7b0-fdea1629ca79",
   "metadata": {},
   "source": [
    "Zde je opět názorně vidět, proč je PyTorch navržený tak, aby gradienty při zpětném průchodu nepřepisoval, ale akumuloval. Pokud bychom příchozí gradient přepisovali, celkové `dy` by bylo 7. **Správně bychom tedy vždy při updatu atributu `grad` měli nejprve zjistit, zda je `None` a pokud ano, incializovat ho na nuly, a poté přičíst gradient.**"
   ]
  },
  {
   "cell_type": "code",
   "execution_count": 130,
   "id": "c62e4c67-86b8-4326-9a3d-b1eb21d7aa0e",
   "metadata": {
    "ExecuteTime": {
     "start_time": "2023-11-26T22:15:55.680242Z",
     "end_time": "2023-11-26T22:15:55.731653Z"
    }
   },
   "outputs": [
    {
     "data": {
      "image/svg+xml": "<?xml version=\"1.0\" encoding=\"UTF-8\" standalone=\"no\"?>\n<!DOCTYPE svg PUBLIC \"-//W3C//DTD SVG 1.1//EN\"\n \"http://www.w3.org/Graphics/SVG/1.1/DTD/svg11.dtd\">\n<!-- Generated by graphviz version 8.1.0 (20230707.0739)\n -->\n<!-- Pages: 1 -->\n<svg width=\"784pt\" height=\"165pt\"\n viewBox=\"0.00 0.00 784.43 164.50\" xmlns=\"http://www.w3.org/2000/svg\" xmlns:xlink=\"http://www.w3.org/1999/xlink\">\n<g id=\"graph0\" class=\"graph\" transform=\"scale(1 1) rotate(0) translate(4 160.5)\">\n<polygon fill=\"white\" stroke=\"none\" points=\"-4,4 -4,-160.5 780.43,-160.5 780.43,4 -4,4\"/>\n<!-- x1 -->\n<g id=\"node1\" class=\"node\">\n<title>x1</title>\n<polygon fill=\"none\" stroke=\"black\" points=\"233.83,-105.5 233.83,-156 335.33,-156 335.33,-105.5 233.83,-105.5\"/>\n<text text-anchor=\"middle\" x=\"284.58\" y=\"-138.7\" font-family=\"Times,serif\" font-size=\"14.00\">x1 = 1.0</text>\n<polyline fill=\"none\" stroke=\"black\" points=\"233.83,-130.75 335.33,-130.75\"/>\n<text text-anchor=\"middle\" x=\"284.58\" y=\"-113.45\" font-family=\"Times,serif\" font-size=\"14.00\">grad = 14.0</text>\n</g>\n<!-- add -->\n<g id=\"node6\" class=\"node\">\n<title>add</title>\n<ellipse fill=\"none\" stroke=\"black\" cx=\"400.96\" cy=\"-95.75\" rx=\"29.64\" ry=\"18\"/>\n<text text-anchor=\"middle\" x=\"400.96\" y=\"-91.08\" font-family=\"Times,serif\" font-size=\"14.00\">add</text>\n</g>\n<!-- x1&#45;&gt;add -->\n<g id=\"edge4\" class=\"edge\">\n<title>x1&#45;&gt;add</title>\n<path fill=\"none\" stroke=\"black\" d=\"M335.08,-115.6C344.72,-112.65 354.65,-109.62 363.76,-106.83\"/>\n<polygon fill=\"black\" stroke=\"black\" points=\"364.46,-109.97 373,-103.69 362.41,-103.27 364.46,-109.97\"/>\n</g>\n<!-- a -->\n<g id=\"node2\" class=\"node\">\n<title>a</title>\n<polygon fill=\"none\" stroke=\"black\" points=\"0,-70.5 0,-121 101.5,-121 101.5,-70.5 0,-70.5\"/>\n<text text-anchor=\"middle\" x=\"50.75\" y=\"-103.7\" font-family=\"Times,serif\" font-size=\"14.00\">a = 2.0</text>\n<polyline fill=\"none\" stroke=\"black\" points=\"0,-95.75 101.5,-95.75\"/>\n<text text-anchor=\"middle\" x=\"50.75\" y=\"-78.45\" font-family=\"Times,serif\" font-size=\"14.00\">grad = 42.0</text>\n</g>\n<!-- mul1 -->\n<g id=\"node4\" class=\"node\">\n<title>mul1</title>\n<ellipse fill=\"none\" stroke=\"black\" cx=\"167.66\" cy=\"-60.75\" rx=\"30.16\" ry=\"18\"/>\n<text text-anchor=\"middle\" x=\"167.66\" y=\"-56.08\" font-family=\"Times,serif\" font-size=\"14.00\">mul</text>\n</g>\n<!-- a&#45;&gt;mul1 -->\n<g id=\"edge1\" class=\"edge\">\n<title>a&#45;&gt;mul1</title>\n<path fill=\"none\" stroke=\"black\" d=\"M101.48,-80.6C110.97,-77.71 120.75,-74.74 129.74,-71.99\"/>\n<polygon fill=\"black\" stroke=\"black\" points=\"130.72,-75.05 139.27,-68.79 128.68,-68.36 130.72,-75.05\"/>\n</g>\n<!-- x2 -->\n<g id=\"node3\" class=\"node\">\n<title>x2</title>\n<polygon fill=\"none\" stroke=\"black\" points=\"0,-0.5 0,-51 101.5,-51 101.5,-0.5 0,-0.5\"/>\n<text text-anchor=\"middle\" x=\"50.75\" y=\"-33.7\" font-family=\"Times,serif\" font-size=\"14.00\">x2 = 3.0</text>\n<polyline fill=\"none\" stroke=\"black\" points=\"0,-25.75 101.5,-25.75\"/>\n<text text-anchor=\"middle\" x=\"50.75\" y=\"-8.45\" font-family=\"Times,serif\" font-size=\"14.00\">grad = 28.0</text>\n</g>\n<!-- x2&#45;&gt;mul1 -->\n<g id=\"edge2\" class=\"edge\">\n<title>x2&#45;&gt;mul1</title>\n<path fill=\"none\" stroke=\"black\" d=\"M101.48,-40.9C110.97,-43.79 120.75,-46.76 129.74,-49.51\"/>\n<polygon fill=\"black\" stroke=\"black\" points=\"128.68,-53.14 139.27,-52.71 130.72,-46.45 128.68,-53.14\"/>\n</g>\n<!-- x2_ -->\n<g id=\"node5\" class=\"node\">\n<title>x2_</title>\n<polygon fill=\"none\" stroke=\"black\" points=\"233.83,-35.5 233.83,-86 335.33,-86 335.33,-35.5 233.83,-35.5\"/>\n<text text-anchor=\"middle\" x=\"284.58\" y=\"-68.7\" font-family=\"Times,serif\" font-size=\"14.00\">x2_ = 6.0</text>\n<polyline fill=\"none\" stroke=\"black\" points=\"233.83,-60.75 335.33,-60.75\"/>\n<text text-anchor=\"middle\" x=\"284.58\" y=\"-43.45\" font-family=\"Times,serif\" font-size=\"14.00\">grad = 14.0</text>\n</g>\n<!-- mul1&#45;&gt;x2_ -->\n<g id=\"edge3\" class=\"edge\">\n<title>mul1&#45;&gt;x2_</title>\n<path fill=\"none\" stroke=\"black\" d=\"M198.26,-60.75C205.93,-60.75 214.47,-60.75 223.1,-60.75\"/>\n<polygon fill=\"black\" stroke=\"black\" points=\"223.03,-64.25 233.03,-60.75 223.03,-57.25 223.03,-64.25\"/>\n</g>\n<!-- x2_&#45;&gt;add -->\n<g id=\"edge5\" class=\"edge\">\n<title>x2_&#45;&gt;add</title>\n<path fill=\"none\" stroke=\"black\" d=\"M335.08,-75.9C344.72,-78.85 354.65,-81.88 363.76,-84.67\"/>\n<polygon fill=\"black\" stroke=\"black\" points=\"362.41,-88.23 373,-87.81 364.46,-81.53 362.41,-88.23\"/>\n</g>\n<!-- y -->\n<g id=\"node7\" class=\"node\">\n<title>y</title>\n<polygon fill=\"none\" stroke=\"black\" points=\"466.6,-70.5 466.6,-121 568.1,-121 568.1,-70.5 466.6,-70.5\"/>\n<text text-anchor=\"middle\" x=\"517.35\" y=\"-103.7\" font-family=\"Times,serif\" font-size=\"14.00\">y = 7.0</text>\n<polyline fill=\"none\" stroke=\"black\" points=\"466.6,-95.75 568.1,-95.75\"/>\n<text text-anchor=\"middle\" x=\"517.35\" y=\"-78.45\" font-family=\"Times,serif\" font-size=\"14.00\">grad = 14.0</text>\n</g>\n<!-- add&#45;&gt;y -->\n<g id=\"edge6\" class=\"edge\">\n<title>add&#45;&gt;y</title>\n<path fill=\"none\" stroke=\"black\" d=\"M430.83,-95.75C438.64,-95.75 447.39,-95.75 456.24,-95.75\"/>\n<polygon fill=\"black\" stroke=\"black\" points=\"456.02,-99.25 466.02,-95.75 456.02,-92.25 456.02,-99.25\"/>\n</g>\n<!-- mul2 -->\n<g id=\"node8\" class=\"node\">\n<title>mul2</title>\n<ellipse fill=\"none\" stroke=\"black\" cx=\"634.27\" cy=\"-95.75\" rx=\"30.16\" ry=\"18\"/>\n<text text-anchor=\"middle\" x=\"634.27\" y=\"-91.08\" font-family=\"Times,serif\" font-size=\"14.00\">mul</text>\n</g>\n<!-- y&#45;&gt;mul2 -->\n<g id=\"edge7\" class=\"edge\">\n<title>y&#45;&gt;mul2</title>\n<path fill=\"none\" stroke=\"black\" d=\"M568.09,-89.05C576.94,-88.93 586.05,-89.02 594.54,-89.33\"/>\n<polygon fill=\"black\" stroke=\"black\" points=\"594.12,-92.86 604.28,-89.86 594.47,-85.87 594.12,-92.86\"/>\n</g>\n<!-- y&#45;&gt;mul2 -->\n<g id=\"edge8\" class=\"edge\">\n<title>y&#45;&gt;mul2</title>\n<path fill=\"none\" stroke=\"black\" d=\"M568.09,-102.45C576.94,-102.57 586.05,-102.48 594.54,-102.17\"/>\n<polygon fill=\"black\" stroke=\"black\" points=\"594.47,-105.63 604.28,-101.64 594.12,-98.64 594.47,-105.63\"/>\n</g>\n<!-- z -->\n<g id=\"node9\" class=\"node\">\n<title>z</title>\n<polygon fill=\"none\" stroke=\"black\" points=\"700.43,-77.75 700.43,-113.75 776.43,-113.75 776.43,-77.75 700.43,-77.75\"/>\n<text text-anchor=\"middle\" x=\"738.43\" y=\"-91.45\" font-family=\"Times,serif\" font-size=\"14.00\">z = 49.0</text>\n</g>\n<!-- mul2&#45;&gt;z -->\n<g id=\"edge9\" class=\"edge\">\n<title>mul2&#45;&gt;z</title>\n<path fill=\"none\" stroke=\"black\" d=\"M664.82,-95.75C672.6,-95.75 681.2,-95.75 689.68,-95.75\"/>\n<polygon fill=\"black\" stroke=\"black\" points=\"689.68,-99.25 699.68,-95.75 689.68,-92.25 689.68,-99.25\"/>\n</g>\n</g>\n</svg>\n",
      "text/plain": "<graphviz.graphs.Digraph at 0x7fa9df8decd0>"
     },
     "execution_count": 130,
     "metadata": {},
     "output_type": "execute_result"
    }
   ],
   "source": [
    "draw_comp_graph_ex_2()"
   ]
  },
  {
   "cell_type": "markdown",
   "id": "f1fe0dbf-17d9-46fd-b545-5f494ad420d0",
   "metadata": {},
   "source": [
    "Nyní je třeba \"hotový\" (kompletně naakumulovaný) gradient `y.grad` propagovat dále do uzlů `x1` a `x2_`. V případě sčítání se gradient při zpětném průchodu pouze rozkopíruje nezměněn do všech vstupů. Potřebujeme pouze z dopředného průchodu vědět, kolik gradientů máme vrátit. Tato informace se uložila při definici funkce `grad_fn` uvnitř `add`.\n",
    "\n",
    "**Důležitá poznámka:**\n",
    "- Propagovat gradient z uzlu `y` dále bychom měli až ve chvíli, kdy je \"hotový\", tj. jsou sečteny příchozí gradienty z větví všech potomků.\n",
    "- Pokud bychom propagovali dále částečný gradient, např. ihned po přičtení `dy1`, museli bychom se později do `y` opět vrátit a \"dopropagovat\" zbylou část (`dy2`). Dopracovali bychom se ke správnému výsledku, ovšem pouze za cenu opakovaného volání zpětných průchodů `backward()`, čímž by se výpočet zpomalil a byl neefektivní.\n",
    "- Zpětná propagace musí volat zpětný průchod každého uzlu právě jednou!"
   ]
  },
  {
   "cell_type": "code",
   "execution_count": 131,
   "id": "84e6f15d-e7d8-490e-9142-a501122f2c9d",
   "metadata": {
    "ExecuteTime": {
     "start_time": "2023-11-26T22:16:01.724220Z",
     "end_time": "2023-11-26T22:16:01.772257Z"
    }
   },
   "outputs": [
    {
     "data": {
      "text/plain": "(tensor(14.), tensor(14.))"
     },
     "execution_count": 131,
     "metadata": {},
     "output_type": "execute_result"
    }
   ],
   "source": [
    "dx1, dx2_ = y.grad_fn(y.grad)\n",
    "dx1, dx2_"
   ]
  },
  {
   "cell_type": "markdown",
   "id": "73f056d8-71ab-4f2b-b20b-d84e2549f906",
   "metadata": {},
   "source": [
    "Akumulujeme gradienty do `x1` a `x2_`."
   ]
  },
  {
   "cell_type": "code",
   "execution_count": 97,
   "id": "2fec8278-c7e6-497f-b5b2-3f72ba630fd3",
   "metadata": {
    "ExecuteTime": {
     "start_time": "2023-11-26T21:56:39.551275Z",
     "end_time": "2023-11-26T21:56:39.596143Z"
    }
   },
   "outputs": [
    {
     "data": {
      "text/plain": "tensor(14.)"
     },
     "execution_count": 97,
     "metadata": {},
     "output_type": "execute_result"
    }
   ],
   "source": [
    "if x1.grad is None:\n",
    "    x1.grad = torch.tensor(0.)\n",
    "x1.grad += dx1\n",
    "x1.grad"
   ]
  },
  {
   "cell_type": "code",
   "execution_count": 98,
   "id": "c4f62fc9-f42e-4d29-8bce-85c3771a1b54",
   "metadata": {
    "ExecuteTime": {
     "start_time": "2023-11-26T21:56:41.014719Z",
     "end_time": "2023-11-26T21:56:41.058062Z"
    }
   },
   "outputs": [
    {
     "data": {
      "text/plain": "tensor(14.)"
     },
     "execution_count": 98,
     "metadata": {},
     "output_type": "execute_result"
    }
   ],
   "source": [
    "if x2_.grad is None:\n",
    "    x2_.grad = torch.tensor(0.)\n",
    "x2_.grad += dx2_\n",
    "x2_.grad"
   ]
  },
  {
   "cell_type": "code",
   "execution_count": 132,
   "id": "b396e4c4-a244-494b-ada5-48991ce76f03",
   "metadata": {
    "ExecuteTime": {
     "start_time": "2023-11-26T22:16:07.330598Z",
     "end_time": "2023-11-26T22:16:07.384273Z"
    }
   },
   "outputs": [
    {
     "data": {
      "image/svg+xml": "<?xml version=\"1.0\" encoding=\"UTF-8\" standalone=\"no\"?>\n<!DOCTYPE svg PUBLIC \"-//W3C//DTD SVG 1.1//EN\"\n \"http://www.w3.org/Graphics/SVG/1.1/DTD/svg11.dtd\">\n<!-- Generated by graphviz version 8.1.0 (20230707.0739)\n -->\n<!-- Pages: 1 -->\n<svg width=\"784pt\" height=\"165pt\"\n viewBox=\"0.00 0.00 784.43 164.50\" xmlns=\"http://www.w3.org/2000/svg\" xmlns:xlink=\"http://www.w3.org/1999/xlink\">\n<g id=\"graph0\" class=\"graph\" transform=\"scale(1 1) rotate(0) translate(4 160.5)\">\n<polygon fill=\"white\" stroke=\"none\" points=\"-4,4 -4,-160.5 780.43,-160.5 780.43,4 -4,4\"/>\n<!-- x1 -->\n<g id=\"node1\" class=\"node\">\n<title>x1</title>\n<polygon fill=\"none\" stroke=\"black\" points=\"233.83,-105.5 233.83,-156 335.33,-156 335.33,-105.5 233.83,-105.5\"/>\n<text text-anchor=\"middle\" x=\"284.58\" y=\"-138.7\" font-family=\"Times,serif\" font-size=\"14.00\">x1 = 1.0</text>\n<polyline fill=\"none\" stroke=\"black\" points=\"233.83,-130.75 335.33,-130.75\"/>\n<text text-anchor=\"middle\" x=\"284.58\" y=\"-113.45\" font-family=\"Times,serif\" font-size=\"14.00\">grad = 14.0</text>\n</g>\n<!-- add -->\n<g id=\"node6\" class=\"node\">\n<title>add</title>\n<ellipse fill=\"none\" stroke=\"black\" cx=\"400.96\" cy=\"-95.75\" rx=\"29.64\" ry=\"18\"/>\n<text text-anchor=\"middle\" x=\"400.96\" y=\"-91.08\" font-family=\"Times,serif\" font-size=\"14.00\">add</text>\n</g>\n<!-- x1&#45;&gt;add -->\n<g id=\"edge4\" class=\"edge\">\n<title>x1&#45;&gt;add</title>\n<path fill=\"none\" stroke=\"black\" d=\"M335.08,-115.6C344.72,-112.65 354.65,-109.62 363.76,-106.83\"/>\n<polygon fill=\"black\" stroke=\"black\" points=\"364.46,-109.97 373,-103.69 362.41,-103.27 364.46,-109.97\"/>\n</g>\n<!-- a -->\n<g id=\"node2\" class=\"node\">\n<title>a</title>\n<polygon fill=\"none\" stroke=\"black\" points=\"0,-70.5 0,-121 101.5,-121 101.5,-70.5 0,-70.5\"/>\n<text text-anchor=\"middle\" x=\"50.75\" y=\"-103.7\" font-family=\"Times,serif\" font-size=\"14.00\">a = 2.0</text>\n<polyline fill=\"none\" stroke=\"black\" points=\"0,-95.75 101.5,-95.75\"/>\n<text text-anchor=\"middle\" x=\"50.75\" y=\"-78.45\" font-family=\"Times,serif\" font-size=\"14.00\">grad = 42.0</text>\n</g>\n<!-- mul1 -->\n<g id=\"node4\" class=\"node\">\n<title>mul1</title>\n<ellipse fill=\"none\" stroke=\"black\" cx=\"167.66\" cy=\"-60.75\" rx=\"30.16\" ry=\"18\"/>\n<text text-anchor=\"middle\" x=\"167.66\" y=\"-56.08\" font-family=\"Times,serif\" font-size=\"14.00\">mul</text>\n</g>\n<!-- a&#45;&gt;mul1 -->\n<g id=\"edge1\" class=\"edge\">\n<title>a&#45;&gt;mul1</title>\n<path fill=\"none\" stroke=\"black\" d=\"M101.48,-80.6C110.97,-77.71 120.75,-74.74 129.74,-71.99\"/>\n<polygon fill=\"black\" stroke=\"black\" points=\"130.72,-75.05 139.27,-68.79 128.68,-68.36 130.72,-75.05\"/>\n</g>\n<!-- x2 -->\n<g id=\"node3\" class=\"node\">\n<title>x2</title>\n<polygon fill=\"none\" stroke=\"black\" points=\"0,-0.5 0,-51 101.5,-51 101.5,-0.5 0,-0.5\"/>\n<text text-anchor=\"middle\" x=\"50.75\" y=\"-33.7\" font-family=\"Times,serif\" font-size=\"14.00\">x2 = 3.0</text>\n<polyline fill=\"none\" stroke=\"black\" points=\"0,-25.75 101.5,-25.75\"/>\n<text text-anchor=\"middle\" x=\"50.75\" y=\"-8.45\" font-family=\"Times,serif\" font-size=\"14.00\">grad = 28.0</text>\n</g>\n<!-- x2&#45;&gt;mul1 -->\n<g id=\"edge2\" class=\"edge\">\n<title>x2&#45;&gt;mul1</title>\n<path fill=\"none\" stroke=\"black\" d=\"M101.48,-40.9C110.97,-43.79 120.75,-46.76 129.74,-49.51\"/>\n<polygon fill=\"black\" stroke=\"black\" points=\"128.68,-53.14 139.27,-52.71 130.72,-46.45 128.68,-53.14\"/>\n</g>\n<!-- x2_ -->\n<g id=\"node5\" class=\"node\">\n<title>x2_</title>\n<polygon fill=\"none\" stroke=\"black\" points=\"233.83,-35.5 233.83,-86 335.33,-86 335.33,-35.5 233.83,-35.5\"/>\n<text text-anchor=\"middle\" x=\"284.58\" y=\"-68.7\" font-family=\"Times,serif\" font-size=\"14.00\">x2_ = 6.0</text>\n<polyline fill=\"none\" stroke=\"black\" points=\"233.83,-60.75 335.33,-60.75\"/>\n<text text-anchor=\"middle\" x=\"284.58\" y=\"-43.45\" font-family=\"Times,serif\" font-size=\"14.00\">grad = 14.0</text>\n</g>\n<!-- mul1&#45;&gt;x2_ -->\n<g id=\"edge3\" class=\"edge\">\n<title>mul1&#45;&gt;x2_</title>\n<path fill=\"none\" stroke=\"black\" d=\"M198.26,-60.75C205.93,-60.75 214.47,-60.75 223.1,-60.75\"/>\n<polygon fill=\"black\" stroke=\"black\" points=\"223.03,-64.25 233.03,-60.75 223.03,-57.25 223.03,-64.25\"/>\n</g>\n<!-- x2_&#45;&gt;add -->\n<g id=\"edge5\" class=\"edge\">\n<title>x2_&#45;&gt;add</title>\n<path fill=\"none\" stroke=\"black\" d=\"M335.08,-75.9C344.72,-78.85 354.65,-81.88 363.76,-84.67\"/>\n<polygon fill=\"black\" stroke=\"black\" points=\"362.41,-88.23 373,-87.81 364.46,-81.53 362.41,-88.23\"/>\n</g>\n<!-- y -->\n<g id=\"node7\" class=\"node\">\n<title>y</title>\n<polygon fill=\"none\" stroke=\"black\" points=\"466.6,-70.5 466.6,-121 568.1,-121 568.1,-70.5 466.6,-70.5\"/>\n<text text-anchor=\"middle\" x=\"517.35\" y=\"-103.7\" font-family=\"Times,serif\" font-size=\"14.00\">y = 7.0</text>\n<polyline fill=\"none\" stroke=\"black\" points=\"466.6,-95.75 568.1,-95.75\"/>\n<text text-anchor=\"middle\" x=\"517.35\" y=\"-78.45\" font-family=\"Times,serif\" font-size=\"14.00\">grad = 14.0</text>\n</g>\n<!-- add&#45;&gt;y -->\n<g id=\"edge6\" class=\"edge\">\n<title>add&#45;&gt;y</title>\n<path fill=\"none\" stroke=\"black\" d=\"M430.83,-95.75C438.64,-95.75 447.39,-95.75 456.24,-95.75\"/>\n<polygon fill=\"black\" stroke=\"black\" points=\"456.02,-99.25 466.02,-95.75 456.02,-92.25 456.02,-99.25\"/>\n</g>\n<!-- mul2 -->\n<g id=\"node8\" class=\"node\">\n<title>mul2</title>\n<ellipse fill=\"none\" stroke=\"black\" cx=\"634.27\" cy=\"-95.75\" rx=\"30.16\" ry=\"18\"/>\n<text text-anchor=\"middle\" x=\"634.27\" y=\"-91.08\" font-family=\"Times,serif\" font-size=\"14.00\">mul</text>\n</g>\n<!-- y&#45;&gt;mul2 -->\n<g id=\"edge7\" class=\"edge\">\n<title>y&#45;&gt;mul2</title>\n<path fill=\"none\" stroke=\"black\" d=\"M568.09,-89.05C576.94,-88.93 586.05,-89.02 594.54,-89.33\"/>\n<polygon fill=\"black\" stroke=\"black\" points=\"594.12,-92.86 604.28,-89.86 594.47,-85.87 594.12,-92.86\"/>\n</g>\n<!-- y&#45;&gt;mul2 -->\n<g id=\"edge8\" class=\"edge\">\n<title>y&#45;&gt;mul2</title>\n<path fill=\"none\" stroke=\"black\" d=\"M568.09,-102.45C576.94,-102.57 586.05,-102.48 594.54,-102.17\"/>\n<polygon fill=\"black\" stroke=\"black\" points=\"594.47,-105.63 604.28,-101.64 594.12,-98.64 594.47,-105.63\"/>\n</g>\n<!-- z -->\n<g id=\"node9\" class=\"node\">\n<title>z</title>\n<polygon fill=\"none\" stroke=\"black\" points=\"700.43,-77.75 700.43,-113.75 776.43,-113.75 776.43,-77.75 700.43,-77.75\"/>\n<text text-anchor=\"middle\" x=\"738.43\" y=\"-91.45\" font-family=\"Times,serif\" font-size=\"14.00\">z = 49.0</text>\n</g>\n<!-- mul2&#45;&gt;z -->\n<g id=\"edge9\" class=\"edge\">\n<title>mul2&#45;&gt;z</title>\n<path fill=\"none\" stroke=\"black\" d=\"M664.82,-95.75C672.6,-95.75 681.2,-95.75 689.68,-95.75\"/>\n<polygon fill=\"black\" stroke=\"black\" points=\"689.68,-99.25 699.68,-95.75 689.68,-92.25 689.68,-99.25\"/>\n</g>\n</g>\n</svg>\n",
      "text/plain": "<graphviz.graphs.Digraph at 0x7fa9de4b6cd0>"
     },
     "execution_count": 132,
     "metadata": {},
     "output_type": "execute_result"
    }
   ],
   "source": [
    "draw_comp_graph_ex_2()"
   ]
  },
  {
   "cell_type": "markdown",
   "id": "f24819e3-9a5e-47a4-af8e-68221689d61e",
   "metadata": {},
   "source": [
    "Nyní zbývá poslední krok, kterým je zpětný průchod součinu `x2_ = a * x2`. Pozor: gradienty na vstupy budou vráceny v pořadí, v jakém byly vloženy do dopředného průchodu."
   ]
  },
  {
   "cell_type": "code",
   "execution_count": 100,
   "id": "02d706a4-9550-40f1-8a17-fbb591d8b22e",
   "metadata": {
    "ExecuteTime": {
     "start_time": "2023-11-26T21:56:45.316501Z",
     "end_time": "2023-11-26T21:56:45.355383Z"
    }
   },
   "outputs": [
    {
     "data": {
      "text/plain": "(tensor(42.), tensor(28.))"
     },
     "execution_count": 100,
     "metadata": {},
     "output_type": "execute_result"
    }
   ],
   "source": [
    "da, dx2 = x2_.grad_fn(x2_.grad)\n",
    "da, dx2"
   ]
  },
  {
   "cell_type": "code",
   "execution_count": 101,
   "id": "256a8126-e2b5-41c2-afe0-6d8335241465",
   "metadata": {
    "ExecuteTime": {
     "start_time": "2023-11-26T21:56:47.115900Z",
     "end_time": "2023-11-26T21:56:47.166110Z"
    }
   },
   "outputs": [
    {
     "data": {
      "text/plain": "tensor(42.)"
     },
     "execution_count": 101,
     "metadata": {},
     "output_type": "execute_result"
    }
   ],
   "source": [
    "if a.grad is None:\n",
    "    a.grad = torch.tensor(0.)\n",
    "a.grad += da\n",
    "a.grad"
   ]
  },
  {
   "cell_type": "code",
   "execution_count": 134,
   "id": "2289d975-a4f5-48e2-ad16-8a82f9328d85",
   "metadata": {
    "ExecuteTime": {
     "start_time": "2023-11-26T22:16:12.303738Z",
     "end_time": "2023-11-26T22:16:12.335657Z"
    }
   },
   "outputs": [
    {
     "data": {
      "text/plain": "tensor(84.)"
     },
     "execution_count": 134,
     "metadata": {},
     "output_type": "execute_result"
    }
   ],
   "source": [
    "if x2.grad is None:\n",
    "    x2.grad = torch.tensor(0.)\n",
    "x2.grad += dx2\n",
    "x2.grad"
   ]
  },
  {
   "cell_type": "code",
   "execution_count": 135,
   "id": "8e8c1616-8afd-4c0c-9195-d3e68e10ce3b",
   "metadata": {
    "ExecuteTime": {
     "start_time": "2023-11-26T22:16:15.286139Z",
     "end_time": "2023-11-26T22:16:15.335774Z"
    }
   },
   "outputs": [
    {
     "data": {
      "image/svg+xml": "<?xml version=\"1.0\" encoding=\"UTF-8\" standalone=\"no\"?>\n<!DOCTYPE svg PUBLIC \"-//W3C//DTD SVG 1.1//EN\"\n \"http://www.w3.org/Graphics/SVG/1.1/DTD/svg11.dtd\">\n<!-- Generated by graphviz version 8.1.0 (20230707.0739)\n -->\n<!-- Pages: 1 -->\n<svg width=\"784pt\" height=\"165pt\"\n viewBox=\"0.00 0.00 784.43 164.50\" xmlns=\"http://www.w3.org/2000/svg\" xmlns:xlink=\"http://www.w3.org/1999/xlink\">\n<g id=\"graph0\" class=\"graph\" transform=\"scale(1 1) rotate(0) translate(4 160.5)\">\n<polygon fill=\"white\" stroke=\"none\" points=\"-4,4 -4,-160.5 780.43,-160.5 780.43,4 -4,4\"/>\n<!-- x1 -->\n<g id=\"node1\" class=\"node\">\n<title>x1</title>\n<polygon fill=\"none\" stroke=\"black\" points=\"233.83,-105.5 233.83,-156 335.33,-156 335.33,-105.5 233.83,-105.5\"/>\n<text text-anchor=\"middle\" x=\"284.58\" y=\"-138.7\" font-family=\"Times,serif\" font-size=\"14.00\">x1 = 1.0</text>\n<polyline fill=\"none\" stroke=\"black\" points=\"233.83,-130.75 335.33,-130.75\"/>\n<text text-anchor=\"middle\" x=\"284.58\" y=\"-113.45\" font-family=\"Times,serif\" font-size=\"14.00\">grad = 14.0</text>\n</g>\n<!-- add -->\n<g id=\"node6\" class=\"node\">\n<title>add</title>\n<ellipse fill=\"none\" stroke=\"black\" cx=\"400.96\" cy=\"-95.75\" rx=\"29.64\" ry=\"18\"/>\n<text text-anchor=\"middle\" x=\"400.96\" y=\"-91.08\" font-family=\"Times,serif\" font-size=\"14.00\">add</text>\n</g>\n<!-- x1&#45;&gt;add -->\n<g id=\"edge4\" class=\"edge\">\n<title>x1&#45;&gt;add</title>\n<path fill=\"none\" stroke=\"black\" d=\"M335.08,-115.6C344.72,-112.65 354.65,-109.62 363.76,-106.83\"/>\n<polygon fill=\"black\" stroke=\"black\" points=\"364.46,-109.97 373,-103.69 362.41,-103.27 364.46,-109.97\"/>\n</g>\n<!-- a -->\n<g id=\"node2\" class=\"node\">\n<title>a</title>\n<polygon fill=\"none\" stroke=\"black\" points=\"0,-70.5 0,-121 101.5,-121 101.5,-70.5 0,-70.5\"/>\n<text text-anchor=\"middle\" x=\"50.75\" y=\"-103.7\" font-family=\"Times,serif\" font-size=\"14.00\">a = 2.0</text>\n<polyline fill=\"none\" stroke=\"black\" points=\"0,-95.75 101.5,-95.75\"/>\n<text text-anchor=\"middle\" x=\"50.75\" y=\"-78.45\" font-family=\"Times,serif\" font-size=\"14.00\">grad = 42.0</text>\n</g>\n<!-- mul1 -->\n<g id=\"node4\" class=\"node\">\n<title>mul1</title>\n<ellipse fill=\"none\" stroke=\"black\" cx=\"167.66\" cy=\"-60.75\" rx=\"30.16\" ry=\"18\"/>\n<text text-anchor=\"middle\" x=\"167.66\" y=\"-56.08\" font-family=\"Times,serif\" font-size=\"14.00\">mul</text>\n</g>\n<!-- a&#45;&gt;mul1 -->\n<g id=\"edge1\" class=\"edge\">\n<title>a&#45;&gt;mul1</title>\n<path fill=\"none\" stroke=\"black\" d=\"M101.48,-80.6C110.97,-77.71 120.75,-74.74 129.74,-71.99\"/>\n<polygon fill=\"black\" stroke=\"black\" points=\"130.72,-75.05 139.27,-68.79 128.68,-68.36 130.72,-75.05\"/>\n</g>\n<!-- x2 -->\n<g id=\"node3\" class=\"node\">\n<title>x2</title>\n<polygon fill=\"none\" stroke=\"black\" points=\"0,-0.5 0,-51 101.5,-51 101.5,-0.5 0,-0.5\"/>\n<text text-anchor=\"middle\" x=\"50.75\" y=\"-33.7\" font-family=\"Times,serif\" font-size=\"14.00\">x2 = 3.0</text>\n<polyline fill=\"none\" stroke=\"black\" points=\"0,-25.75 101.5,-25.75\"/>\n<text text-anchor=\"middle\" x=\"50.75\" y=\"-8.45\" font-family=\"Times,serif\" font-size=\"14.00\">grad = 84.0</text>\n</g>\n<!-- x2&#45;&gt;mul1 -->\n<g id=\"edge2\" class=\"edge\">\n<title>x2&#45;&gt;mul1</title>\n<path fill=\"none\" stroke=\"black\" d=\"M101.48,-40.9C110.97,-43.79 120.75,-46.76 129.74,-49.51\"/>\n<polygon fill=\"black\" stroke=\"black\" points=\"128.68,-53.14 139.27,-52.71 130.72,-46.45 128.68,-53.14\"/>\n</g>\n<!-- x2_ -->\n<g id=\"node5\" class=\"node\">\n<title>x2_</title>\n<polygon fill=\"none\" stroke=\"black\" points=\"233.83,-35.5 233.83,-86 335.33,-86 335.33,-35.5 233.83,-35.5\"/>\n<text text-anchor=\"middle\" x=\"284.58\" y=\"-68.7\" font-family=\"Times,serif\" font-size=\"14.00\">x2_ = 6.0</text>\n<polyline fill=\"none\" stroke=\"black\" points=\"233.83,-60.75 335.33,-60.75\"/>\n<text text-anchor=\"middle\" x=\"284.58\" y=\"-43.45\" font-family=\"Times,serif\" font-size=\"14.00\">grad = 14.0</text>\n</g>\n<!-- mul1&#45;&gt;x2_ -->\n<g id=\"edge3\" class=\"edge\">\n<title>mul1&#45;&gt;x2_</title>\n<path fill=\"none\" stroke=\"black\" d=\"M198.26,-60.75C205.93,-60.75 214.47,-60.75 223.1,-60.75\"/>\n<polygon fill=\"black\" stroke=\"black\" points=\"223.03,-64.25 233.03,-60.75 223.03,-57.25 223.03,-64.25\"/>\n</g>\n<!-- x2_&#45;&gt;add -->\n<g id=\"edge5\" class=\"edge\">\n<title>x2_&#45;&gt;add</title>\n<path fill=\"none\" stroke=\"black\" d=\"M335.08,-75.9C344.72,-78.85 354.65,-81.88 363.76,-84.67\"/>\n<polygon fill=\"black\" stroke=\"black\" points=\"362.41,-88.23 373,-87.81 364.46,-81.53 362.41,-88.23\"/>\n</g>\n<!-- y -->\n<g id=\"node7\" class=\"node\">\n<title>y</title>\n<polygon fill=\"none\" stroke=\"black\" points=\"466.6,-70.5 466.6,-121 568.1,-121 568.1,-70.5 466.6,-70.5\"/>\n<text text-anchor=\"middle\" x=\"517.35\" y=\"-103.7\" font-family=\"Times,serif\" font-size=\"14.00\">y = 7.0</text>\n<polyline fill=\"none\" stroke=\"black\" points=\"466.6,-95.75 568.1,-95.75\"/>\n<text text-anchor=\"middle\" x=\"517.35\" y=\"-78.45\" font-family=\"Times,serif\" font-size=\"14.00\">grad = 14.0</text>\n</g>\n<!-- add&#45;&gt;y -->\n<g id=\"edge6\" class=\"edge\">\n<title>add&#45;&gt;y</title>\n<path fill=\"none\" stroke=\"black\" d=\"M430.83,-95.75C438.64,-95.75 447.39,-95.75 456.24,-95.75\"/>\n<polygon fill=\"black\" stroke=\"black\" points=\"456.02,-99.25 466.02,-95.75 456.02,-92.25 456.02,-99.25\"/>\n</g>\n<!-- mul2 -->\n<g id=\"node8\" class=\"node\">\n<title>mul2</title>\n<ellipse fill=\"none\" stroke=\"black\" cx=\"634.27\" cy=\"-95.75\" rx=\"30.16\" ry=\"18\"/>\n<text text-anchor=\"middle\" x=\"634.27\" y=\"-91.08\" font-family=\"Times,serif\" font-size=\"14.00\">mul</text>\n</g>\n<!-- y&#45;&gt;mul2 -->\n<g id=\"edge7\" class=\"edge\">\n<title>y&#45;&gt;mul2</title>\n<path fill=\"none\" stroke=\"black\" d=\"M568.09,-89.05C576.94,-88.93 586.05,-89.02 594.54,-89.33\"/>\n<polygon fill=\"black\" stroke=\"black\" points=\"594.12,-92.86 604.28,-89.86 594.47,-85.87 594.12,-92.86\"/>\n</g>\n<!-- y&#45;&gt;mul2 -->\n<g id=\"edge8\" class=\"edge\">\n<title>y&#45;&gt;mul2</title>\n<path fill=\"none\" stroke=\"black\" d=\"M568.09,-102.45C576.94,-102.57 586.05,-102.48 594.54,-102.17\"/>\n<polygon fill=\"black\" stroke=\"black\" points=\"594.47,-105.63 604.28,-101.64 594.12,-98.64 594.47,-105.63\"/>\n</g>\n<!-- z -->\n<g id=\"node9\" class=\"node\">\n<title>z</title>\n<polygon fill=\"none\" stroke=\"black\" points=\"700.43,-77.75 700.43,-113.75 776.43,-113.75 776.43,-77.75 700.43,-77.75\"/>\n<text text-anchor=\"middle\" x=\"738.43\" y=\"-91.45\" font-family=\"Times,serif\" font-size=\"14.00\">z = 49.0</text>\n</g>\n<!-- mul2&#45;&gt;z -->\n<g id=\"edge9\" class=\"edge\">\n<title>mul2&#45;&gt;z</title>\n<path fill=\"none\" stroke=\"black\" d=\"M664.82,-95.75C672.6,-95.75 681.2,-95.75 689.68,-95.75\"/>\n<polygon fill=\"black\" stroke=\"black\" points=\"689.68,-99.25 699.68,-95.75 689.68,-92.25 689.68,-99.25\"/>\n</g>\n</g>\n</svg>\n",
      "text/plain": "<graphviz.graphs.Digraph at 0x7fa9de0ad510>"
     },
     "execution_count": 135,
     "metadata": {},
     "output_type": "execute_result"
    }
   ],
   "source": [
    "draw_comp_graph_ex_2()"
   ]
  },
  {
   "cell_type": "markdown",
   "id": "7527fe86-28db-483f-a6dc-e1a4a0102716",
   "metadata": {},
   "source": [
    "# Příklad: $q = (x^2 + 1)\\cdot(x^2 - 1)$"
   ]
  },
  {
   "cell_type": "markdown",
   "id": "4efa7df2-6b8e-40da-93bb-da3eff9d8925",
   "metadata": {},
   "source": [
    "Poslední příklad z notebooku [pytorch-autograd](../notebooks/pytorch-autograd.ipynb)\n",
    "$$y = x^2$$\n",
    "$$p = y + 1$$\n",
    "$$m = y - 1$$\n",
    "$$q = p \\cdot m$$"
   ]
  },
  {
   "cell_type": "markdown",
   "id": "e63a0d5c-3840-4dd0-b151-4d65129b7540",
   "metadata": {},
   "source": [
    "### TODO: doplňte implementaci metody `__pow__` pro umocňování objektu typu `Variable`."
   ]
  },
  {
   "cell_type": "code",
   "execution_count": 104,
   "id": "7e9df7a5-d401-4483-979e-1ccfc1880e4b",
   "metadata": {
    "ExecuteTime": {
     "start_time": "2023-11-26T21:58:13.950935Z",
     "end_time": "2023-11-26T21:58:14.028467Z"
    }
   },
   "outputs": [
    {
     "name": "stderr",
     "output_type": "stream",
     "text": [
      "test_powers (tests.ANSTestCase.eval.<locals>._TestCaseClass.test_powers) ... ok\n",
      "\n",
      "----------------------------------------------------------------------\n",
      "Ran 1 test in 0.007s\n",
      "\n",
      "OK\n"
     ]
    },
    {
     "data": {
      "text/plain": "<unittest.runner.TextTestResult run=1 errors=0 failures=0>"
     },
     "execution_count": 104,
     "metadata": {},
     "output_type": "execute_result"
    }
   ],
   "source": [
    "test_backpropagation.TestPow.eval()"
   ]
  },
  {
   "cell_type": "code",
   "execution_count": 105,
   "id": "bc11cb15-b7ed-415f-9805-c259dc4a2aea",
   "metadata": {
    "ExecuteTime": {
     "start_time": "2023-11-26T21:59:20.657472Z",
     "end_time": "2023-11-26T21:59:20.714061Z"
    }
   },
   "outputs": [
    {
     "data": {
      "text/plain": "Variable(15.0, grad_fn=Variable.__mul__.<locals>.grad_fn)"
     },
     "execution_count": 105,
     "metadata": {},
     "output_type": "execute_result"
    }
   ],
   "source": [
    "x = ans.autograd.Variable(torch.tensor(2.))\n",
    "s = x ** 2\n",
    "o = ans.autograd.Variable(torch.tensor(1.))  # can only add Variable + Variable\n",
    "p = s + o\n",
    "m = s - o\n",
    "q = p * m\n",
    "q"
   ]
  },
  {
   "cell_type": "code",
   "execution_count": 106,
   "id": "f8016de3-1ba8-4e43-8d5f-fd5516c05b68",
   "metadata": {
    "ExecuteTime": {
     "start_time": "2023-11-26T21:59:23.694507Z",
     "end_time": "2023-11-26T21:59:23.738010Z"
    }
   },
   "outputs": [
    {
     "data": {
      "text/plain": "(tensor(2.), tensor(4.), tensor(5.), tensor(3.), tensor(15.))"
     },
     "execution_count": 106,
     "metadata": {},
     "output_type": "execute_result"
    }
   ],
   "source": [
    "x.data, s.data, p.data, m.data, q.data"
   ]
  },
  {
   "cell_type": "code",
   "execution_count": 136,
   "id": "a39a97f3-0be4-48fb-8ac0-c21afeb14955",
   "metadata": {
    "ExecuteTime": {
     "start_time": "2023-11-26T22:16:25.056324Z",
     "end_time": "2023-11-26T22:16:25.101445Z"
    }
   },
   "outputs": [],
   "source": [
    "def draw_comp_graph_ex_3() -> graphviz.Digraph:\n",
    "    dot = graphviz.Digraph(graph_attr={'rankdir': 'LR'})\n",
    "    dot.node('x', label=node_label(x), shape='record')\n",
    "    dot.node('mul1', label='mul')\n",
    "    dot.edge('x', 'mul1')\n",
    "    dot.edge('x', 'mul1')\n",
    "    dot.node('s', label=node_label(s), shape='record')\n",
    "    dot.edge('mul1', 's')\n",
    "    dot.node('o', label=node_label(o), shape='record')\n",
    "    dot.node('add', label='add')\n",
    "    dot.edge('s', 'add')\n",
    "    dot.edge('o', 'add')\n",
    "    dot.node('p', label=node_label(p), shape='record')\n",
    "    dot.edge('add', 'p')\n",
    "    dot.node('sub', label='sub')\n",
    "    dot.edge('s', 'sub')\n",
    "    dot.edge('o', 'sub')\n",
    "    dot.node('m', label=node_label(m), shape='record')\n",
    "    dot.edge('sub', 'm')\n",
    "    dot.node('mul2', label='mul')\n",
    "    dot.edge('p', 'mul2')\n",
    "    dot.edge('m', 'mul2')\n",
    "    dot.node('q', label=node_label(q), shape='record')\n",
    "    dot.edge('mul2', 'q')\n",
    "    return dot"
   ]
  },
  {
   "cell_type": "code",
   "execution_count": 137,
   "id": "c78c741c-e8f9-4b96-9859-ef4833ceceff",
   "metadata": {
    "ExecuteTime": {
     "start_time": "2023-11-26T22:16:26.531028Z",
     "end_time": "2023-11-26T22:16:26.579407Z"
    }
   },
   "outputs": [
    {
     "data": {
      "image/svg+xml": "<?xml version=\"1.0\" encoding=\"UTF-8\" standalone=\"no\"?>\n<!DOCTYPE svg PUBLIC \"-//W3C//DTD SVG 1.1//EN\"\n \"http://www.w3.org/Graphics/SVG/1.1/DTD/svg11.dtd\">\n<!-- Generated by graphviz version 8.1.0 (20230707.0739)\n -->\n<!-- Pages: 1 -->\n<svg width=\"787pt\" height=\"130pt\"\n viewBox=\"0.00 0.00 787.43 129.50\" xmlns=\"http://www.w3.org/2000/svg\" xmlns:xlink=\"http://www.w3.org/1999/xlink\">\n<g id=\"graph0\" class=\"graph\" transform=\"scale(1 1) rotate(0) translate(4 125.5)\">\n<polygon fill=\"white\" stroke=\"none\" points=\"-4,4 -4,-125.5 783.43,-125.5 783.43,4 -4,4\"/>\n<!-- x -->\n<g id=\"node1\" class=\"node\">\n<title>x</title>\n<polygon fill=\"none\" stroke=\"black\" points=\"0,-70.5 0,-121 101.5,-121 101.5,-70.5 0,-70.5\"/>\n<text text-anchor=\"middle\" x=\"50.75\" y=\"-103.7\" font-family=\"Times,serif\" font-size=\"14.00\">x = 2.0</text>\n<polyline fill=\"none\" stroke=\"black\" points=\"0,-95.75 101.5,-95.75\"/>\n<text text-anchor=\"middle\" x=\"50.75\" y=\"-78.45\" font-family=\"Times,serif\" font-size=\"14.00\">grad = 32.0</text>\n</g>\n<!-- mul1 -->\n<g id=\"node2\" class=\"node\">\n<title>mul1</title>\n<ellipse fill=\"none\" stroke=\"black\" cx=\"167.66\" cy=\"-95.75\" rx=\"30.16\" ry=\"18\"/>\n<text text-anchor=\"middle\" x=\"167.66\" y=\"-91.08\" font-family=\"Times,serif\" font-size=\"14.00\">mul</text>\n</g>\n<!-- x&#45;&gt;mul1 -->\n<g id=\"edge1\" class=\"edge\">\n<title>x&#45;&gt;mul1</title>\n<path fill=\"none\" stroke=\"black\" d=\"M101.48,-89.05C110.34,-88.93 119.45,-89.02 127.94,-89.33\"/>\n<polygon fill=\"black\" stroke=\"black\" points=\"127.52,-92.86 137.68,-89.86 127.87,-85.87 127.52,-92.86\"/>\n</g>\n<!-- x&#45;&gt;mul1 -->\n<g id=\"edge2\" class=\"edge\">\n<title>x&#45;&gt;mul1</title>\n<path fill=\"none\" stroke=\"black\" d=\"M101.48,-102.45C110.34,-102.57 119.45,-102.48 127.94,-102.17\"/>\n<polygon fill=\"black\" stroke=\"black\" points=\"127.87,-105.63 137.68,-101.64 127.52,-98.64 127.87,-105.63\"/>\n</g>\n<!-- s -->\n<g id=\"node3\" class=\"node\">\n<title>s</title>\n<polygon fill=\"none\" stroke=\"black\" points=\"236.08,-70.5 236.08,-121 328.58,-121 328.58,-70.5 236.08,-70.5\"/>\n<text text-anchor=\"middle\" x=\"282.33\" y=\"-103.7\" font-family=\"Times,serif\" font-size=\"14.00\">s = 4.0</text>\n<polyline fill=\"none\" stroke=\"black\" points=\"236.08,-95.75 328.58,-95.75\"/>\n<text text-anchor=\"middle\" x=\"282.33\" y=\"-78.45\" font-family=\"Times,serif\" font-size=\"14.00\">grad = 8.0</text>\n</g>\n<!-- mul1&#45;&gt;s -->\n<g id=\"edge3\" class=\"edge\">\n<title>mul1&#45;&gt;s</title>\n<path fill=\"none\" stroke=\"black\" d=\"M198.26,-95.75C206.61,-95.75 215.96,-95.75 225.31,-95.75\"/>\n<polygon fill=\"black\" stroke=\"black\" points=\"225.22,-99.25 235.22,-95.75 225.22,-92.25 225.22,-99.25\"/>\n</g>\n<!-- add -->\n<g id=\"node5\" class=\"node\">\n<title>add</title>\n<ellipse fill=\"none\" stroke=\"black\" cx=\"396.46\" cy=\"-95.75\" rx=\"29.64\" ry=\"18\"/>\n<text text-anchor=\"middle\" x=\"396.46\" y=\"-91.08\" font-family=\"Times,serif\" font-size=\"14.00\">add</text>\n</g>\n<!-- s&#45;&gt;add -->\n<g id=\"edge4\" class=\"edge\">\n<title>s&#45;&gt;add</title>\n<path fill=\"none\" stroke=\"black\" d=\"M328.29,-95.75C337.37,-95.75 346.86,-95.75 355.75,-95.75\"/>\n<polygon fill=\"black\" stroke=\"black\" points=\"355.61,-99.25 365.61,-95.75 355.61,-92.25 355.61,-99.25\"/>\n</g>\n<!-- sub -->\n<g id=\"node7\" class=\"node\">\n<title>sub</title>\n<ellipse fill=\"none\" stroke=\"black\" cx=\"396.46\" cy=\"-25.75\" rx=\"29.11\" ry=\"18\"/>\n<text text-anchor=\"middle\" x=\"396.46\" y=\"-21.07\" font-family=\"Times,serif\" font-size=\"14.00\">sub</text>\n</g>\n<!-- s&#45;&gt;sub -->\n<g id=\"edge7\" class=\"edge\">\n<title>s&#45;&gt;sub</title>\n<path fill=\"none\" stroke=\"black\" d=\"M323.49,-70.68C337.55,-61.9 353.07,-52.22 366.08,-44.09\"/>\n<polygon fill=\"black\" stroke=\"black\" points=\"367.43,-46.75 374.05,-38.49 363.72,-40.82 367.43,-46.75\"/>\n</g>\n<!-- o -->\n<g id=\"node4\" class=\"node\">\n<title>o</title>\n<polygon fill=\"none\" stroke=\"black\" points=\"233.83,-0.5 233.83,-51 330.83,-51 330.83,-0.5 233.83,-0.5\"/>\n<text text-anchor=\"middle\" x=\"282.33\" y=\"-33.7\" font-family=\"Times,serif\" font-size=\"14.00\">o = 1.0</text>\n<polyline fill=\"none\" stroke=\"black\" points=\"233.83,-25.75 330.83,-25.75\"/>\n<text text-anchor=\"middle\" x=\"282.33\" y=\"-8.45\" font-family=\"Times,serif\" font-size=\"14.00\">grad = &#45;2.0</text>\n</g>\n<!-- o&#45;&gt;add -->\n<g id=\"edge5\" class=\"edge\">\n<title>o&#45;&gt;add</title>\n<path fill=\"none\" stroke=\"black\" d=\"M323.49,-50.82C337.55,-59.6 353.07,-69.28 366.08,-77.41\"/>\n<polygon fill=\"black\" stroke=\"black\" points=\"363.72,-80.68 374.05,-83.01 367.43,-74.75 363.72,-80.68\"/>\n</g>\n<!-- o&#45;&gt;sub -->\n<g id=\"edge8\" class=\"edge\">\n<title>o&#45;&gt;sub</title>\n<path fill=\"none\" stroke=\"black\" d=\"M330.56,-25.75C339.12,-25.75 347.96,-25.75 356.26,-25.75\"/>\n<polygon fill=\"black\" stroke=\"black\" points=\"356.16,-29.25 366.16,-25.75 356.16,-22.25 356.16,-29.25\"/>\n</g>\n<!-- p -->\n<g id=\"node6\" class=\"node\">\n<title>p</title>\n<polygon fill=\"none\" stroke=\"black\" points=\"462.1,-70.5 462.1,-121 554.6,-121 554.6,-70.5 462.1,-70.5\"/>\n<text text-anchor=\"middle\" x=\"508.35\" y=\"-103.7\" font-family=\"Times,serif\" font-size=\"14.00\">p = 5.0</text>\n<polyline fill=\"none\" stroke=\"black\" points=\"462.1,-95.75 554.6,-95.75\"/>\n<text text-anchor=\"middle\" x=\"508.35\" y=\"-78.45\" font-family=\"Times,serif\" font-size=\"14.00\">grad = 3.0</text>\n</g>\n<!-- add&#45;&gt;p -->\n<g id=\"edge6\" class=\"edge\">\n<title>add&#45;&gt;p</title>\n<path fill=\"none\" stroke=\"black\" d=\"M426.34,-95.75C434.12,-95.75 442.8,-95.75 451.52,-95.75\"/>\n<polygon fill=\"black\" stroke=\"black\" points=\"451.51,-99.25 461.51,-95.75 451.51,-92.25 451.51,-99.25\"/>\n</g>\n<!-- mul2 -->\n<g id=\"node9\" class=\"node\">\n<title>mul2</title>\n<ellipse fill=\"none\" stroke=\"black\" cx=\"620.77\" cy=\"-60.75\" rx=\"30.16\" ry=\"18\"/>\n<text text-anchor=\"middle\" x=\"620.77\" y=\"-56.08\" font-family=\"Times,serif\" font-size=\"14.00\">mul</text>\n</g>\n<!-- p&#45;&gt;mul2 -->\n<g id=\"edge10\" class=\"edge\">\n<title>p&#45;&gt;mul2</title>\n<path fill=\"none\" stroke=\"black\" d=\"M554.58,-81.41C564.08,-78.4 573.99,-75.26 583.14,-72.36\"/>\n<polygon fill=\"black\" stroke=\"black\" points=\"583.97,-75.45 592.44,-69.09 581.85,-68.78 583.97,-75.45\"/>\n</g>\n<!-- m -->\n<g id=\"node8\" class=\"node\">\n<title>m</title>\n<polygon fill=\"none\" stroke=\"black\" points=\"462.1,-0.5 462.1,-51 554.6,-51 554.6,-0.5 462.1,-0.5\"/>\n<text text-anchor=\"middle\" x=\"508.35\" y=\"-33.7\" font-family=\"Times,serif\" font-size=\"14.00\">m = 3.0</text>\n<polyline fill=\"none\" stroke=\"black\" points=\"462.1,-25.75 554.6,-25.75\"/>\n<text text-anchor=\"middle\" x=\"508.35\" y=\"-8.45\" font-family=\"Times,serif\" font-size=\"14.00\">grad = 5.0</text>\n</g>\n<!-- sub&#45;&gt;m -->\n<g id=\"edge9\" class=\"edge\">\n<title>sub&#45;&gt;m</title>\n<path fill=\"none\" stroke=\"black\" d=\"M426.05,-25.75C433.92,-25.75 442.73,-25.75 451.57,-25.75\"/>\n<polygon fill=\"black\" stroke=\"black\" points=\"451.3,-29.25 461.3,-25.75 451.3,-22.25 451.3,-29.25\"/>\n</g>\n<!-- m&#45;&gt;mul2 -->\n<g id=\"edge11\" class=\"edge\">\n<title>m&#45;&gt;mul2</title>\n<path fill=\"none\" stroke=\"black\" d=\"M554.58,-40.09C564.08,-43.1 573.99,-46.24 583.14,-49.14\"/>\n<polygon fill=\"black\" stroke=\"black\" points=\"581.85,-52.72 592.44,-52.41 583.97,-46.05 581.85,-52.72\"/>\n</g>\n<!-- q -->\n<g id=\"node10\" class=\"node\">\n<title>q</title>\n<polygon fill=\"none\" stroke=\"black\" points=\"686.93,-35.5 686.93,-86 779.43,-86 779.43,-35.5 686.93,-35.5\"/>\n<text text-anchor=\"middle\" x=\"733.18\" y=\"-68.7\" font-family=\"Times,serif\" font-size=\"14.00\">q = 15.0</text>\n<polyline fill=\"none\" stroke=\"black\" points=\"686.93,-60.75 779.43,-60.75\"/>\n<text text-anchor=\"middle\" x=\"733.18\" y=\"-43.45\" font-family=\"Times,serif\" font-size=\"14.00\">grad = 1.0</text>\n</g>\n<!-- mul2&#45;&gt;q -->\n<g id=\"edge12\" class=\"edge\">\n<title>mul2&#45;&gt;q</title>\n<path fill=\"none\" stroke=\"black\" d=\"M651.35,-60.75C659.08,-60.75 667.67,-60.75 676.27,-60.75\"/>\n<polygon fill=\"black\" stroke=\"black\" points=\"676.13,-64.25 686.13,-60.75 676.13,-57.25 676.13,-64.25\"/>\n</g>\n</g>\n</svg>\n",
      "text/plain": "<graphviz.graphs.Digraph at 0x7fa9de0bb650>"
     },
     "execution_count": 137,
     "metadata": {},
     "output_type": "execute_result"
    }
   ],
   "source": [
    "draw_comp_graph_ex_3()"
   ]
  },
  {
   "cell_type": "markdown",
   "id": "96ca4804-a706-40c9-99fb-9b219777b786",
   "metadata": {},
   "source": [
    "## Topologické řazení uzlů"
   ]
  },
  {
   "cell_type": "markdown",
   "id": "c1d0ae8f-b9f4-40a4-9004-f42f518cd086",
   "metadata": {},
   "source": [
    "Mohli bychom postupovat stejně jako předchozí dva příklady. Pomocí `q.grad_fn` (zpětný průchod násobení)) bychom spočítali nejprve `dp` a `dm` a poté bychom se vydali jednou z těchto dvou větví. Zde ovšem kvůli diamantové struktuře grafu nastává problém, kde se na cestě větví zastavit. Pokud si např. vybereme větev `p` a budeme rekurzivně pokračovat, dokud to jde, dostaneme se až k `x`. Až teprve poté by na řadu přišla větev `m`, odkud bychom opět rekurzivně dokráčeli až k `x`. V uzlu `s` bychom ale volali `s.grad_fn` z každé větve, tj. dohromady dvakrát. To sice pro takto jednoduchý graf nezpůsobí větší problémy, pro složitější grafy jako např. rekurentní neurosítě by však došlo k výraznému zpomalení oproti optimální implementaci.\n",
    "\n",
    "Jak bylo uvedeno výše, **každá `grad_fn` by měla být zavolána právě jednou**. Docílit toho lze tak, že zpětný průchod `node.grad_fn(node.grad)` každého uzlu `node` budeme volat až potom, co jeho odpovídající `node.grad` je kompletně akumulovaný ze všech potomčích větví. Uzly ve správném pořadí zajistí tzv. topologické třídění. Topologické třídění je taková posloupnost uzlů, kdy pro každou hranu $(u, v)$ vedoucí z uzlu $u$ do uzlu $v$ platí, že $u$ se v posloupnosti nachází před $v$, viz [https://en.wikipedia.org/wiki/Topological_sorting](https://en.wikipedia.org/wiki/Topological_sorting).\n",
    "\n",
    "Topologické třídění tedy zařídí, že uzly dostaneme v pořadí, v jakém na sobě vzájemně zavisejí *v dopředném průchodu*. Jelikož uzly jsou v našem případě objekty `Variable`, topologicky sežazená posloupnost bude `list[ans.autograd.Variable]`. Konkrétně ve 3. příkladě to může být `[x, s, p, m, q]`. Pokud poté *ve zpětném průchodu* budeme volat `node.grad_fn(node.grad)` a akumulaci gradientů *v opačném pořadí*, tj. `for node in [q, m, p, s, x]`, nemůže se nám stát, ze `node.grad` nebude zcela kompletně nasčítaný. Prvním krokem a úkolem cvičení je tedy implementace topologického třídění uzlů v metodě `Variable.predecessors()`."
   ]
  },
  {
   "cell_type": "markdown",
   "id": "b4e871c9-d95b-447b-b07f-1e3577df509b",
   "metadata": {},
   "source": [
    "### TODO: implementujte funkci `Variable.predecessors()` v modulu `ans.autograd`."
   ]
  },
  {
   "cell_type": "code",
   "execution_count": 114,
   "id": "fec30ef2-a430-4970-aef0-70becb082805",
   "metadata": {
    "ExecuteTime": {
     "start_time": "2023-11-26T22:03:21.470718Z",
     "end_time": "2023-11-26T22:03:21.658476Z"
    }
   },
   "outputs": [
    {
     "name": "stderr",
     "output_type": "stream",
     "text": [
      "test_examples (tests.ANSTestCase.eval.<locals>._TestCaseClass.test_examples) ... ok\n",
      "\n",
      "----------------------------------------------------------------------\n",
      "Ran 1 test in 0.002s\n",
      "\n",
      "OK\n"
     ]
    },
    {
     "data": {
      "text/plain": "<unittest.runner.TextTestResult run=1 errors=0 failures=0>"
     },
     "execution_count": 114,
     "metadata": {},
     "output_type": "execute_result"
    }
   ],
   "source": [
    "test_backpropagation.TestTopologicalSort.eval()"
   ]
  },
  {
   "cell_type": "code",
   "execution_count": 138,
   "id": "4f7ab836-db6d-4bb6-9c83-77a6090dff91",
   "metadata": {
    "ExecuteTime": {
     "start_time": "2023-11-26T22:16:38.788189Z",
     "end_time": "2023-11-26T22:16:38.830441Z"
    }
   },
   "outputs": [
    {
     "data": {
      "text/plain": "[Variable(2.0, grad_fn=None),\n Variable(4.0, grad_fn=Variable.__pow__.<locals>.grad_fn),\n Variable(1.0, grad_fn=None),\n Variable(5.0, grad_fn=Variable.__add__.<locals>.grad_fn),\n Variable(3.0, grad_fn=Variable.__sub__.<locals>.grad_fn),\n Variable(15.0, grad_fn=Variable.__mul__.<locals>.grad_fn)]"
     },
     "execution_count": 138,
     "metadata": {},
     "output_type": "execute_result"
    }
   ],
   "source": [
    "variables_sorted = q.predecessors()\n",
    "variables_sorted"
   ]
  },
  {
   "cell_type": "markdown",
   "id": "0c358e57-b210-45e0-a48f-1f3f0a305ac4",
   "metadata": {},
   "source": [
    "## Obecná zpětná propagace"
   ]
  },
  {
   "cell_type": "markdown",
   "id": "816b2b16-8858-4f7d-a60e-df2c6fb80696",
   "metadata": {},
   "source": [
    "Nyní můžeme projít seznam `variables_sorted` *v opačném pořadí* a:\n",
    "- zavolat zpětný průchod daného uzlu,\n",
    "- získané gradienty akumulovat do atributu `grad` přímých rodičů uzlu.\n",
    "Celý takovýto postup pak tvoří obecný algoritmus zpětné propagace. Implementovat ho bude metoda `backprop()` třídy `Variable` a měla by tak být ekvivalentem metody `torch.Tensor.backward()`. Pokud např. zavoláme `q.backprop()`, funkce vyplní u všech proměnných `x`, `s`, `o`, `p`, `m` a `q` jejich atribud `grad`, jehož hodnota bude odpovídat parciální derivaci $dq/d\\cdot$, kde $\\cdot$ značí uzly `x` až `q`."
   ]
  },
  {
   "cell_type": "markdown",
   "id": "ea269195-3d21-4c68-931c-9c218cba1cce",
   "metadata": {},
   "source": [
    "### TODO: implementujte metodu `backprop()` třídy `Variable`."
   ]
  },
  {
   "cell_type": "code",
   "execution_count": 116,
   "id": "6ef561c7-d6ad-477d-b01a-88137e33d389",
   "metadata": {
    "ExecuteTime": {
     "start_time": "2023-11-26T22:06:47.095105Z",
     "end_time": "2023-11-26T22:06:47.352958Z"
    }
   },
   "outputs": [
    {
     "name": "stderr",
     "output_type": "stream",
     "text": [
      "test_examples (tests.ANSTestCase.eval.<locals>._TestCaseClass.test_examples) ... ok\n",
      "\n",
      "----------------------------------------------------------------------\n",
      "Ran 1 test in 0.007s\n",
      "\n",
      "OK\n"
     ]
    },
    {
     "data": {
      "text/plain": "<unittest.runner.TextTestResult run=1 errors=0 failures=0>"
     },
     "execution_count": 116,
     "metadata": {},
     "output_type": "execute_result"
    }
   ],
   "source": [
    "test_backpropagation.TestBackprop.eval()"
   ]
  },
  {
   "cell_type": "code",
   "execution_count": 140,
   "id": "a388768b-e1a2-4a4f-bae4-70e00c217891",
   "metadata": {
    "ExecuteTime": {
     "start_time": "2023-11-26T22:16:57.423065Z",
     "end_time": "2023-11-26T22:16:57.460082Z"
    }
   },
   "outputs": [],
   "source": [
    "q.backprop()"
   ]
  },
  {
   "cell_type": "code",
   "execution_count": 141,
   "id": "281e5b22-97d6-4d95-896e-f2afc6d13ed4",
   "metadata": {
    "ExecuteTime": {
     "start_time": "2023-11-26T22:17:01.514560Z",
     "end_time": "2023-11-26T22:17:01.549141Z"
    }
   },
   "outputs": [
    {
     "data": {
      "text/plain": "(tensor(320.), tensor(48.), tensor(-12.), tensor(9.), tensor(15.), tensor(1.))"
     },
     "execution_count": 141,
     "metadata": {},
     "output_type": "execute_result"
    }
   ],
   "source": [
    "x.grad, s.grad, o.grad, p.grad, m.grad, q.grad"
   ]
  },
  {
   "cell_type": "code",
   "execution_count": 142,
   "id": "4636dddf-e3c4-4d5e-8c75-33f15fedbff0",
   "metadata": {
    "ExecuteTime": {
     "start_time": "2023-11-26T22:17:05.183003Z",
     "end_time": "2023-11-26T22:17:05.230703Z"
    }
   },
   "outputs": [
    {
     "data": {
      "image/svg+xml": "<?xml version=\"1.0\" encoding=\"UTF-8\" standalone=\"no\"?>\n<!DOCTYPE svg PUBLIC \"-//W3C//DTD SVG 1.1//EN\"\n \"http://www.w3.org/Graphics/SVG/1.1/DTD/svg11.dtd\">\n<!-- Generated by graphviz version 8.1.0 (20230707.0739)\n -->\n<!-- Pages: 1 -->\n<svg width=\"814pt\" height=\"130pt\"\n viewBox=\"0.00 0.00 814.43 129.50\" xmlns=\"http://www.w3.org/2000/svg\" xmlns:xlink=\"http://www.w3.org/1999/xlink\">\n<g id=\"graph0\" class=\"graph\" transform=\"scale(1 1) rotate(0) translate(4 125.5)\">\n<polygon fill=\"white\" stroke=\"none\" points=\"-4,4 -4,-125.5 810.43,-125.5 810.43,4 -4,4\"/>\n<!-- x -->\n<g id=\"node1\" class=\"node\">\n<title>x</title>\n<polygon fill=\"none\" stroke=\"black\" points=\"0,-70.5 0,-121 110.5,-121 110.5,-70.5 0,-70.5\"/>\n<text text-anchor=\"middle\" x=\"55.25\" y=\"-103.7\" font-family=\"Times,serif\" font-size=\"14.00\">x = 2.0</text>\n<polyline fill=\"none\" stroke=\"black\" points=\"0,-95.75 110.5,-95.75\"/>\n<text text-anchor=\"middle\" x=\"55.25\" y=\"-78.45\" font-family=\"Times,serif\" font-size=\"14.00\">grad = 320.0</text>\n</g>\n<!-- mul1 -->\n<g id=\"node2\" class=\"node\">\n<title>mul1</title>\n<ellipse fill=\"none\" stroke=\"black\" cx=\"176.66\" cy=\"-95.75\" rx=\"30.16\" ry=\"18\"/>\n<text text-anchor=\"middle\" x=\"176.66\" y=\"-91.08\" font-family=\"Times,serif\" font-size=\"14.00\">mul</text>\n</g>\n<!-- x&#45;&gt;mul1 -->\n<g id=\"edge1\" class=\"edge\">\n<title>x&#45;&gt;mul1</title>\n<path fill=\"none\" stroke=\"black\" d=\"M110.37,-89.03C119.38,-88.94 128.56,-89.06 137.08,-89.39\"/>\n<polygon fill=\"black\" stroke=\"black\" points=\"136.67,-92.93 146.84,-89.94 137.03,-85.93 136.67,-92.93\"/>\n</g>\n<!-- x&#45;&gt;mul1 -->\n<g id=\"edge2\" class=\"edge\">\n<title>x&#45;&gt;mul1</title>\n<path fill=\"none\" stroke=\"black\" d=\"M110.37,-102.47C119.38,-102.56 128.56,-102.44 137.08,-102.11\"/>\n<polygon fill=\"black\" stroke=\"black\" points=\"137.03,-105.57 146.84,-101.56 136.67,-98.57 137.03,-105.57\"/>\n</g>\n<!-- s -->\n<g id=\"node3\" class=\"node\">\n<title>s</title>\n<polygon fill=\"none\" stroke=\"black\" points=\"245.08,-70.5 245.08,-121 346.58,-121 346.58,-70.5 245.08,-70.5\"/>\n<text text-anchor=\"middle\" x=\"295.83\" y=\"-103.7\" font-family=\"Times,serif\" font-size=\"14.00\">s = 4.0</text>\n<polyline fill=\"none\" stroke=\"black\" points=\"245.08,-95.75 346.58,-95.75\"/>\n<text text-anchor=\"middle\" x=\"295.83\" y=\"-78.45\" font-family=\"Times,serif\" font-size=\"14.00\">grad = 48.0</text>\n</g>\n<!-- mul1&#45;&gt;s -->\n<g id=\"edge3\" class=\"edge\">\n<title>mul1&#45;&gt;s</title>\n<path fill=\"none\" stroke=\"black\" d=\"M207.23,-95.75C215.51,-95.75 224.83,-95.75 234.22,-95.75\"/>\n<polygon fill=\"black\" stroke=\"black\" points=\"234.21,-99.25 244.21,-95.75 234.21,-92.25 234.21,-99.25\"/>\n</g>\n<!-- add -->\n<g id=\"node5\" class=\"node\">\n<title>add</title>\n<ellipse fill=\"none\" stroke=\"black\" cx=\"414.46\" cy=\"-95.75\" rx=\"29.64\" ry=\"18\"/>\n<text text-anchor=\"middle\" x=\"414.46\" y=\"-91.08\" font-family=\"Times,serif\" font-size=\"14.00\">add</text>\n</g>\n<!-- s&#45;&gt;add -->\n<g id=\"edge4\" class=\"edge\">\n<title>s&#45;&gt;add</title>\n<path fill=\"none\" stroke=\"black\" d=\"M346.29,-95.75C355.46,-95.75 364.93,-95.75 373.76,-95.75\"/>\n<polygon fill=\"black\" stroke=\"black\" points=\"373.53,-99.25 383.53,-95.75 373.53,-92.25 373.53,-99.25\"/>\n</g>\n<!-- sub -->\n<g id=\"node7\" class=\"node\">\n<title>sub</title>\n<ellipse fill=\"none\" stroke=\"black\" cx=\"414.46\" cy=\"-25.75\" rx=\"29.11\" ry=\"18\"/>\n<text text-anchor=\"middle\" x=\"414.46\" y=\"-21.07\" font-family=\"Times,serif\" font-size=\"14.00\">sub</text>\n</g>\n<!-- s&#45;&gt;sub -->\n<g id=\"edge7\" class=\"edge\">\n<title>s&#45;&gt;sub</title>\n<path fill=\"none\" stroke=\"black\" d=\"M338.61,-70.68C353.44,-61.77 369.83,-51.94 383.48,-43.74\"/>\n<polygon fill=\"black\" stroke=\"black\" points=\"385.1,-46.25 391.88,-38.11 381.5,-40.25 385.1,-46.25\"/>\n</g>\n<!-- o -->\n<g id=\"node4\" class=\"node\">\n<title>o</title>\n<polygon fill=\"none\" stroke=\"black\" points=\"242.83,-0.5 242.83,-51 348.83,-51 348.83,-0.5 242.83,-0.5\"/>\n<text text-anchor=\"middle\" x=\"295.83\" y=\"-33.7\" font-family=\"Times,serif\" font-size=\"14.00\">o = 1.0</text>\n<polyline fill=\"none\" stroke=\"black\" points=\"242.83,-25.75 348.83,-25.75\"/>\n<text text-anchor=\"middle\" x=\"295.83\" y=\"-8.45\" font-family=\"Times,serif\" font-size=\"14.00\">grad = &#45;12.0</text>\n</g>\n<!-- o&#45;&gt;add -->\n<g id=\"edge5\" class=\"edge\">\n<title>o&#45;&gt;add</title>\n<path fill=\"none\" stroke=\"black\" d=\"M338.61,-50.82C353.33,-59.66 369.6,-69.42 383.19,-77.58\"/>\n<polygon fill=\"black\" stroke=\"black\" points=\"381.18,-81.06 391.56,-83.2 384.78,-75.06 381.18,-81.06\"/>\n</g>\n<!-- o&#45;&gt;sub -->\n<g id=\"edge8\" class=\"edge\">\n<title>o&#45;&gt;sub</title>\n<path fill=\"none\" stroke=\"black\" d=\"M348.67,-25.75C357.28,-25.75 366.09,-25.75 374.32,-25.75\"/>\n<polygon fill=\"black\" stroke=\"black\" points=\"374.12,-29.25 384.12,-25.75 374.12,-22.25 374.12,-29.25\"/>\n</g>\n<!-- p -->\n<g id=\"node6\" class=\"node\">\n<title>p</title>\n<polygon fill=\"none\" stroke=\"black\" points=\"484.6,-70.5 484.6,-121 577.1,-121 577.1,-70.5 484.6,-70.5\"/>\n<text text-anchor=\"middle\" x=\"530.85\" y=\"-103.7\" font-family=\"Times,serif\" font-size=\"14.00\">p = 5.0</text>\n<polyline fill=\"none\" stroke=\"black\" points=\"484.6,-95.75 577.1,-95.75\"/>\n<text text-anchor=\"middle\" x=\"530.85\" y=\"-78.45\" font-family=\"Times,serif\" font-size=\"14.00\">grad = 9.0</text>\n</g>\n<!-- add&#45;&gt;p -->\n<g id=\"edge6\" class=\"edge\">\n<title>add&#45;&gt;p</title>\n<path fill=\"none\" stroke=\"black\" d=\"M444.33,-95.75C453.47,-95.75 463.89,-95.75 474.25,-95.75\"/>\n<polygon fill=\"black\" stroke=\"black\" points=\"473.96,-99.25 483.96,-95.75 473.96,-92.25 473.96,-99.25\"/>\n</g>\n<!-- mul2 -->\n<g id=\"node9\" class=\"node\">\n<title>mul2</title>\n<ellipse fill=\"none\" stroke=\"black\" cx=\"647.77\" cy=\"-60.75\" rx=\"30.16\" ry=\"18\"/>\n<text text-anchor=\"middle\" x=\"647.77\" y=\"-56.08\" font-family=\"Times,serif\" font-size=\"14.00\">mul</text>\n</g>\n<!-- p&#45;&gt;mul2 -->\n<g id=\"edge10\" class=\"edge\">\n<title>p&#45;&gt;mul2</title>\n<path fill=\"none\" stroke=\"black\" d=\"M576.94,-82.02C587.86,-78.69 599.41,-75.17 609.9,-71.98\"/>\n<polygon fill=\"black\" stroke=\"black\" points=\"610.83,-75.05 619.38,-68.79 608.79,-68.35 610.83,-75.05\"/>\n</g>\n<!-- m -->\n<g id=\"node8\" class=\"node\">\n<title>m</title>\n<polygon fill=\"none\" stroke=\"black\" points=\"480.1,-0.5 480.1,-51 581.6,-51 581.6,-0.5 480.1,-0.5\"/>\n<text text-anchor=\"middle\" x=\"530.85\" y=\"-33.7\" font-family=\"Times,serif\" font-size=\"14.00\">m = 3.0</text>\n<polyline fill=\"none\" stroke=\"black\" points=\"480.1,-25.75 581.6,-25.75\"/>\n<text text-anchor=\"middle\" x=\"530.85\" y=\"-8.45\" font-family=\"Times,serif\" font-size=\"14.00\">grad = 15.0</text>\n</g>\n<!-- sub&#45;&gt;m -->\n<g id=\"edge9\" class=\"edge\">\n<title>sub&#45;&gt;m</title>\n<path fill=\"none\" stroke=\"black\" d=\"M444.03,-25.75C451.84,-25.75 460.61,-25.75 469.48,-25.75\"/>\n<polygon fill=\"black\" stroke=\"black\" points=\"469.3,-29.25 479.3,-25.75 469.3,-22.25 469.3,-29.25\"/>\n</g>\n<!-- m&#45;&gt;mul2 -->\n<g id=\"edge11\" class=\"edge\">\n<title>m&#45;&gt;mul2</title>\n<path fill=\"none\" stroke=\"black\" d=\"M581.59,-40.9C591.07,-43.79 600.85,-46.76 609.85,-49.51\"/>\n<polygon fill=\"black\" stroke=\"black\" points=\"608.78,-53.14 619.37,-52.71 610.82,-46.45 608.78,-53.14\"/>\n</g>\n<!-- q -->\n<g id=\"node10\" class=\"node\">\n<title>q</title>\n<polygon fill=\"none\" stroke=\"black\" points=\"713.93,-35.5 713.93,-86 806.43,-86 806.43,-35.5 713.93,-35.5\"/>\n<text text-anchor=\"middle\" x=\"760.18\" y=\"-68.7\" font-family=\"Times,serif\" font-size=\"14.00\">q = 15.0</text>\n<polyline fill=\"none\" stroke=\"black\" points=\"713.93,-60.75 806.43,-60.75\"/>\n<text text-anchor=\"middle\" x=\"760.18\" y=\"-43.45\" font-family=\"Times,serif\" font-size=\"14.00\">grad = 1.0</text>\n</g>\n<!-- mul2&#45;&gt;q -->\n<g id=\"edge12\" class=\"edge\">\n<title>mul2&#45;&gt;q</title>\n<path fill=\"none\" stroke=\"black\" d=\"M678.35,-60.75C686.08,-60.75 694.67,-60.75 703.27,-60.75\"/>\n<polygon fill=\"black\" stroke=\"black\" points=\"703.13,-64.25 713.13,-60.75 703.13,-57.25 703.13,-64.25\"/>\n</g>\n</g>\n</svg>\n",
      "text/plain": "<graphviz.graphs.Digraph at 0x7fa9de0ad3d0>"
     },
     "execution_count": 142,
     "metadata": {},
     "output_type": "execute_result"
    }
   ],
   "source": [
    "draw_comp_graph_ex_3()"
   ]
  },
  {
   "cell_type": "markdown",
   "id": "07d0cda9-34bb-4db7-b279-8f7d273d6c79",
   "metadata": {},
   "source": [
    "# Funkce pro vykreslování grafu"
   ]
  },
  {
   "cell_type": "markdown",
   "id": "72bcc4c0-b63f-4933-b3d1-0ca5eee11321",
   "metadata": {},
   "source": [
    "Topologické řazení `Variable.predecessors()` využijeme i pro vykreslování obecného grafu. Funkce je připravena ve třídě `Variable` jako\n",
    "``` python\n",
    "def to_graphviz(self, show_data: bool = False) -> graphviz.Digraph:\n",
    "    dot = graphviz.Digraph(graph_attr={'rankdir': 'LR'})\n",
    "    ...\n",
    "    return dot\n",
    "```\n",
    "Podobně jako funkce `draw_comp_graph_ex_{i}` vrací objekt typu `graphviz.Digraph`, který se v notebooku vykreslí jako graf. Úkolem je chybějící implementaci doplnit. Vykreslení výrazně usnadní dvě připravené funkce\n",
    "``` python\n",
    "def get_node_info(node: 'Variable', default: str = '', show_data: bool = False) -> tuple[str, str]:\n",
    "    ...\n",
    "\n",
    "def get_func_info(node: 'Variable') -> tuple[str, str]:\n",
    "    ...\n",
    "```\n",
    "Obě funkce přijímají `Variable` jako uzel grafu a vrátí pro něj odpovídající jedinečný identifikátor a zároveň popisek, který se zobrazí při vykreslení - podobně jako funkce tohoto notebooku `node_label(node: ans.autograd.Variable) -> str`.\n",
    "- Pokud do grafu přidáváme uzel reprezentovaný proměnnou `node`, použijeme\n",
    "``` python\n",
    "node_uid, node_label = get_node_info(node)\n",
    "dot.node(node_uid, label=node_label, shape='record')\n",
    "```\n",
    "- V případě uzlu, který značí funkci, použijeme obdobným způsobem funkci `get_func_info()`. Funkce převezme `node: Variable` a z `node.grad_fn` zjistí název funkce, který se pak může vykreslit jako popisek do grafu."
   ]
  },
  {
   "cell_type": "markdown",
   "id": "af692a34-3f70-445e-8901-033749184e48",
   "metadata": {},
   "source": [
    "### TODO: implenetujte funkci `Variable.to_graphviz()` modulu `ans.autograd`."
   ]
  },
  {
   "cell_type": "code",
   "execution_count": 144,
   "id": "bbc41e03-d1b4-49a7-a527-b0f14bcb67bc",
   "metadata": {
    "ExecuteTime": {
     "start_time": "2023-11-26T22:20:48.341431Z",
     "end_time": "2023-11-26T22:20:49.025242Z"
    }
   },
   "outputs": [
    {
     "data": {
      "image/svg+xml": "<?xml version=\"1.0\" encoding=\"UTF-8\" standalone=\"no\"?>\n<!DOCTYPE svg PUBLIC \"-//W3C//DTD SVG 1.1//EN\"\n \"http://www.w3.org/Graphics/SVG/1.1/DTD/svg11.dtd\">\n<!-- Generated by graphviz version 8.1.0 (20230707.0739)\n -->\n<!-- Pages: 1 -->\n<svg width=\"316pt\" height=\"100pt\"\n viewBox=\"0.00 0.00 316.33 100.00\" xmlns=\"http://www.w3.org/2000/svg\" xmlns:xlink=\"http://www.w3.org/1999/xlink\">\n<g id=\"graph0\" class=\"graph\" transform=\"scale(1 1) rotate(0) translate(4 96)\">\n<polygon fill=\"white\" stroke=\"none\" points=\"-4,4 -4,-96 312.33,-96 312.33,4 -4,4\"/>\n<!-- 140367562631184 -->\n<g id=\"node1\" class=\"node\">\n<title>140367562631184</title>\n<polygon fill=\"none\" stroke=\"black\" points=\"218.83,-27.5 218.83,-63.5 308.33,-63.5 308.33,-27.5 218.83,-27.5\"/>\n<text text-anchor=\"middle\" x=\"263.58\" y=\"-41.2\" font-family=\"Times,serif\" font-size=\"14.00\">w = 6.000</text>\n</g>\n<!-- 140367562631184.grad_fn -->\n<g id=\"node2\" class=\"node\">\n<title>140367562631184.grad_fn</title>\n<ellipse fill=\"none\" stroke=\"black\" cx=\"152.66\" cy=\"-45.5\" rx=\"30.16\" ry=\"18\"/>\n<text text-anchor=\"middle\" x=\"152.66\" y=\"-40.83\" font-family=\"Times,serif\" font-size=\"14.00\">mul</text>\n</g>\n<!-- 140367562631184.grad_fn&#45;&gt;140367562631184 -->\n<g id=\"edge1\" class=\"edge\">\n<title>140367562631184.grad_fn&#45;&gt;140367562631184</title>\n<path fill=\"none\" stroke=\"black\" d=\"M183.14,-45.5C190.93,-45.5 199.6,-45.5 208.26,-45.5\"/>\n<polygon fill=\"black\" stroke=\"black\" points=\"208.17,-49 218.17,-45.5 208.17,-42 208.17,-49\"/>\n</g>\n<!-- 140367562140304 -->\n<g id=\"node3\" class=\"node\">\n<title>140367562140304</title>\n<polygon fill=\"none\" stroke=\"black\" points=\"0,-55.5 0,-91.5 86.5,-91.5 86.5,-55.5 0,-55.5\"/>\n<text text-anchor=\"middle\" x=\"43.25\" y=\"-69.2\" font-family=\"Times,serif\" font-size=\"14.00\">u = 2.000</text>\n</g>\n<!-- 140367562140304&#45;&gt;140367562631184.grad_fn -->\n<g id=\"edge2\" class=\"edge\">\n<title>140367562140304&#45;&gt;140367562631184.grad_fn</title>\n<path fill=\"none\" stroke=\"black\" d=\"M86.39,-62.51C95.5,-60.14 105.08,-57.64 114,-55.32\"/>\n<polygon fill=\"black\" stroke=\"black\" points=\"114.7,-58.49 123.49,-52.58 112.93,-51.72 114.7,-58.49\"/>\n</g>\n<!-- 140367573704976 -->\n<g id=\"node4\" class=\"node\">\n<title>140367573704976</title>\n<polygon fill=\"none\" stroke=\"black\" points=\"0.38,-0.5 0.38,-36.5 86.12,-36.5 86.12,-0.5 0.38,-0.5\"/>\n<text text-anchor=\"middle\" x=\"43.25\" y=\"-14.2\" font-family=\"Times,serif\" font-size=\"14.00\">v = 3.000</text>\n</g>\n<!-- 140367573704976&#45;&gt;140367562631184.grad_fn -->\n<g id=\"edge3\" class=\"edge\">\n<title>140367573704976&#45;&gt;140367562631184.grad_fn</title>\n<path fill=\"none\" stroke=\"black\" d=\"M86.09,-29.02C95.22,-31.31 104.83,-33.73 113.79,-35.98\"/>\n<polygon fill=\"black\" stroke=\"black\" points=\"112.78,-39.59 123.33,-38.63 114.49,-32.8 112.78,-39.59\"/>\n</g>\n</g>\n</svg>\n",
      "text/plain": "<graphviz.graphs.Digraph at 0x7fa9de338710>"
     },
     "execution_count": 144,
     "metadata": {},
     "output_type": "execute_result"
    }
   ],
   "source": [
    "w.to_graphviz()"
   ]
  },
  {
   "cell_type": "code",
   "execution_count": 146,
   "id": "d3c80214-6000-4c06-bc3c-27dc3f886121",
   "metadata": {
    "ExecuteTime": {
     "start_time": "2023-11-26T22:22:21.001989Z",
     "end_time": "2023-11-26T22:22:21.190927Z"
    }
   },
   "outputs": [
    {
     "data": {
      "image/svg+xml": "<?xml version=\"1.0\" encoding=\"UTF-8\" standalone=\"no\"?>\n<!DOCTYPE svg PUBLIC \"-//W3C//DTD SVG 1.1//EN\"\n \"http://www.w3.org/Graphics/SVG/1.1/DTD/svg11.dtd\">\n<!-- Generated by graphviz version 8.1.0 (20230707.0739)\n -->\n<!-- Pages: 1 -->\n<svg width=\"780pt\" height=\"127pt\"\n viewBox=\"0.00 0.00 779.93 127.00\" xmlns=\"http://www.w3.org/2000/svg\" xmlns:xlink=\"http://www.w3.org/1999/xlink\">\n<g id=\"graph0\" class=\"graph\" transform=\"scale(1 1) rotate(0) translate(4 123)\">\n<polygon fill=\"white\" stroke=\"none\" points=\"-4,4 -4,-123 775.93,-123 775.93,4 -4,4\"/>\n<!-- 140367563965712 -->\n<g id=\"node1\" class=\"node\">\n<title>140367563965712</title>\n<polygon fill=\"none\" stroke=\"black\" points=\"677.93,-54.5 677.93,-90.5 771.93,-90.5 771.93,-54.5 677.93,-54.5\"/>\n<text text-anchor=\"middle\" x=\"724.93\" y=\"-68.2\" font-family=\"Times,serif\" font-size=\"14.00\">z = 49.000</text>\n</g>\n<!-- 140367563965712.grad_fn -->\n<g id=\"node2\" class=\"node\">\n<title>140367563965712.grad_fn</title>\n<ellipse fill=\"none\" stroke=\"black\" cx=\"611.77\" cy=\"-72.5\" rx=\"30.16\" ry=\"18\"/>\n<text text-anchor=\"middle\" x=\"611.77\" y=\"-67.83\" font-family=\"Times,serif\" font-size=\"14.00\">mul</text>\n</g>\n<!-- 140367563965712.grad_fn&#45;&gt;140367563965712 -->\n<g id=\"edge1\" class=\"edge\">\n<title>140367563965712.grad_fn&#45;&gt;140367563965712</title>\n<path fill=\"none\" stroke=\"black\" d=\"M642.26,-72.5C649.95,-72.5 658.5,-72.5 667.09,-72.5\"/>\n<polygon fill=\"black\" stroke=\"black\" points=\"666.93,-76 676.93,-72.5 666.93,-69 666.93,-76\"/>\n</g>\n<!-- 140367563971536 -->\n<g id=\"node3\" class=\"node\">\n<title>140367563971536</title>\n<polygon fill=\"none\" stroke=\"black\" points=\"459.85,-54.5 459.85,-90.5 545.6,-90.5 545.6,-54.5 459.85,-54.5\"/>\n<text text-anchor=\"middle\" x=\"502.73\" y=\"-68.2\" font-family=\"Times,serif\" font-size=\"14.00\">y = 7.000</text>\n</g>\n<!-- 140367563971536&#45;&gt;140367563965712.grad_fn -->\n<g id=\"edge2\" class=\"edge\">\n<title>140367563971536&#45;&gt;140367563965712.grad_fn</title>\n<path fill=\"none\" stroke=\"black\" d=\"M545.42,-65.9C554.15,-65.68 563.33,-65.7 571.95,-65.98\"/>\n<polygon fill=\"black\" stroke=\"black\" points=\"571.74,-69.52 581.89,-66.49 572.06,-62.53 571.74,-69.52\"/>\n</g>\n<!-- 140367563971536&#45;&gt;140367563965712.grad_fn -->\n<g id=\"edge3\" class=\"edge\">\n<title>140367563971536&#45;&gt;140367563965712.grad_fn</title>\n<path fill=\"none\" stroke=\"black\" d=\"M545.42,-79.1C554.15,-79.32 563.33,-79.3 571.95,-79.02\"/>\n<polygon fill=\"black\" stroke=\"black\" points=\"572.06,-82.47 581.89,-78.51 571.74,-75.48 572.06,-82.47\"/>\n</g>\n<!-- 140367563971536.grad_fn -->\n<g id=\"node4\" class=\"node\">\n<title>140367563971536.grad_fn</title>\n<ellipse fill=\"none\" stroke=\"black\" cx=\"394.21\" cy=\"-72.5\" rx=\"29.64\" ry=\"18\"/>\n<text text-anchor=\"middle\" x=\"394.21\" y=\"-67.83\" font-family=\"Times,serif\" font-size=\"14.00\">add</text>\n</g>\n<!-- 140367563971536.grad_fn&#45;&gt;140367563971536 -->\n<g id=\"edge4\" class=\"edge\">\n<title>140367563971536.grad_fn&#45;&gt;140367563971536</title>\n<path fill=\"none\" stroke=\"black\" d=\"M424.32,-72.5C432.03,-72.5 440.59,-72.5 449.14,-72.5\"/>\n<polygon fill=\"black\" stroke=\"black\" points=\"448.88,-76 458.88,-72.5 448.88,-69 448.88,-76\"/>\n</g>\n<!-- 140367562945744 -->\n<g id=\"node5\" class=\"node\">\n<title>140367562945744</title>\n<polygon fill=\"none\" stroke=\"black\" points=\"230.45,-82.5 230.45,-118.5 325.2,-118.5 325.2,-82.5 230.45,-82.5\"/>\n<text text-anchor=\"middle\" x=\"277.83\" y=\"-96.2\" font-family=\"Times,serif\" font-size=\"14.00\">x1 = 1.000</text>\n</g>\n<!-- 140367562945744&#45;&gt;140367563971536.grad_fn -->\n<g id=\"edge5\" class=\"edge\">\n<title>140367562945744&#45;&gt;140367563971536.grad_fn</title>\n<path fill=\"none\" stroke=\"black\" d=\"M325.02,-89.19C335.2,-86.7 345.87,-84.09 355.66,-81.69\"/>\n<polygon fill=\"black\" stroke=\"black\" points=\"356.39,-84.87 365.27,-79.1 354.73,-78.07 356.39,-84.87\"/>\n</g>\n<!-- 140367570562064 -->\n<g id=\"node6\" class=\"node\">\n<title>140367570562064</title>\n<polygon fill=\"none\" stroke=\"black\" points=\"227.08,-27.5 227.08,-63.5 328.58,-63.5 328.58,-27.5 227.08,-27.5\"/>\n<text text-anchor=\"middle\" x=\"277.83\" y=\"-41.2\" font-family=\"Times,serif\" font-size=\"14.00\">x2_ = 6.000</text>\n</g>\n<!-- 140367570562064&#45;&gt;140367563971536.grad_fn -->\n<g id=\"edge6\" class=\"edge\">\n<title>140367570562064&#45;&gt;140367563971536.grad_fn</title>\n<path fill=\"none\" stroke=\"black\" d=\"M328.33,-57.19C337.42,-59.33 346.77,-61.54 355.44,-63.58\"/>\n<polygon fill=\"black\" stroke=\"black\" points=\"354.46,-67.18 364.99,-66.07 356.07,-60.37 354.46,-67.18\"/>\n</g>\n<!-- 140367570562064.grad_fn -->\n<g id=\"node7\" class=\"node\">\n<title>140367570562064.grad_fn</title>\n<ellipse fill=\"none\" stroke=\"black\" cx=\"160.91\" cy=\"-45.5\" rx=\"30.16\" ry=\"18\"/>\n<text text-anchor=\"middle\" x=\"160.91\" y=\"-40.83\" font-family=\"Times,serif\" font-size=\"14.00\">mul</text>\n</g>\n<!-- 140367570562064.grad_fn&#45;&gt;140367570562064 -->\n<g id=\"edge7\" class=\"edge\">\n<title>140367570562064.grad_fn&#45;&gt;140367570562064</title>\n<path fill=\"none\" stroke=\"black\" d=\"M191.51,-45.5C199.18,-45.5 207.72,-45.5 216.35,-45.5\"/>\n<polygon fill=\"black\" stroke=\"black\" points=\"216.28,-49 226.28,-45.5 216.28,-42 216.28,-49\"/>\n</g>\n<!-- 140367558120720 -->\n<g id=\"node8\" class=\"node\">\n<title>140367558120720</title>\n<polygon fill=\"none\" stroke=\"black\" points=\"4.5,-55.5 4.5,-91.5 90.25,-91.5 90.25,-55.5 4.5,-55.5\"/>\n<text text-anchor=\"middle\" x=\"47.38\" y=\"-69.2\" font-family=\"Times,serif\" font-size=\"14.00\">a = 2.000</text>\n</g>\n<!-- 140367558120720&#45;&gt;140367570562064.grad_fn -->\n<g id=\"edge8\" class=\"edge\">\n<title>140367558120720&#45;&gt;140367570562064.grad_fn</title>\n<path fill=\"none\" stroke=\"black\" d=\"M90.23,-62.99C100.78,-60.35 112.04,-57.52 122.37,-54.93\"/>\n<polygon fill=\"black\" stroke=\"black\" points=\"122.87,-58.16 131.72,-52.33 121.17,-51.37 122.87,-58.16\"/>\n</g>\n<!-- 140367563972880 -->\n<g id=\"node9\" class=\"node\">\n<title>140367563972880</title>\n<polygon fill=\"none\" stroke=\"black\" points=\"0,-0.5 0,-36.5 94.75,-36.5 94.75,-0.5 0,-0.5\"/>\n<text text-anchor=\"middle\" x=\"47.38\" y=\"-14.2\" font-family=\"Times,serif\" font-size=\"14.00\">x2 = 3.000</text>\n</g>\n<!-- 140367563972880&#45;&gt;140367570562064.grad_fn -->\n<g id=\"edge9\" class=\"edge\">\n<title>140367563972880&#45;&gt;140367570562064.grad_fn</title>\n<path fill=\"none\" stroke=\"black\" d=\"M94.71,-29.72C103.71,-31.9 113.06,-34.16 121.76,-36.27\"/>\n<polygon fill=\"black\" stroke=\"black\" points=\"120.83,-39.88 131.38,-38.83 122.48,-33.08 120.83,-39.88\"/>\n</g>\n</g>\n</svg>\n",
      "text/plain": "<graphviz.graphs.Digraph at 0x7fa9de417c90>"
     },
     "execution_count": 146,
     "metadata": {},
     "output_type": "execute_result"
    }
   ],
   "source": [
    "z.to_graphviz()"
   ]
  },
  {
   "cell_type": "code",
   "execution_count": 145,
   "id": "134c1fcd-ec95-4118-9af4-f4d38926eea0",
   "metadata": {
    "ExecuteTime": {
     "start_time": "2023-11-26T22:22:19.143618Z",
     "end_time": "2023-11-26T22:22:19.810318Z"
    }
   },
   "outputs": [
    {
     "data": {
      "image/svg+xml": "<?xml version=\"1.0\" encoding=\"UTF-8\" standalone=\"no\"?>\n<!DOCTYPE svg PUBLIC \"-//W3C//DTD SVG 1.1//EN\"\n \"http://www.w3.org/Graphics/SVG/1.1/DTD/svg11.dtd\">\n<!-- Generated by graphviz version 8.1.0 (20230707.0739)\n -->\n<!-- Pages: 1 -->\n<svg width=\"765pt\" height=\"100pt\"\n viewBox=\"0.00 0.00 765.09 100.00\" xmlns=\"http://www.w3.org/2000/svg\" xmlns:xlink=\"http://www.w3.org/1999/xlink\">\n<g id=\"graph0\" class=\"graph\" transform=\"scale(1 1) rotate(0) translate(4 96)\">\n<polygon fill=\"white\" stroke=\"none\" points=\"-4,4 -4,-96 761.09,-96 761.09,4 -4,4\"/>\n<!-- 140367554069968 -->\n<g id=\"node1\" class=\"node\">\n<title>140367554069968</title>\n<polygon fill=\"none\" stroke=\"black\" points=\"661.59,-27.5 661.59,-63.5 757.09,-63.5 757.09,-27.5 661.59,-27.5\"/>\n<text text-anchor=\"middle\" x=\"709.34\" y=\"-41.2\" font-family=\"Times,serif\" font-size=\"14.00\">q = 15.000</text>\n</g>\n<!-- 140367554069968.grad_fn -->\n<g id=\"node2\" class=\"node\">\n<title>140367554069968.grad_fn</title>\n<ellipse fill=\"none\" stroke=\"black\" cx=\"595.42\" cy=\"-45.5\" rx=\"30.16\" ry=\"18\"/>\n<text text-anchor=\"middle\" x=\"595.42\" y=\"-40.83\" font-family=\"Times,serif\" font-size=\"14.00\">mul</text>\n</g>\n<!-- 140367554069968.grad_fn&#45;&gt;140367554069968 -->\n<g id=\"edge1\" class=\"edge\">\n<title>140367554069968.grad_fn&#45;&gt;140367554069968</title>\n<path fill=\"none\" stroke=\"black\" d=\"M625.83,-45.5C633.57,-45.5 642.19,-45.5 650.86,-45.5\"/>\n<polygon fill=\"black\" stroke=\"black\" points=\"650.81,-49 660.81,-45.5 650.81,-42 650.81,-49\"/>\n</g>\n<!-- 140367554076048 -->\n<g id=\"node3\" class=\"node\">\n<title>140367554076048</title>\n<polygon fill=\"none\" stroke=\"black\" points=\"440.51,-55.5 440.51,-91.5 527.01,-91.5 527.01,-55.5 440.51,-55.5\"/>\n<text text-anchor=\"middle\" x=\"483.76\" y=\"-69.2\" font-family=\"Times,serif\" font-size=\"14.00\">p = 5.000</text>\n</g>\n<!-- 140367554076048&#45;&gt;140367554069968.grad_fn -->\n<g id=\"edge2\" class=\"edge\">\n<title>140367554076048&#45;&gt;140367554069968.grad_fn</title>\n<path fill=\"none\" stroke=\"black\" d=\"M526.84,-62.75C536.67,-60.24 547.08,-57.59 556.71,-55.13\"/>\n<polygon fill=\"black\" stroke=\"black\" points=\"557.35,-58.32 566.17,-52.46 555.62,-51.54 557.35,-58.32\"/>\n</g>\n<!-- 140367554080144 -->\n<g id=\"node4\" class=\"node\">\n<title>140367554080144</title>\n<polygon fill=\"none\" stroke=\"black\" points=\"438.26,-0.5 438.26,-36.5 529.26,-36.5 529.26,-0.5 438.26,-0.5\"/>\n<text text-anchor=\"middle\" x=\"483.76\" y=\"-14.2\" font-family=\"Times,serif\" font-size=\"14.00\">m = 3.000</text>\n</g>\n<!-- 140367554080144&#45;&gt;140367554069968.grad_fn -->\n<g id=\"edge3\" class=\"edge\">\n<title>140367554080144&#45;&gt;140367554069968.grad_fn</title>\n<path fill=\"none\" stroke=\"black\" d=\"M529.05,-29.4C538.18,-31.65 547.71,-34 556.58,-36.18\"/>\n<polygon fill=\"black\" stroke=\"black\" points=\"555.46,-39.76 566.01,-38.75 557.14,-32.96 555.46,-39.76\"/>\n</g>\n<!-- 140367554080144.grad_fn -->\n<g id=\"node5\" class=\"node\">\n<title>140367554080144.grad_fn</title>\n<ellipse fill=\"none\" stroke=\"black\" cx=\"372.62\" cy=\"-18.5\" rx=\"29.11\" ry=\"18\"/>\n<text text-anchor=\"middle\" x=\"372.62\" y=\"-13.82\" font-family=\"Times,serif\" font-size=\"14.00\">sub</text>\n</g>\n<!-- 140367554080144.grad_fn&#45;&gt;140367554080144 -->\n<g id=\"edge4\" class=\"edge\">\n<title>140367554080144.grad_fn&#45;&gt;140367554080144</title>\n<path fill=\"none\" stroke=\"black\" d=\"M402.01,-18.5C409.91,-18.5 418.78,-18.5 427.66,-18.5\"/>\n<polygon fill=\"black\" stroke=\"black\" points=\"427.44,-22 437.44,-18.5 427.44,-15 427.44,-22\"/>\n</g>\n<!-- 140368349993936 -->\n<g id=\"node6\" class=\"node\">\n<title>140368349993936</title>\n<polygon fill=\"none\" stroke=\"black\" points=\"221.61,-55.5 221.61,-91.5 306.61,-91.5 306.61,-55.5 221.61,-55.5\"/>\n<text text-anchor=\"middle\" x=\"264.11\" y=\"-69.2\" font-family=\"Times,serif\" font-size=\"14.00\">s = 4.000</text>\n</g>\n<!-- 140368349993936&#45;&gt;140367554080144.grad_fn -->\n<g id=\"edge5\" class=\"edge\">\n<title>140368349993936&#45;&gt;140367554080144.grad_fn</title>\n<path fill=\"none\" stroke=\"black\" d=\"M299.69,-55.64C312.63,-48.96 327.26,-41.41 339.93,-34.87\"/>\n<polygon fill=\"black\" stroke=\"black\" points=\"341.32,-37.57 348.6,-29.87 338.1,-31.35 341.32,-37.57\"/>\n</g>\n<!-- 140367554076048.grad_fn -->\n<g id=\"node8\" class=\"node\">\n<title>140367554076048.grad_fn</title>\n<ellipse fill=\"none\" stroke=\"black\" cx=\"372.62\" cy=\"-73.5\" rx=\"29.64\" ry=\"18\"/>\n<text text-anchor=\"middle\" x=\"372.62\" y=\"-68.83\" font-family=\"Times,serif\" font-size=\"14.00\">add</text>\n</g>\n<!-- 140368349993936&#45;&gt;140367554076048.grad_fn -->\n<g id=\"edge8\" class=\"edge\">\n<title>140368349993936&#45;&gt;140367554076048.grad_fn</title>\n<path fill=\"none\" stroke=\"black\" d=\"M306.59,-73.5C314.87,-73.5 323.54,-73.5 331.76,-73.5\"/>\n<polygon fill=\"black\" stroke=\"black\" points=\"331.6,-77 341.6,-73.5 331.6,-70 331.6,-77\"/>\n</g>\n<!-- 140367553921552 -->\n<g id=\"node7\" class=\"node\">\n<title>140367553921552</title>\n<polygon fill=\"none\" stroke=\"black\" points=\"221.23,-0.5 221.23,-36.5 306.98,-36.5 306.98,-0.5 221.23,-0.5\"/>\n<text text-anchor=\"middle\" x=\"264.11\" y=\"-14.2\" font-family=\"Times,serif\" font-size=\"14.00\">o = 1.000</text>\n</g>\n<!-- 140367553921552&#45;&gt;140367554080144.grad_fn -->\n<g id=\"edge6\" class=\"edge\">\n<title>140367553921552&#45;&gt;140367554080144.grad_fn</title>\n<path fill=\"none\" stroke=\"black\" d=\"M306.9,-18.5C315.23,-18.5 323.96,-18.5 332.21,-18.5\"/>\n<polygon fill=\"black\" stroke=\"black\" points=\"332.09,-22 342.09,-18.5 332.09,-15 332.09,-22\"/>\n</g>\n<!-- 140367553921552&#45;&gt;140367554076048.grad_fn -->\n<g id=\"edge9\" class=\"edge\">\n<title>140367553921552&#45;&gt;140367554076048.grad_fn</title>\n<path fill=\"none\" stroke=\"black\" d=\"M299.69,-36.36C312.54,-42.99 327.04,-50.48 339.64,-56.99\"/>\n<polygon fill=\"black\" stroke=\"black\" points=\"337.78,-60.48 348.27,-61.96 341,-54.26 337.78,-60.48\"/>\n</g>\n<!-- 140367554076048.grad_fn&#45;&gt;140367554076048 -->\n<g id=\"edge7\" class=\"edge\">\n<title>140367554076048.grad_fn&#45;&gt;140367554076048</title>\n<path fill=\"none\" stroke=\"black\" d=\"M402.58,-73.5C410.93,-73.5 420.32,-73.5 429.65,-73.5\"/>\n<polygon fill=\"black\" stroke=\"black\" points=\"429.51,-77 439.51,-73.5 429.51,-70 429.51,-77\"/>\n</g>\n<!-- 140368349993936.grad_fn -->\n<g id=\"node9\" class=\"node\">\n<title>140368349993936.grad_fn</title>\n<ellipse fill=\"none\" stroke=\"black\" cx=\"153.49\" cy=\"-73.5\" rx=\"31.74\" ry=\"18\"/>\n<text text-anchor=\"middle\" x=\"153.49\" y=\"-68.83\" font-family=\"Times,serif\" font-size=\"14.00\">pow</text>\n</g>\n<!-- 140368349993936.grad_fn&#45;&gt;140368349993936 -->\n<g id=\"edge10\" class=\"edge\">\n<title>140368349993936.grad_fn&#45;&gt;140368349993936</title>\n<path fill=\"none\" stroke=\"black\" d=\"M185.62,-73.5C193.55,-73.5 202.3,-73.5 210.97,-73.5\"/>\n<polygon fill=\"black\" stroke=\"black\" points=\"210.85,-77 220.85,-73.5 210.85,-70 210.85,-77\"/>\n</g>\n<!-- 140367554076560 -->\n<g id=\"node10\" class=\"node\">\n<title>140367554076560</title>\n<polygon fill=\"none\" stroke=\"black\" points=\"0,-55.5 0,-91.5 85.75,-91.5 85.75,-55.5 0,-55.5\"/>\n<text text-anchor=\"middle\" x=\"42.88\" y=\"-69.2\" font-family=\"Times,serif\" font-size=\"14.00\">x = 2.000</text>\n</g>\n<!-- 140367554076560&#45;&gt;140368349993936.grad_fn -->\n<g id=\"edge11\" class=\"edge\">\n<title>140367554076560&#45;&gt;140368349993936.grad_fn</title>\n<path fill=\"none\" stroke=\"black\" d=\"M85.56,-73.5C93.78,-73.5 102.42,-73.5 110.65,-73.5\"/>\n<polygon fill=\"black\" stroke=\"black\" points=\"110.55,-77 120.55,-73.5 110.55,-70 110.55,-77\"/>\n</g>\n</g>\n</svg>\n",
      "text/plain": "<graphviz.graphs.Digraph at 0x7fa9de3b0690>"
     },
     "execution_count": 145,
     "metadata": {},
     "output_type": "execute_result"
    }
   ],
   "source": [
    "q.to_graphviz()"
   ]
  },
  {
   "cell_type": "code",
   "execution_count": 147,
   "id": "7c9a4aa1-7b6d-4942-a157-40bd9d2da644",
   "metadata": {
    "ExecuteTime": {
     "start_time": "2023-11-26T22:22:24.698631Z",
     "end_time": "2023-11-26T22:22:25.345024Z"
    }
   },
   "outputs": [
    {
     "data": {
      "image/svg+xml": "<?xml version=\"1.0\" encoding=\"UTF-8\" standalone=\"no\"?>\n<!DOCTYPE svg PUBLIC \"-//W3C//DTD SVG 1.1//EN\"\n \"http://www.w3.org/Graphics/SVG/1.1/DTD/svg11.dtd\">\n<!-- Generated by graphviz version 8.1.0 (20230707.0739)\n -->\n<!-- Pages: 1 -->\n<svg width=\"1226pt\" height=\"265pt\"\n viewBox=\"0.00 0.00 1225.99 265.00\" xmlns=\"http://www.w3.org/2000/svg\" xmlns:xlink=\"http://www.w3.org/1999/xlink\">\n<g id=\"graph0\" class=\"graph\" transform=\"scale(1 1) rotate(0) translate(4 261)\">\n<polygon fill=\"white\" stroke=\"none\" points=\"-4,4 -4,-261 1221.99,-261 1221.99,4 -4,4\"/>\n<!-- 140367551382800 -->\n<g id=\"node1\" class=\"node\">\n<title>140367551382800</title>\n<polygon fill=\"none\" stroke=\"black\" points=\"1135.99,-82.5 1135.99,-118.5 1217.99,-118.5 1217.99,-82.5 1135.99,-82.5\"/>\n<text text-anchor=\"middle\" x=\"1176.99\" y=\"-96.2\" font-family=\"Times,serif\" font-size=\"14.00\">= 70.000</text>\n</g>\n<!-- 140367551382800.grad_fn -->\n<g id=\"node2\" class=\"node\">\n<title>140367551382800.grad_fn</title>\n<ellipse fill=\"none\" stroke=\"black\" cx=\"1070.35\" cy=\"-100.5\" rx=\"29.64\" ry=\"18\"/>\n<text text-anchor=\"middle\" x=\"1070.35\" y=\"-95.83\" font-family=\"Times,serif\" font-size=\"14.00\">add</text>\n</g>\n<!-- 140367551382800.grad_fn&#45;&gt;140367551382800 -->\n<g id=\"edge1\" class=\"edge\">\n<title>140367551382800.grad_fn&#45;&gt;140367551382800</title>\n<path fill=\"none\" stroke=\"black\" d=\"M1100.22,-100.5C1108.05,-100.5 1116.76,-100.5 1125.4,-100.5\"/>\n<polygon fill=\"black\" stroke=\"black\" points=\"1125.25,-104 1135.25,-100.5 1125.25,-97 1125.25,-104\"/>\n</g>\n<!-- 140367552696016 -->\n<g id=\"node3\" class=\"node\">\n<title>140367552696016</title>\n<polygon fill=\"none\" stroke=\"black\" points=\"915.97,-110.5 915.97,-146.5 997.97,-146.5 997.97,-110.5 915.97,-110.5\"/>\n<text text-anchor=\"middle\" x=\"956.97\" y=\"-124.2\" font-family=\"Times,serif\" font-size=\"14.00\">= 55.000</text>\n</g>\n<!-- 140367552696016&#45;&gt;140367551382800.grad_fn -->\n<g id=\"edge2\" class=\"edge\">\n<title>140367552696016&#45;&gt;140367551382800.grad_fn</title>\n<path fill=\"none\" stroke=\"black\" d=\"M997.86,-118.47C1009.01,-115.67 1021.07,-112.64 1032.06,-109.88\"/>\n<polygon fill=\"black\" stroke=\"black\" points=\"1032.77,-113.05 1041.61,-107.22 1031.06,-106.27 1032.77,-113.05\"/>\n</g>\n<!-- 140367554069968 -->\n<g id=\"node4\" class=\"node\">\n<title>140367554069968</title>\n<polygon fill=\"none\" stroke=\"black\" points=\"909.22,-55.5 909.22,-91.5 1004.72,-91.5 1004.72,-55.5 909.22,-55.5\"/>\n<text text-anchor=\"middle\" x=\"956.97\" y=\"-69.2\" font-family=\"Times,serif\" font-size=\"14.00\">q = 15.000</text>\n</g>\n<!-- 140367554069968&#45;&gt;140367551382800.grad_fn -->\n<g id=\"edge3\" class=\"edge\">\n<title>140367554069968&#45;&gt;140367551382800.grad_fn</title>\n<path fill=\"none\" stroke=\"black\" d=\"M1004.56,-84.79C1013.61,-86.99 1023,-89.26 1031.72,-91.38\"/>\n<polygon fill=\"black\" stroke=\"black\" points=\"1030.79,-95 1041.34,-93.95 1032.44,-88.19 1030.79,-95\"/>\n</g>\n<!-- 140367554069968.grad_fn -->\n<g id=\"node5\" class=\"node\">\n<title>140367554069968.grad_fn</title>\n<ellipse fill=\"none\" stroke=\"black\" cx=\"843.05\" cy=\"-73.5\" rx=\"30.16\" ry=\"18\"/>\n<text text-anchor=\"middle\" x=\"843.05\" y=\"-68.83\" font-family=\"Times,serif\" font-size=\"14.00\">mul</text>\n</g>\n<!-- 140367554069968.grad_fn&#45;&gt;140367554069968 -->\n<g id=\"edge4\" class=\"edge\">\n<title>140367554069968.grad_fn&#45;&gt;140367554069968</title>\n<path fill=\"none\" stroke=\"black\" d=\"M873.46,-73.5C881.2,-73.5 889.82,-73.5 898.49,-73.5\"/>\n<polygon fill=\"black\" stroke=\"black\" points=\"898.44,-77 908.44,-73.5 898.44,-70 898.44,-77\"/>\n</g>\n<!-- 140367554076048 -->\n<g id=\"node6\" class=\"node\">\n<title>140367554076048</title>\n<polygon fill=\"none\" stroke=\"black\" points=\"686.64,-55.5 686.64,-91.5 773.14,-91.5 773.14,-55.5 686.64,-55.5\"/>\n<text text-anchor=\"middle\" x=\"729.89\" y=\"-69.2\" font-family=\"Times,serif\" font-size=\"14.00\">p = 5.000</text>\n</g>\n<!-- 140367554076048&#45;&gt;140367554069968.grad_fn -->\n<g id=\"edge5\" class=\"edge\">\n<title>140367554076048&#45;&gt;140367554069968.grad_fn</title>\n<path fill=\"none\" stroke=\"black\" d=\"M772.91,-73.5C782.27,-73.5 792.17,-73.5 801.46,-73.5\"/>\n<polygon fill=\"black\" stroke=\"black\" points=\"801.42,-77 811.42,-73.5 801.42,-70 801.42,-77\"/>\n</g>\n<!-- 140367554080144 -->\n<g id=\"node7\" class=\"node\">\n<title>140367554080144</title>\n<polygon fill=\"none\" stroke=\"black\" points=\"684.39,-0.5 684.39,-36.5 775.39,-36.5 775.39,-0.5 684.39,-0.5\"/>\n<text text-anchor=\"middle\" x=\"729.89\" y=\"-14.2\" font-family=\"Times,serif\" font-size=\"14.00\">m = 3.000</text>\n</g>\n<!-- 140367554080144&#45;&gt;140367554069968.grad_fn -->\n<g id=\"edge6\" class=\"edge\">\n<title>140367554080144&#45;&gt;140367554069968.grad_fn</title>\n<path fill=\"none\" stroke=\"black\" d=\"M766.98,-36.36C780.62,-43.11 796.05,-50.74 809.36,-57.33\"/>\n<polygon fill=\"black\" stroke=\"black\" points=\"807.55,-60.83 818.06,-62.13 810.65,-54.55 807.55,-60.83\"/>\n</g>\n<!-- 140367554080144.grad_fn -->\n<g id=\"node8\" class=\"node\">\n<title>140367554080144.grad_fn</title>\n<ellipse fill=\"none\" stroke=\"black\" cx=\"616.72\" cy=\"-18.5\" rx=\"29.11\" ry=\"18\"/>\n<text text-anchor=\"middle\" x=\"616.72\" y=\"-13.82\" font-family=\"Times,serif\" font-size=\"14.00\">sub</text>\n</g>\n<!-- 140367554080144.grad_fn&#45;&gt;140367554080144 -->\n<g id=\"edge7\" class=\"edge\">\n<title>140367554080144.grad_fn&#45;&gt;140367554080144</title>\n<path fill=\"none\" stroke=\"black\" d=\"M646.06,-18.5C654.57,-18.5 664.21,-18.5 673.82,-18.5\"/>\n<polygon fill=\"black\" stroke=\"black\" points=\"673.61,-22 683.61,-18.5 673.61,-15 673.61,-22\"/>\n</g>\n<!-- 140368349993936 -->\n<g id=\"node9\" class=\"node\">\n<title>140368349993936</title>\n<polygon fill=\"none\" stroke=\"black\" points=\"464.81,-0.5 464.81,-36.5 549.81,-36.5 549.81,-0.5 464.81,-0.5\"/>\n<text text-anchor=\"middle\" x=\"507.31\" y=\"-14.2\" font-family=\"Times,serif\" font-size=\"14.00\">s = 4.000</text>\n</g>\n<!-- 140368349993936&#45;&gt;140367554080144.grad_fn -->\n<g id=\"edge8\" class=\"edge\">\n<title>140368349993936&#45;&gt;140367554080144.grad_fn</title>\n<path fill=\"none\" stroke=\"black\" d=\"M549.53,-18.5C558.44,-18.5 567.82,-18.5 576.64,-18.5\"/>\n<polygon fill=\"black\" stroke=\"black\" points=\"576.42,-22 586.42,-18.5 576.42,-15 576.42,-22\"/>\n</g>\n<!-- 140367554076048.grad_fn -->\n<g id=\"node11\" class=\"node\">\n<title>140367554076048.grad_fn</title>\n<ellipse fill=\"none\" stroke=\"black\" cx=\"616.72\" cy=\"-73.5\" rx=\"29.64\" ry=\"18\"/>\n<text text-anchor=\"middle\" x=\"616.72\" y=\"-68.83\" font-family=\"Times,serif\" font-size=\"14.00\">add</text>\n</g>\n<!-- 140368349993936&#45;&gt;140367554076048.grad_fn -->\n<g id=\"edge11\" class=\"edge\">\n<title>140368349993936&#45;&gt;140367554076048.grad_fn</title>\n<path fill=\"none\" stroke=\"black\" d=\"M543.19,-36.36C556.14,-42.99 570.77,-50.48 583.48,-56.99\"/>\n<polygon fill=\"black\" stroke=\"black\" points=\"581.69,-60.52 592.19,-61.96 584.88,-54.29 581.69,-60.52\"/>\n</g>\n<!-- 140367553921552 -->\n<g id=\"node10\" class=\"node\">\n<title>140367553921552</title>\n<polygon fill=\"none\" stroke=\"black\" points=\"464.44,-55.5 464.44,-91.5 550.19,-91.5 550.19,-55.5 464.44,-55.5\"/>\n<text text-anchor=\"middle\" x=\"507.31\" y=\"-69.2\" font-family=\"Times,serif\" font-size=\"14.00\">o = 1.000</text>\n</g>\n<!-- 140367553921552&#45;&gt;140367554080144.grad_fn -->\n<g id=\"edge9\" class=\"edge\">\n<title>140367553921552&#45;&gt;140367554080144.grad_fn</title>\n<path fill=\"none\" stroke=\"black\" d=\"M543.19,-55.64C556.24,-48.96 570.99,-41.41 583.76,-34.87\"/>\n<polygon fill=\"black\" stroke=\"black\" points=\"585.21,-37.55 592.51,-29.87 582.02,-31.32 585.21,-37.55\"/>\n</g>\n<!-- 140367553921552&#45;&gt;140367554076048.grad_fn -->\n<g id=\"edge12\" class=\"edge\">\n<title>140367553921552&#45;&gt;140367554076048.grad_fn</title>\n<path fill=\"none\" stroke=\"black\" d=\"M550.15,-73.5C558.67,-73.5 567.61,-73.5 576.05,-73.5\"/>\n<polygon fill=\"black\" stroke=\"black\" points=\"575.78,-77 585.78,-73.5 575.78,-70 575.78,-77\"/>\n</g>\n<!-- 140367554076048.grad_fn&#45;&gt;140367554076048 -->\n<g id=\"edge10\" class=\"edge\">\n<title>140367554076048.grad_fn&#45;&gt;140367554076048</title>\n<path fill=\"none\" stroke=\"black\" d=\"M646.64,-73.5C655.62,-73.5 665.81,-73.5 675.89,-73.5\"/>\n<polygon fill=\"black\" stroke=\"black\" points=\"675.72,-77 685.72,-73.5 675.72,-70 675.72,-77\"/>\n</g>\n<!-- 140368349993936.grad_fn -->\n<g id=\"node12\" class=\"node\">\n<title>140368349993936.grad_fn</title>\n<ellipse fill=\"none\" stroke=\"black\" cx=\"396.32\" cy=\"-18.5\" rx=\"31.74\" ry=\"18\"/>\n<text text-anchor=\"middle\" x=\"396.32\" y=\"-13.82\" font-family=\"Times,serif\" font-size=\"14.00\">pow</text>\n</g>\n<!-- 140368349993936.grad_fn&#45;&gt;140368349993936 -->\n<g id=\"edge13\" class=\"edge\">\n<title>140368349993936.grad_fn&#45;&gt;140368349993936</title>\n<path fill=\"none\" stroke=\"black\" d=\"M428.55,-18.5C436.51,-18.5 445.29,-18.5 453.99,-18.5\"/>\n<polygon fill=\"black\" stroke=\"black\" points=\"453.91,-22 463.91,-18.5 453.91,-15 453.91,-22\"/>\n</g>\n<!-- 140367554076560 -->\n<g id=\"node13\" class=\"node\">\n<title>140367554076560</title>\n<polygon fill=\"none\" stroke=\"black\" points=\"234.95,-0.5 234.95,-36.5 320.7,-36.5 320.7,-0.5 234.95,-0.5\"/>\n<text text-anchor=\"middle\" x=\"277.83\" y=\"-14.2\" font-family=\"Times,serif\" font-size=\"14.00\">x = 2.000</text>\n</g>\n<!-- 140367554076560&#45;&gt;140368349993936.grad_fn -->\n<g id=\"edge14\" class=\"edge\">\n<title>140367554076560&#45;&gt;140368349993936.grad_fn</title>\n<path fill=\"none\" stroke=\"black\" d=\"M320.55,-18.5C331.21,-18.5 342.68,-18.5 353.35,-18.5\"/>\n<polygon fill=\"black\" stroke=\"black\" points=\"353.12,-22 363.12,-18.5 353.12,-15 353.12,-22\"/>\n</g>\n<!-- 140367552696016.grad_fn -->\n<g id=\"node14\" class=\"node\">\n<title>140367552696016.grad_fn</title>\n<ellipse fill=\"none\" stroke=\"black\" cx=\"843.05\" cy=\"-128.5\" rx=\"29.64\" ry=\"18\"/>\n<text text-anchor=\"middle\" x=\"843.05\" y=\"-123.83\" font-family=\"Times,serif\" font-size=\"14.00\">add</text>\n</g>\n<!-- 140367552696016.grad_fn&#45;&gt;140367552696016 -->\n<g id=\"edge15\" class=\"edge\">\n<title>140367552696016.grad_fn&#45;&gt;140367552696016</title>\n<path fill=\"none\" stroke=\"black\" d=\"M873.16,-128.5C882.98,-128.5 894.23,-128.5 905.22,-128.5\"/>\n<polygon fill=\"black\" stroke=\"black\" points=\"905.05,-132 915.05,-128.5 905.05,-125 905.05,-132\"/>\n</g>\n<!-- 140367562631184 -->\n<g id=\"node15\" class=\"node\">\n<title>140367562631184</title>\n<polygon fill=\"none\" stroke=\"black\" points=\"685.14,-165.5 685.14,-201.5 774.64,-201.5 774.64,-165.5 685.14,-165.5\"/>\n<text text-anchor=\"middle\" x=\"729.89\" y=\"-179.2\" font-family=\"Times,serif\" font-size=\"14.00\">w = 6.000</text>\n</g>\n<!-- 140367562631184&#45;&gt;140367552696016.grad_fn -->\n<g id=\"edge16\" class=\"edge\">\n<title>140367562631184&#45;&gt;140367552696016.grad_fn</title>\n<path fill=\"none\" stroke=\"black\" d=\"M766.98,-165.64C780.72,-158.84 796.28,-151.15 809.66,-144.53\"/>\n<polygon fill=\"black\" stroke=\"black\" points=\"810.99,-147.28 818.4,-139.71 807.88,-141.01 810.99,-147.28\"/>\n</g>\n<!-- 140367563965712 -->\n<g id=\"node16\" class=\"node\">\n<title>140367563965712</title>\n<polygon fill=\"none\" stroke=\"black\" points=\"682.89,-110.5 682.89,-146.5 776.89,-146.5 776.89,-110.5 682.89,-110.5\"/>\n<text text-anchor=\"middle\" x=\"729.89\" y=\"-124.2\" font-family=\"Times,serif\" font-size=\"14.00\">z = 49.000</text>\n</g>\n<!-- 140367563965712&#45;&gt;140367552696016.grad_fn -->\n<g id=\"edge17\" class=\"edge\">\n<title>140367563965712&#45;&gt;140367552696016.grad_fn</title>\n<path fill=\"none\" stroke=\"black\" d=\"M776.74,-128.5C785.21,-128.5 794,-128.5 802.27,-128.5\"/>\n<polygon fill=\"black\" stroke=\"black\" points=\"802.16,-132 812.16,-128.5 802.16,-125 802.16,-132\"/>\n</g>\n<!-- 140367563965712.grad_fn -->\n<g id=\"node17\" class=\"node\">\n<title>140367563965712.grad_fn</title>\n<ellipse fill=\"none\" stroke=\"black\" cx=\"616.72\" cy=\"-128.5\" rx=\"30.16\" ry=\"18\"/>\n<text text-anchor=\"middle\" x=\"616.72\" y=\"-123.83\" font-family=\"Times,serif\" font-size=\"14.00\">mul</text>\n</g>\n<!-- 140367563965712.grad_fn&#45;&gt;140367563965712 -->\n<g id=\"edge18\" class=\"edge\">\n<title>140367563965712.grad_fn&#45;&gt;140367563965712</title>\n<path fill=\"none\" stroke=\"black\" d=\"M647.22,-128.5C654.91,-128.5 663.46,-128.5 672.05,-128.5\"/>\n<polygon fill=\"black\" stroke=\"black\" points=\"671.89,-132 681.89,-128.5 671.89,-125 671.89,-132\"/>\n</g>\n<!-- 140367563971536 -->\n<g id=\"node18\" class=\"node\">\n<title>140367563971536</title>\n<polygon fill=\"none\" stroke=\"black\" points=\"464.44,-110.5 464.44,-146.5 550.19,-146.5 550.19,-110.5 464.44,-110.5\"/>\n<text text-anchor=\"middle\" x=\"507.31\" y=\"-124.2\" font-family=\"Times,serif\" font-size=\"14.00\">y = 7.000</text>\n</g>\n<!-- 140367563971536&#45;&gt;140367563965712.grad_fn -->\n<g id=\"edge19\" class=\"edge\">\n<title>140367563971536&#45;&gt;140367563965712.grad_fn</title>\n<path fill=\"none\" stroke=\"black\" d=\"M550.15,-121.9C558.91,-121.68 568.12,-121.7 576.78,-121.98\"/>\n<polygon fill=\"black\" stroke=\"black\" points=\"576.6,-125.52 586.75,-122.49 576.92,-118.53 576.6,-125.52\"/>\n</g>\n<!-- 140367563971536&#45;&gt;140367563965712.grad_fn -->\n<g id=\"edge20\" class=\"edge\">\n<title>140367563971536&#45;&gt;140367563965712.grad_fn</title>\n<path fill=\"none\" stroke=\"black\" d=\"M550.15,-135.1C558.91,-135.32 568.12,-135.3 576.78,-135.02\"/>\n<polygon fill=\"black\" stroke=\"black\" points=\"576.92,-138.47 586.75,-134.51 576.6,-131.48 576.92,-138.47\"/>\n</g>\n<!-- 140367563971536.grad_fn -->\n<g id=\"node19\" class=\"node\">\n<title>140367563971536.grad_fn</title>\n<ellipse fill=\"none\" stroke=\"black\" cx=\"396.32\" cy=\"-128.5\" rx=\"29.64\" ry=\"18\"/>\n<text text-anchor=\"middle\" x=\"396.32\" y=\"-123.83\" font-family=\"Times,serif\" font-size=\"14.00\">add</text>\n</g>\n<!-- 140367563971536.grad_fn&#45;&gt;140367563971536 -->\n<g id=\"edge21\" class=\"edge\">\n<title>140367563971536.grad_fn&#45;&gt;140367563971536</title>\n<path fill=\"none\" stroke=\"black\" d=\"M426.24,-128.5C434.67,-128.5 444.16,-128.5 453.58,-128.5\"/>\n<polygon fill=\"black\" stroke=\"black\" points=\"453.53,-132 463.53,-128.5 453.53,-125 453.53,-132\"/>\n</g>\n<!-- 140367562945744 -->\n<g id=\"node20\" class=\"node\">\n<title>140367562945744</title>\n<polygon fill=\"none\" stroke=\"black\" points=\"230.45,-83.5 230.45,-119.5 325.2,-119.5 325.2,-83.5 230.45,-83.5\"/>\n<text text-anchor=\"middle\" x=\"277.83\" y=\"-97.2\" font-family=\"Times,serif\" font-size=\"14.00\">x1 = 1.000</text>\n</g>\n<!-- 140367562945744&#45;&gt;140367563971536.grad_fn -->\n<g id=\"edge22\" class=\"edge\">\n<title>140367562945744&#45;&gt;140367563971536.grad_fn</title>\n<path fill=\"none\" stroke=\"black\" d=\"M324.87,-112.17C335.72,-114.69 347.17,-117.34 357.61,-119.76\"/>\n<polygon fill=\"black\" stroke=\"black\" points=\"356.53,-123.33 367.06,-122.18 358.11,-116.51 356.53,-123.33\"/>\n</g>\n<!-- 140367570562064 -->\n<g id=\"node21\" class=\"node\">\n<title>140367570562064</title>\n<polygon fill=\"none\" stroke=\"black\" points=\"227.08,-138.5 227.08,-174.5 328.58,-174.5 328.58,-138.5 227.08,-138.5\"/>\n<text text-anchor=\"middle\" x=\"277.83\" y=\"-152.2\" font-family=\"Times,serif\" font-size=\"14.00\">x2_ = 6.000</text>\n</g>\n<!-- 140367570562064&#45;&gt;140367563971536.grad_fn -->\n<g id=\"edge23\" class=\"edge\">\n<title>140367570562064&#45;&gt;140367563971536.grad_fn</title>\n<path fill=\"none\" stroke=\"black\" d=\"M328.57,-144.54C338.35,-142.19 348.45,-139.76 357.75,-137.53\"/>\n<polygon fill=\"black\" stroke=\"black\" points=\"358.32,-140.75 367.23,-135.01 356.68,-133.95 358.32,-140.75\"/>\n</g>\n<!-- 140367570562064.grad_fn -->\n<g id=\"node22\" class=\"node\">\n<title>140367570562064.grad_fn</title>\n<ellipse fill=\"none\" stroke=\"black\" cx=\"160.91\" cy=\"-156.5\" rx=\"30.16\" ry=\"18\"/>\n<text text-anchor=\"middle\" x=\"160.91\" y=\"-151.82\" font-family=\"Times,serif\" font-size=\"14.00\">mul</text>\n</g>\n<!-- 140367570562064.grad_fn&#45;&gt;140367570562064 -->\n<g id=\"edge24\" class=\"edge\">\n<title>140367570562064.grad_fn&#45;&gt;140367570562064</title>\n<path fill=\"none\" stroke=\"black\" d=\"M191.51,-156.5C199.18,-156.5 207.72,-156.5 216.35,-156.5\"/>\n<polygon fill=\"black\" stroke=\"black\" points=\"216.28,-160 226.28,-156.5 216.28,-153 216.28,-160\"/>\n</g>\n<!-- 140367558120720 -->\n<g id=\"node23\" class=\"node\">\n<title>140367558120720</title>\n<polygon fill=\"none\" stroke=\"black\" points=\"4.5,-166.5 4.5,-202.5 90.25,-202.5 90.25,-166.5 4.5,-166.5\"/>\n<text text-anchor=\"middle\" x=\"47.38\" y=\"-180.2\" font-family=\"Times,serif\" font-size=\"14.00\">a = 2.000</text>\n</g>\n<!-- 140367558120720&#45;&gt;140367570562064.grad_fn -->\n<g id=\"edge25\" class=\"edge\">\n<title>140367558120720&#45;&gt;140367570562064.grad_fn</title>\n<path fill=\"none\" stroke=\"black\" d=\"M90.23,-173.99C100.78,-171.35 112.04,-168.52 122.37,-165.93\"/>\n<polygon fill=\"black\" stroke=\"black\" points=\"122.87,-169.16 131.72,-163.33 121.17,-162.37 122.87,-169.16\"/>\n</g>\n<!-- 140367563972880 -->\n<g id=\"node24\" class=\"node\">\n<title>140367563972880</title>\n<polygon fill=\"none\" stroke=\"black\" points=\"0,-111.5 0,-147.5 94.75,-147.5 94.75,-111.5 0,-111.5\"/>\n<text text-anchor=\"middle\" x=\"47.38\" y=\"-125.2\" font-family=\"Times,serif\" font-size=\"14.00\">x2 = 3.000</text>\n</g>\n<!-- 140367563972880&#45;&gt;140367570562064.grad_fn -->\n<g id=\"edge26\" class=\"edge\">\n<title>140367563972880&#45;&gt;140367570562064.grad_fn</title>\n<path fill=\"none\" stroke=\"black\" d=\"M94.71,-140.72C103.71,-142.9 113.06,-145.16 121.76,-147.27\"/>\n<polygon fill=\"black\" stroke=\"black\" points=\"120.83,-150.88 131.38,-149.83 122.48,-144.08 120.83,-150.88\"/>\n</g>\n<!-- 140367562631184.grad_fn -->\n<g id=\"node25\" class=\"node\">\n<title>140367562631184.grad_fn</title>\n<ellipse fill=\"none\" stroke=\"black\" cx=\"616.72\" cy=\"-183.5\" rx=\"30.16\" ry=\"18\"/>\n<text text-anchor=\"middle\" x=\"616.72\" y=\"-178.82\" font-family=\"Times,serif\" font-size=\"14.00\">mul</text>\n</g>\n<!-- 140367562631184.grad_fn&#45;&gt;140367562631184 -->\n<g id=\"edge27\" class=\"edge\">\n<title>140367562631184.grad_fn&#45;&gt;140367562631184</title>\n<path fill=\"none\" stroke=\"black\" d=\"M647.22,-183.5C655.64,-183.5 665.08,-183.5 674.48,-183.5\"/>\n<polygon fill=\"black\" stroke=\"black\" points=\"674.43,-187 684.43,-183.5 674.43,-180 674.43,-187\"/>\n</g>\n<!-- 140367562140304 -->\n<g id=\"node26\" class=\"node\">\n<title>140367562140304</title>\n<polygon fill=\"none\" stroke=\"black\" points=\"464.06,-165.5 464.06,-201.5 550.56,-201.5 550.56,-165.5 464.06,-165.5\"/>\n<text text-anchor=\"middle\" x=\"507.31\" y=\"-179.2\" font-family=\"Times,serif\" font-size=\"14.00\">u = 2.000</text>\n</g>\n<!-- 140367562140304&#45;&gt;140367562631184.grad_fn -->\n<g id=\"edge28\" class=\"edge\">\n<title>140367562140304&#45;&gt;140367562631184.grad_fn</title>\n<path fill=\"none\" stroke=\"black\" d=\"M550.46,-183.5C558.7,-183.5 567.32,-183.5 575.5,-183.5\"/>\n<polygon fill=\"black\" stroke=\"black\" points=\"575.3,-187 585.3,-183.5 575.3,-180 575.3,-187\"/>\n</g>\n<!-- 140367573704976 -->\n<g id=\"node27\" class=\"node\">\n<title>140367573704976</title>\n<polygon fill=\"none\" stroke=\"black\" points=\"464.44,-220.5 464.44,-256.5 550.19,-256.5 550.19,-220.5 464.44,-220.5\"/>\n<text text-anchor=\"middle\" x=\"507.31\" y=\"-234.2\" font-family=\"Times,serif\" font-size=\"14.00\">v = 3.000</text>\n</g>\n<!-- 140367573704976&#45;&gt;140367562631184.grad_fn -->\n<g id=\"edge29\" class=\"edge\">\n<title>140367573704976&#45;&gt;140367562631184.grad_fn</title>\n<path fill=\"none\" stroke=\"black\" d=\"M543.19,-220.64C556.14,-214.01 570.77,-206.52 583.48,-200.01\"/>\n<polygon fill=\"black\" stroke=\"black\" points=\"584.88,-202.71 592.19,-195.04 581.69,-196.48 584.88,-202.71\"/>\n</g>\n</g>\n</svg>\n",
      "text/plain": "<graphviz.graphs.Digraph at 0x7fa9de023810>"
     },
     "execution_count": 147,
     "metadata": {},
     "output_type": "execute_result"
    }
   ],
   "source": [
    "(w + z + q).to_graphviz()"
   ]
  }
 ],
 "metadata": {
  "kernelspec": {
   "name": "python3",
   "language": "python",
   "display_name": "Python 3 (ipykernel)"
  },
  "language_info": {
   "codemirror_mode": {
    "name": "ipython",
    "version": 3
   },
   "file_extension": ".py",
   "mimetype": "text/x-python",
   "name": "python",
   "nbconvert_exporter": "python",
   "pygments_lexer": "ipython3",
   "version": "3.10.12"
  },
  "toc-autonumbering": false,
  "toc-showmarkdowntxt": false,
  "toc-showtags": true
 },
 "nbformat": 4,
 "nbformat_minor": 5
}
