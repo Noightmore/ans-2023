{
 "cells": [
  {
   "cell_type": "markdown",
   "id": "f688f9ac-ebc1-475c-a278-5e7242b99802",
   "metadata": {},
   "source": [
    "# Zpětná propagace"
   ]
  },
  {
   "cell_type": "markdown",
   "id": "21f9aabd-6fd0-4329-9239-0ec347de0db9",
   "metadata": {},
   "source": [
    "Úkolem cvičení je naprogramovat algoritmus zpětné propagace pro obecný případ obdobným způsobem, jako je navržen v knihovně PyTorch."
   ]
  },
  {
   "cell_type": "code",
   "execution_count": null,
   "id": "42fb7b35-c756-4246-aff2-03ab3928ad77",
   "metadata": {},
   "outputs": [],
   "source": [
    "%load_ext autoreload\n",
    "%autoreload 2"
   ]
  },
  {
   "cell_type": "code",
   "execution_count": null,
   "id": "3375f030-c696-4b7d-a808-5ab895104166",
   "metadata": {},
   "outputs": [],
   "source": [
    "import sys\n",
    "sys.path.append('..')  # import tests\n",
    "\n",
    "import graphviz\n",
    "import numpy as np\n",
    "import matplotlib.pyplot as plt\n",
    "import torch\n",
    "import torchvision\n",
    "\n",
    "import ans\n",
    "from tests import test_backpropagation"
   ]
  },
  {
   "cell_type": "markdown",
   "id": "e27932d6-b1a2-4284-b7be-64a77ec4da7a",
   "metadata": {
    "tags": []
   },
   "source": [
    "V PyTorchi je automatické derivování implementováno v modulu autograd, viz notebook [pytorch-autograd](../notebooks/pytorch-autograd.ipynb). Centrální třída `torch.Tensor` umožňuje nastavit parametr `requires_grad` na hodnotu `True`. PyTorch si v takovém případě zapamatuje všechny operace provedené nad daným tensorem a umí pak sputit zpětnou propagaci gradientu.\n",
    "\n",
    "My ale tuto funkcionalitu třídy `Tensor` využívat nebudeme a implementujeme si obdobnou zpětnou propagaci vlastními silami. Pro tento účel si zavedeme třídu `Variable`, která bude využívat `Tensor` pouze pro přechovávání dat. Účelem třídy bude pamatovat si operace provedené nad svým tensorem uloženým v atributu `data` a implementovat metodu `backprop()`, která po zavolání uživatelem provede zpětnou propagaci gradientů. Ty se uloží do atributu `grad` objektu třídy `Variable`. Celý systém je tedy velmi podobný tomu, jak autograd funguje v PyTorchi a v podstatě shodný s tím, jak fungoval v původním návrhu knihovny až do verze [0.4.0](https://pytorch.org/blog/pytorch-0_4_0-migration-guide/), kdy došlo ke sloučení tříd `torch.autograd.Variable` a `torch.Tensor`. Přes třídu [Variable](https://docs.chainer.org/en/stable/reference/generated/chainer.Variable.html) \"obalující\" n-rozměrné pole [cupy.ndarray](https://docs.cupy.dev/en/stable/reference/generated/cupy.ndarray.html) knihovny [cupy](https://cupy.dev/) byl navržen i autograd knihovny [Chainer](https://chainer.org/https://chainer.org/). Chainer byl předchůdcem a významnou inspirací pro PyTorch, který dnes spolu s [TensorFlow](https://www.tensorflow.org/) tvoří dvojici nejpopulárnějších frameworků pro práci s neurosítěmi."
   ]
  },
  {
   "cell_type": "markdown",
   "id": "00593cd2-734e-4f04-b5b9-45418f6f0b40",
   "metadata": {},
   "source": [
    "# Třída `Variable`"
   ]
  },
  {
   "cell_type": "markdown",
   "id": "c656207b-bedb-481d-bcb9-29f9220e4008",
   "metadata": {},
   "source": [
    "Třída `Variable` obsahuje atributy\n",
    "- `data`: `torch.Tensor`, který drží hodnotu proměnné\n",
    "- `grad`: `torch.Tensor`, který po kompletním provedení zpětné propagace bude obsahovat gradient na proměnnou\n",
    "- `parents`: `tuple[Variable, ...]`, která odkazuje na přímé předky proměnné\n",
    "- `grad_fn`: `Callable[[torch.Tensor], tuple[torch.Tensor, ...]]`; odkazuje na zpětný průchod operace, jejíž výsledkem proměnná je"
   ]
  },
  {
   "cell_type": "code",
   "execution_count": null,
   "id": "4c75a3b6-711f-4ff0-8985-5d59ee72e3bd",
   "metadata": {},
   "outputs": [],
   "source": [
    "ans.autograd.Variable.__init__??"
   ]
  },
  {
   "cell_type": "markdown",
   "id": "06e48c08-e778-478b-a280-1cd00b8dd038",
   "metadata": {},
   "source": [
    "Vytvořme dvě proměnné `f` a `g`."
   ]
  },
  {
   "cell_type": "code",
   "execution_count": null,
   "id": "4c288925-d324-4477-a107-91e69acc8402",
   "metadata": {},
   "outputs": [],
   "source": [
    "f = ans.autograd.Variable(torch.tensor(2.))\n",
    "f"
   ]
  },
  {
   "cell_type": "code",
   "execution_count": null,
   "id": "7088fa95-d052-4deb-b68c-4498fa399a90",
   "metadata": {},
   "outputs": [],
   "source": [
    "g = ans.autograd.Variable(torch.tensor(3.))\n",
    "g, g.data"
   ]
  },
  {
   "cell_type": "markdown",
   "id": "36d2ddb8-2aa0-4a55-92a1-50f7604662e6",
   "metadata": {},
   "source": [
    "# Operace sčítání nad objekty typu `Variable`"
   ]
  },
  {
   "cell_type": "markdown",
   "id": "f7c0b196-a2b3-4055-a6d1-2ffd32477b75",
   "metadata": {},
   "source": [
    "Pokaždé, kdy se s nějakým objektem typu `Variable` něco stane, tj. sečteme jej či pronásobíme s jinou `Variable`, vznikne nová `Variable` s odpovídajícími atributy. Začněme např. nejjednodušší operací sčítání\n",
    "$$h = f + g$$\n",
    "kde `f` a `g` jsou objekty typu `Variable`. Operace sčítání pro `Variable` není definována a prvním úkolem cvičení je jí doplnit.\n",
    "\n",
    "Proměnná `h` by měla být typu `Variable` a její atributy by měly být\n",
    "- `data`: `torch.tensor(5.)`, protože `torch.tensor(2.) + torch.tensor(3.) == torch.tensor(5.)`\n",
    "- `grad`: `None`, protože ještě neproběhla zpětná propagace\n",
    "- `parents`: `(f, g)`, protože vznikla sečtením `f` a `g`\n",
    "- `grad_fn`: `def add.backward(dout)`, tedy funkce, která převezme příchozí gradient a provede zpětný průchod operace sčítání.\n",
    "\n",
    "V Pythonu lze násobení pro uživatelsky definovanou třídu definovat pomocí magické metody `add`. Implementace by mohla vypadat např. takto:\n",
    "``` python\n",
    "def add(self, other: 'Variable') -> 'Variable':\n",
    "    def grad_fn(dout: torch.Tensor) -> tuple[torch.Tensor, torch.Tensor]:\n",
    "        return dout.clone(), dout.clone()\n",
    "    return Variable(\n",
    "        self.data + other.data,\n",
    "        parents=(self, other),\n",
    "        grad_fn=grad_fn\n",
    "    )\n",
    "```\n",
    "Navracíme `Variable` s atributy\n",
    "- `data = self.data + other.data`, protože sčítáme,\n",
    "- `parents = (self, other)`, protože výsledek je potomkem sčítanců `self` a `other`,\n",
    "- `grad_fn` je funkce definována jako zpětný průchod operace sčítání, pro nějž platí, že parciální derivace na vstupy jsou kopie příchozího gradientu; gradienty vrátí jako `tuple` na všechny své vstupy (zde dva `self` a `other`)."
   ]
  },
  {
   "cell_type": "markdown",
   "id": "1c79ba51-18cf-48e9-95f7-f9f5226f150e",
   "metadata": {},
   "source": [
    "### TODO: doplňte implementaci metody `add` pro sčítání dvou objektů typu `Variable`."
   ]
  },
  {
   "cell_type": "code",
   "execution_count": null,
   "id": "831f182b-464f-4934-99ba-26b89df356a1",
   "metadata": {},
   "outputs": [],
   "source": [
    "test_backpropagation.TestAdd.eval()"
   ]
  },
  {
   "cell_type": "code",
   "execution_count": null,
   "id": "f2e4c5af-faad-463a-9d1c-8feec2a20edd",
   "metadata": {},
   "outputs": [],
   "source": [
    "h = f + g\n",
    "h"
   ]
  },
  {
   "cell_type": "markdown",
   "id": "b9d9bb3b-2d8a-416e-b9c5-e5d9d028bd06",
   "metadata": {},
   "source": [
    "Rodiče proměnné `h` by měly být `f` a `g`."
   ]
  },
  {
   "cell_type": "code",
   "execution_count": null,
   "id": "3e015f53-6897-4fce-ae75-05e01baccf61",
   "metadata": {},
   "outputs": [],
   "source": [
    "h.parents[0] is f, h.parents[1] is g"
   ]
  },
  {
   "cell_type": "markdown",
   "id": "1163833b-16bb-484a-87fc-26b7e6006c7e",
   "metadata": {},
   "source": [
    "Funkce `h.grad_fn` nyní odpovídá zpětnému průchodu operace sčítání. Pokud jí zavoláme s nějakým příchozím gradientem, dostaneme propagované gradienty na vstupy, ze kterých sčítáním `h` vzniklo, tj. na proměnné `f` a `g` (v tomto pořadí)."
   ]
  },
  {
   "cell_type": "code",
   "execution_count": null,
   "id": "c4f5b4ed-b5d9-43ea-8043-7b6a97b947e1",
   "metadata": {},
   "outputs": [],
   "source": [
    "df, dg = h.grad_fn(torch.tensor(1.))\n",
    "df, dg"
   ]
  },
  {
   "cell_type": "markdown",
   "id": "502b101d-ae50-4108-8786-ef06df73ba47",
   "metadata": {},
   "source": [
    "Gradienty `df` a `dg` můžeme zapsat do atributů `f.grad` a `g.grad`, čímž pro takto jednoduchý příklad provedeme kompletní zpětnou propagaci."
   ]
  },
  {
   "cell_type": "code",
   "execution_count": null,
   "id": "f9e32965-496c-4470-9afa-e582548267f8",
   "metadata": {},
   "outputs": [],
   "source": [
    "f.grad = df\n",
    "g.grad = df\n",
    "f.grad, g.grad"
   ]
  },
  {
   "cell_type": "markdown",
   "id": "69414d4f-2a1b-4d9f-8262-6107198254af",
   "metadata": {},
   "source": [
    "# Odečítání `Variable`"
   ]
  },
  {
   "cell_type": "markdown",
   "id": "5905e0cd-7595-4f6b-92fe-e79881aa2550",
   "metadata": {},
   "source": [
    "Obdobně můžeme definovat i operaci odečítání. Rozdíl bude pouze ve výpočtu `data` a gradient na druhý operand by měl být přenásoben minus jedničkou (`-dout`)."
   ]
  },
  {
   "cell_type": "markdown",
   "id": "4fe96e73-a778-4aeb-a936-a21ade3863a0",
   "metadata": {},
   "source": [
    "### TODO: doplňte implementaci metody `__sub__` pro sčítání dvou objektů typu `Variable`."
   ]
  },
  {
   "cell_type": "code",
   "execution_count": null,
   "id": "6bae95f7-b769-4092-af60-b20d50ac2d49",
   "metadata": {},
   "outputs": [],
   "source": [
    "test_backpropagation.TestSub.eval()"
   ]
  },
  {
   "cell_type": "code",
   "execution_count": null,
   "id": "092a5964-0a0e-4c63-ae61-1305b0c45c7d",
   "metadata": {},
   "outputs": [],
   "source": [
    "h_ = f - g\n",
    "h_"
   ]
  },
  {
   "cell_type": "markdown",
   "id": "1e0913eb-de4d-4454-94b3-8f77dec28c48",
   "metadata": {},
   "source": [
    "# Násobení `Variable`"
   ]
  },
  {
   "cell_type": "markdown",
   "id": "0207a8fb-be37-4cc9-ac91-3d053ce7a04b",
   "metadata": {
    "tags": []
   },
   "source": [
    "Zkusme obdobně definovat i pronásobení\n",
    "$$w = u \\cdot v$$\n",
    "kde `u` a `v` jsou objekty typu `Variable`. Nejprve opět obě proměnné `u` a `v` vytvoříme."
   ]
  },
  {
   "cell_type": "code",
   "execution_count": null,
   "id": "a44f8c7d-56ab-4acb-85e3-fc2e602988ff",
   "metadata": {},
   "outputs": [],
   "source": [
    "u = ans.autograd.Variable(torch.tensor(2.))\n",
    "u"
   ]
  },
  {
   "cell_type": "code",
   "execution_count": null,
   "id": "37025e36-df2c-45d0-9275-ecc494ce131a",
   "metadata": {},
   "outputs": [],
   "source": [
    "v = ans.autograd.Variable(torch.tensor(3.))\n",
    "v"
   ]
  },
  {
   "cell_type": "markdown",
   "id": "6fc8bacc-8e19-4415-bec5-e87dddb82cb3",
   "metadata": {},
   "source": [
    "Operace násobení není pro `Variable` definována. Doplníme ji obdobným způsobem jako sčítání. V Pythonu se násobení definuje magickou metodou `__mul__`."
   ]
  },
  {
   "cell_type": "markdown",
   "id": "71d22199-30b5-48e8-ac0f-43c8e1533735",
   "metadata": {},
   "source": [
    "### TODO: doplňte implementaci metody `__mul__` pro násobení dvou objektů typu `Variable`."
   ]
  },
  {
   "cell_type": "code",
   "execution_count": null,
   "id": "8d395e66-f9e9-404c-9041-0df578da5ba7",
   "metadata": {},
   "outputs": [],
   "source": [
    "w = u * v\n",
    "w"
   ]
  },
  {
   "cell_type": "code",
   "execution_count": null,
   "id": "77adefa1-c20b-4e51-b170-a30e1ad9122b",
   "metadata": {},
   "outputs": [],
   "source": [
    "test_backpropagation.TestMul.eval()"
   ]
  },
  {
   "cell_type": "markdown",
   "id": "da6ce03a-f8ad-423d-aced-5b02da8d763f",
   "metadata": {},
   "source": [
    "Proveďme zpětnou propagaci."
   ]
  },
  {
   "cell_type": "code",
   "execution_count": null,
   "id": "90a214f2-10cf-480f-b2c9-17c05ef7ef4b",
   "metadata": {},
   "outputs": [],
   "source": [
    "du, dv = w.grad_fn(1.)\n",
    "du, dv"
   ]
  },
  {
   "cell_type": "code",
   "execution_count": null,
   "id": "79f532a0-11b5-4c4c-aa05-eff92c348310",
   "metadata": {},
   "outputs": [],
   "source": [
    "u.grad = du\n",
    "v.grad = dv\n",
    "u.grad, v.grad"
   ]
  },
  {
   "cell_type": "markdown",
   "id": "32801c19-23c8-4af9-a339-acd68e1904cf",
   "metadata": {},
   "source": [
    "Podobně jako u sčítání, nyní je zpětná propagace kompletní, protože proměnné `u` a `v` jsou na počátku výpočetního grafu a nemají žádné předky, tj. jejich `parents` je prázdná `tuple`."
   ]
  },
  {
   "cell_type": "markdown",
   "id": "6bb8091f-a356-4ac4-8953-43fc6f97eb97",
   "metadata": {},
   "source": [
    "# Výpočetní graf"
   ]
  },
  {
   "cell_type": "markdown",
   "id": "c801d93a-142f-4b83-9ba5-10a6b3adeb64",
   "metadata": {},
   "source": [
    "Pro lepší názornost si operace provedené s `u`, `v` a `w` můžeme vykreslit jako výpočetní graf. Poslouží nám k tomu třída `Digrapgh` balíku `graphviz`. Nejprve vytvoříme objekt grafu."
   ]
  },
  {
   "cell_type": "code",
   "execution_count": null,
   "id": "3985584a-9ec8-43e4-a3e5-54f993617bf8",
   "metadata": {},
   "outputs": [],
   "source": [
    "dot = graphviz.Digraph(graph_attr={'rankdir': 'LR'})"
   ]
  },
  {
   "cell_type": "markdown",
   "id": "7c11a274-d180-4146-8d8f-cafa400f6e97",
   "metadata": {},
   "source": [
    "Uzly do grafu přidáme metodou `dot.node(node_uid: str, label: Optional[str] = None, shape: str = 'ellipse')`, kde\n",
    "- `node_uid` musí být jedinečný název pro uzel v grafu,\n",
    "- `label` obsahuje textový popis, který se zobrazí ve vykresleném grafu,\n",
    "- `shape` označuje tvar uzlu - uzly proměnných budeme kreslit jako obdélníky a uzly funkcí jako elipsy."
   ]
  },
  {
   "cell_type": "code",
   "execution_count": null,
   "id": "2c9ce864-afac-44f0-a8c2-6717d8c0ef54",
   "metadata": {},
   "outputs": [],
   "source": [
    "dot.node('u', label='u', shape='record')\n",
    "dot.node('v', label='v', shape='record')\n",
    "dot.node('w', label='w', shape='record')\n",
    "dot.node('mul', label='mul')\n",
    "dot"
   ]
  },
  {
   "cell_type": "markdown",
   "id": "77cfbbe8-426c-4e55-912c-cd1973b43f55",
   "metadata": {},
   "source": [
    "Hrany přidáme metodou `dot.edge(from_uid: str, to_uid: str)`, kde\n",
    "- `from_uid` je jedinečný název uzlu, *ze* kterého hrana povede\n",
    "- `to_uid` je jedinečný název uzlu, *do* kterého hrana povede"
   ]
  },
  {
   "cell_type": "code",
   "execution_count": null,
   "id": "f53741d9-9838-4f00-8217-f11f6945aa93",
   "metadata": {},
   "outputs": [],
   "source": [
    "dot.edge('u', 'mul')\n",
    "dot.edge('v', 'mul')\n",
    "dot.edge('mul', 'w')\n",
    "dot"
   ]
  },
  {
   "cell_type": "markdown",
   "id": "f71423ab-2fed-4b55-b11b-1da38635fa7c",
   "metadata": {},
   "source": [
    "Vykreslení trochu zautomatizujeme a zabalíme do dvou metod. Rozšíříme zároveň popisky (`label`) tak, aby obsahovaly atribud `grad`, pokud není `None`."
   ]
  },
  {
   "cell_type": "code",
   "execution_count": null,
   "id": "7bc90291-812f-436b-b411-a055d2d95ed3",
   "metadata": {},
   "outputs": [],
   "source": [
    "def node_label(node: ans.autograd.Variable) -> str:\n",
    "    try:\n",
    "        name = next(k for k, v in globals().items() if v is node)\n",
    "    except StopIteration:\n",
    "        name = ''\n",
    "    label = f\"{name} = {node.data.item()}\"\n",
    "    if node.grad is not None:\n",
    "        label += f\" | grad = {node.grad.item()}\"\n",
    "    return label"
   ]
  },
  {
   "cell_type": "code",
   "execution_count": null,
   "id": "b54279fe-0d4b-41d0-b76b-f0ea0c4a5764",
   "metadata": {},
   "outputs": [],
   "source": [
    "def draw_comp_graph_ex_1() -> graphviz.Digraph:\n",
    "    dot = graphviz.Digraph(graph_attr={'rankdir': 'LR'})\n",
    "    dot.node('u', label=node_label(u), shape='record')\n",
    "    dot.node('v', label=node_label(v), shape='record')\n",
    "    dot.node('mul', label='mul')\n",
    "    dot.edge('u', 'mul')\n",
    "    dot.edge('v', 'mul')\n",
    "    dot.node('w', label=node_label(w), shape='record')\n",
    "    dot.edge('mul', 'w')\n",
    "    return dot"
   ]
  },
  {
   "cell_type": "code",
   "execution_count": null,
   "id": "b0c45734-feeb-4f55-baa9-cd947613f4af",
   "metadata": {},
   "outputs": [],
   "source": [
    "draw_comp_graph_ex_1()"
   ]
  },
  {
   "cell_type": "markdown",
   "id": "088336a8-1c0c-4121-be1d-27885ed70352",
   "metadata": {},
   "source": [
    "Později ve cvičení vykreslování zobecníme pro libovolné sekvence operací."
   ]
  },
  {
   "cell_type": "markdown",
   "id": "d31ae885-0922-494e-b8f2-dd5287a9599c",
   "metadata": {},
   "source": [
    "# Příklad: $z = (x_1 + a \\cdot x_2)^2$"
   ]
  },
  {
   "cell_type": "markdown",
   "id": "d9e3a44d-5a64-48ba-b65c-6fb7cf2526d9",
   "metadata": {},
   "source": [
    "Nyní, když máme definovány základní operace `+`, `-` a `*` a vykreslování, zkusme druhý příklad z notebooku [pytorch-autograd](../notebooks/pytorch-autograd.ipynb)\n",
    "$$z = (x_1 + a \\cdot x_2)^2$$\n",
    "kde $x_1 = 1$, $a = 2$ a $x_2 = 3$ a tedy $z = (1 + 2 \\cdot 3)^2 = 49$."
   ]
  },
  {
   "cell_type": "code",
   "execution_count": null,
   "id": "f45afc0d-777e-4ed8-a121-2399f2410864",
   "metadata": {},
   "outputs": [],
   "source": [
    "x1 = ans.autograd.Variable(torch.tensor(1.))\n",
    "a = ans.autograd.Variable(torch.tensor(2.))\n",
    "x2 = ans.autograd.Variable(torch.tensor(3.))\n",
    "\n",
    "x2_ = a * x2\n",
    "y = x1 + x2_\n",
    "z = y * y\n",
    "z"
   ]
  },
  {
   "cell_type": "code",
   "execution_count": null,
   "id": "15d7f05d-a909-4c70-ae17-c05a3d460dd7",
   "metadata": {},
   "outputs": [],
   "source": [
    "x1.data, a.data, x2.data, x2_.data, y.data, z.data"
   ]
  },
  {
   "cell_type": "code",
   "execution_count": null,
   "id": "68af6e47-3962-4960-978f-0a22a9dd9d54",
   "metadata": {},
   "outputs": [],
   "source": [
    "def draw_comp_graph_ex_2() -> graphviz.Digraph:\n",
    "    dot = graphviz.Digraph(graph_attr={'rankdir': 'LR'})\n",
    "    dot.node('x1', label=node_label(x1), shape='record')\n",
    "    dot.node('a', label=node_label(a), shape='record')\n",
    "    dot.node('x2', label=node_label(x2), shape='record')\n",
    "    dot.node('mul1', label='mul')  # node name must me unique\n",
    "    dot.edge('a', 'mul1')\n",
    "    dot.edge('x2', 'mul1')\n",
    "    dot.node('x2_', label=node_label(x2_), shape='record')\n",
    "    dot.edge('mul1', 'x2_')\n",
    "    dot.node('add', label='add')\n",
    "    dot.edge('x1', 'add')\n",
    "    dot.edge('x2_', 'add')\n",
    "    dot.node('y', label=node_label(y), shape='record')\n",
    "    dot.edge('add', 'y')\n",
    "    dot.node('mul2', label='mul')\n",
    "    dot.edge('y', 'mul2')\n",
    "    dot.edge('y', 'mul2')\n",
    "    dot.node('z', label=node_label(z), shape='record')\n",
    "    dot.edge('mul2', 'z')\n",
    "    return dot"
   ]
  },
  {
   "cell_type": "code",
   "execution_count": null,
   "id": "576ff0a8-9a9e-4fe1-9d21-5313699ed84e",
   "metadata": {},
   "outputs": [],
   "source": [
    "draw_comp_graph_ex_2()"
   ]
  },
  {
   "cell_type": "markdown",
   "id": "6d0eb13e-9c5b-46e4-9d26-c82bc9b7ff48",
   "metadata": {},
   "source": [
    "## Zpětná propagace"
   ]
  },
  {
   "cell_type": "markdown",
   "id": "0239cf57-b276-4855-b337-822a92c1f1e6",
   "metadata": {},
   "source": [
    "V druhém příkladu bude zpětná propagace složitější a na více kroků. Začneme opět od konce grafu, tj. tentokrát uzlu `z`."
   ]
  },
  {
   "cell_type": "code",
   "execution_count": null,
   "id": "f490ea2d-98f3-451c-8dca-6c862735c7c7",
   "metadata": {},
   "outputs": [],
   "source": [
    "z.parents"
   ]
  },
  {
   "cell_type": "code",
   "execution_count": null,
   "id": "48fa3958-ace5-4f49-897c-7507deb1d826",
   "metadata": {},
   "outputs": [],
   "source": [
    "z.parents[0] is y, z.parents[1] is y"
   ]
  },
  {
   "cell_type": "markdown",
   "id": "0c384d97-51ea-42be-b4ca-eed55026a8ba",
   "metadata": {},
   "source": [
    "Gradient na `y`:"
   ]
  },
  {
   "cell_type": "code",
   "execution_count": null,
   "id": "1d07a045-5da9-479d-b0ef-2050b2e14d42",
   "metadata": {},
   "outputs": [],
   "source": [
    "dy1, dy2 = z.grad_fn(1.)\n",
    "dy1, dy2"
   ]
  },
  {
   "cell_type": "markdown",
   "id": "4df18608-4ae2-47e2-8d77-b0a252c36145",
   "metadata": {},
   "source": [
    "Vidíme, že jsme dostali gradient na oba vstupy pronásobení `z = y * y`. Protože byl použitý stejný vstup `y` dvakrát, oba gradienty jsou na stejnou proměnnou. V takovém případě gradienty sečteme, viz notebook [pytorch-autograd](../notebooks/pytorch-autograd.ipynb). Analyticky přitom můžeme ověřit, že je výsledek správný\n",
    "$$\\frac{dz}{dy} = 2y = 2 \\cdot 7 = 14$$"
   ]
  },
  {
   "cell_type": "code",
   "execution_count": null,
   "id": "2122fa22-b7c7-4cd0-871e-2b66b1e55be6",
   "metadata": {},
   "outputs": [],
   "source": [
    "y.grad = dy1\n",
    "y.grad += dy2\n",
    "y.grad"
   ]
  },
  {
   "cell_type": "markdown",
   "id": "98afd53d-39ef-4ae2-b7b0-fdea1629ca79",
   "metadata": {},
   "source": [
    "Zde je opět názorně vidět, proč je PyTorch navržený tak, aby gradienty při zpětném průchodu nepřepisoval, ale akumuloval. Pokud bychom příchozí gradient přepisovali, celkové `dy` by bylo 7. **Správně bychom tedy vždy při updatu atributu `grad` měli nejprve zjistit, zda je `None` a pokud ano, incializovat ho na nuly, a poté přičíst gradient.**"
   ]
  },
  {
   "cell_type": "code",
   "execution_count": null,
   "id": "c62e4c67-86b8-4326-9a3d-b1eb21d7aa0e",
   "metadata": {},
   "outputs": [],
   "source": [
    "draw_comp_graph_ex_2()"
   ]
  },
  {
   "cell_type": "markdown",
   "id": "f1fe0dbf-17d9-46fd-b545-5f494ad420d0",
   "metadata": {},
   "source": [
    "Nyní je třeba \"hotový\" (kompletně naakumulovaný) gradient `y.grad` propagovat dále do uzlů `x1` a `x2_`. V případě sčítání se gradient při zpětném průchodu pouze rozkopíruje nezměněn do všech vstupů. Potřebujeme pouze z dopředného průchodu vědět, kolik gradientů máme vrátit. Tato informace se uložila při definici funkce `grad_fn` uvnitř `add`.\n",
    "\n",
    "**Důležitá poznámka:**\n",
    "- Propagovat gradient z uzlu `y` dále bychom měli až ve chvíli, kdy je \"hotový\", tj. jsou sečteny příchozí gradienty z větví všech potomků.\n",
    "- Pokud bychom propagovali dále částečný gradient, např. ihned po přičtení `dy1`, museli bychom se později do `y` opět vrátit a \"dopropagovat\" zbylou část (`dy2`). Dopracovali bychom se ke správnému výsledku, ovšem pouze za cenu opakovaného volání zpětných průchodů `backward()`, čímž by se výpočet zpomalil a byl neefektivní.\n",
    "- Zpětná propagace musí volat zpětný průchod každého uzlu právě jednou!"
   ]
  },
  {
   "cell_type": "code",
   "execution_count": null,
   "id": "84e6f15d-e7d8-490e-9142-a501122f2c9d",
   "metadata": {},
   "outputs": [],
   "source": [
    "dx1, dx2_ = y.grad_fn(y.grad)\n",
    "dx1, dx2_"
   ]
  },
  {
   "cell_type": "markdown",
   "id": "73f056d8-71ab-4f2b-b20b-d84e2549f906",
   "metadata": {},
   "source": [
    "Akumulujeme gradienty do `x1` a `x2_`."
   ]
  },
  {
   "cell_type": "code",
   "execution_count": null,
   "id": "2fec8278-c7e6-497f-b5b2-3f72ba630fd3",
   "metadata": {},
   "outputs": [],
   "source": [
    "if x1.grad is None:\n",
    "    x1.grad = torch.tensor(0.)\n",
    "x1.grad += dx1\n",
    "x1.grad"
   ]
  },
  {
   "cell_type": "code",
   "execution_count": null,
   "id": "c4f62fc9-f42e-4d29-8bce-85c3771a1b54",
   "metadata": {},
   "outputs": [],
   "source": [
    "if x2_.grad is None:\n",
    "    x2_.grad = torch.tensor(0.)\n",
    "x2_.grad += dx2_\n",
    "x2_.grad"
   ]
  },
  {
   "cell_type": "code",
   "execution_count": null,
   "id": "b396e4c4-a244-494b-ada5-48991ce76f03",
   "metadata": {},
   "outputs": [],
   "source": [
    "draw_comp_graph_ex_2()"
   ]
  },
  {
   "cell_type": "markdown",
   "id": "f24819e3-9a5e-47a4-af8e-68221689d61e",
   "metadata": {},
   "source": [
    "Nyní zbývá poslední krok, kterým je zpětný průchod součinu `x2_ = a * x2`. Pozor: gradienty na vstupy budou vráceny v pořadí, v jakém byly vloženy do dopředného průchodu."
   ]
  },
  {
   "cell_type": "code",
   "execution_count": null,
   "id": "02d706a4-9550-40f1-8a17-fbb591d8b22e",
   "metadata": {},
   "outputs": [],
   "source": [
    "da, dx2 = x2_.grad_fn(x2_.grad)\n",
    "da, dx2"
   ]
  },
  {
   "cell_type": "code",
   "execution_count": null,
   "id": "256a8126-e2b5-41c2-afe0-6d8335241465",
   "metadata": {},
   "outputs": [],
   "source": [
    "if a.grad is None:\n",
    "    a.grad = torch.tensor(0.)\n",
    "a.grad += da\n",
    "a.grad"
   ]
  },
  {
   "cell_type": "code",
   "execution_count": null,
   "id": "2289d975-a4f5-48e2-ad16-8a82f9328d85",
   "metadata": {},
   "outputs": [],
   "source": [
    "if x2.grad is None:\n",
    "    x2.grad = torch.tensor(0.)\n",
    "x2.grad += dx2\n",
    "x2.grad"
   ]
  },
  {
   "cell_type": "code",
   "execution_count": null,
   "id": "8e8c1616-8afd-4c0c-9195-d3e68e10ce3b",
   "metadata": {},
   "outputs": [],
   "source": [
    "draw_comp_graph_ex_2()"
   ]
  },
  {
   "cell_type": "markdown",
   "id": "7527fe86-28db-483f-a6dc-e1a4a0102716",
   "metadata": {},
   "source": [
    "# Příklad: $q = (x^2 + 1)\\cdot(x^2 - 1)$"
   ]
  },
  {
   "cell_type": "markdown",
   "id": "4efa7df2-6b8e-40da-93bb-da3eff9d8925",
   "metadata": {},
   "source": [
    "Poslední příklad z notebooku [pytorch-autograd](../notebooks/pytorch-autograd.ipynb)\n",
    "$$y = x^2$$\n",
    "$$p = y + 1$$\n",
    "$$m = y - 1$$\n",
    "$$q = p \\cdot m$$"
   ]
  },
  {
   "cell_type": "markdown",
   "id": "e63a0d5c-3840-4dd0-b151-4d65129b7540",
   "metadata": {},
   "source": [
    "### TODO: doplňte implementaci metody `__pow__` pro umocňování objektu typu `Variable`."
   ]
  },
  {
   "cell_type": "code",
   "execution_count": null,
   "id": "7e9df7a5-d401-4483-979e-1ccfc1880e4b",
   "metadata": {},
   "outputs": [],
   "source": [
    "test_backpropagation.TestPow.eval()"
   ]
  },
  {
   "cell_type": "code",
   "execution_count": null,
   "id": "bc11cb15-b7ed-415f-9805-c259dc4a2aea",
   "metadata": {},
   "outputs": [],
   "source": [
    "x = ans.autograd.Variable(torch.tensor(2.))\n",
    "s = x ** 2\n",
    "o = ans.autograd.Variable(torch.tensor(1.))  # can only add Variable + Variable\n",
    "p = s + o\n",
    "m = s - o\n",
    "q = p * m\n",
    "q"
   ]
  },
  {
   "cell_type": "code",
   "execution_count": null,
   "id": "f8016de3-1ba8-4e43-8d5f-fd5516c05b68",
   "metadata": {},
   "outputs": [],
   "source": [
    "x.data, s.data, p.data, m.data, q.data"
   ]
  },
  {
   "cell_type": "code",
   "execution_count": null,
   "id": "a39a97f3-0be4-48fb-8ac0-c21afeb14955",
   "metadata": {},
   "outputs": [],
   "source": [
    "def draw_comp_graph_ex_3() -> graphviz.Digraph:\n",
    "    dot = graphviz.Digraph(graph_attr={'rankdir': 'LR'})\n",
    "    dot.node('x', label=node_label(x), shape='record')\n",
    "    dot.node('mul1', label='mul')\n",
    "    dot.edge('x', 'mul1')\n",
    "    dot.edge('x', 'mul1')\n",
    "    dot.node('s', label=node_label(s), shape='record')\n",
    "    dot.edge('mul1', 's')\n",
    "    dot.node('o', label=node_label(o), shape='record')\n",
    "    dot.node('add', label='add')\n",
    "    dot.edge('s', 'add')\n",
    "    dot.edge('o', 'add')\n",
    "    dot.node('p', label=node_label(p), shape='record')\n",
    "    dot.edge('add', 'p')\n",
    "    dot.node('sub', label='sub')\n",
    "    dot.edge('s', 'sub')\n",
    "    dot.edge('o', 'sub')\n",
    "    dot.node('m', label=node_label(m), shape='record')\n",
    "    dot.edge('sub', 'm')\n",
    "    dot.node('mul2', label='mul')\n",
    "    dot.edge('p', 'mul2')\n",
    "    dot.edge('m', 'mul2')\n",
    "    dot.node('q', label=node_label(q), shape='record')\n",
    "    dot.edge('mul2', 'q')\n",
    "    return dot"
   ]
  },
  {
   "cell_type": "code",
   "execution_count": null,
   "id": "c78c741c-e8f9-4b96-9859-ef4833ceceff",
   "metadata": {},
   "outputs": [],
   "source": [
    "draw_comp_graph_ex_3()"
   ]
  },
  {
   "cell_type": "markdown",
   "id": "96ca4804-a706-40c9-99fb-9b219777b786",
   "metadata": {},
   "source": [
    "## Topologické řazení uzlů"
   ]
  },
  {
   "cell_type": "markdown",
   "id": "c1d0ae8f-b9f4-40a4-9004-f42f518cd086",
   "metadata": {},
   "source": [
    "Mohli bychom postupovat stejně jako předchozí dva příklady. Pomocí `q.grad_fn` (zpětný průchod násobení)) bychom spočítali nejprve `dp` a `dm` a poté bychom se vydali jednou z těchto dvou větví. Zde ovšem kvůli diamantové struktuře grafu nastává problém, kde se na cestě větví zastavit. Pokud si např. vybereme větev `p` a budeme rekurzivně pokračovat, dokud to jde, dostaneme se až k `x`. Až teprve poté by na řadu přišla větev `m`, odkud bychom opět rekurzivně dokráčeli až k `x`. V uzlu `s` bychom ale volali `s.grad_fn` z každé větve, tj. dohromady dvakrát. To sice pro takto jednoduchý graf nezpůsobí větší problémy, pro složitější grafy jako např. rekurentní neurosítě by však došlo k výraznému zpomalení oproti optimální implementaci.\n",
    "\n",
    "Jak bylo uvedeno výše, **každá `grad_fn` by měla být zavolána právě jednou**. Docílit toho lze tak, že zpětný průchod `node.grad_fn(node.grad)` každého uzlu `node` budeme volat až potom, co jeho odpovídající `node.grad` je kompletně akumulovaný ze všech potomčích větví. Uzly ve správném pořadí zajistí tzv. topologické třídění. Topologické třídění je taková posloupnost uzlů, kdy pro každou hranu $(u, v)$ vedoucí z uzlu $u$ do uzlu $v$ platí, že $u$ se v posloupnosti nachází před $v$, viz [https://en.wikipedia.org/wiki/Topological_sorting](https://en.wikipedia.org/wiki/Topological_sorting).\n",
    "\n",
    "Topologické třídění tedy zařídí, že uzly dostaneme v pořadí, v jakém na sobě vzájemně zavisejí *v dopředném průchodu*. Jelikož uzly jsou v našem případě objekty `Variable`, topologicky sežazená posloupnost bude `list[ans.autograd.Variable]`. Konkrétně ve 3. příkladě to může být `[x, s, p, m, q]`. Pokud poté *ve zpětném průchodu* budeme volat `node.grad_fn(node.grad)` a akumulaci gradientů *v opačném pořadí*, tj. `for node in [q, m, p, s, x]`, nemůže se nám stát, ze `node.grad` nebude zcela kompletně nasčítaný. Prvním krokem a úkolem cvičení je tedy implementace topologického třídění uzlů v metodě `Variable.predecessors()`."
   ]
  },
  {
   "cell_type": "markdown",
   "id": "b4e871c9-d95b-447b-b07f-1e3577df509b",
   "metadata": {},
   "source": [
    "### TODO: implementujte funkci `Variable.predecessors()` v modulu `ans.autograd`."
   ]
  },
  {
   "cell_type": "code",
   "execution_count": null,
   "id": "fec30ef2-a430-4970-aef0-70becb082805",
   "metadata": {},
   "outputs": [],
   "source": [
    "test_backpropagation.TestTopologicalSort.eval()"
   ]
  },
  {
   "cell_type": "code",
   "execution_count": null,
   "id": "4f7ab836-db6d-4bb6-9c83-77a6090dff91",
   "metadata": {},
   "outputs": [],
   "source": [
    "variables_sorted = q.predecessors()\n",
    "variables_sorted"
   ]
  },
  {
   "cell_type": "markdown",
   "id": "0c358e57-b210-45e0-a48f-1f3f0a305ac4",
   "metadata": {},
   "source": [
    "## Obecná zpětná propagace"
   ]
  },
  {
   "cell_type": "markdown",
   "id": "816b2b16-8858-4f7d-a60e-df2c6fb80696",
   "metadata": {},
   "source": [
    "Nyní můžeme projít seznam `variables_sorted` *v opačném pořadí* a:\n",
    "- zavolat zpětný průchod daného uzlu,\n",
    "- získané gradienty akumulovat do atributu `grad` přímých rodičů uzlu.\n",
    "Celý takovýto postup pak tvoří obecný algoritmus zpětné propagace. Implementovat ho bude metoda `backprop()` třídy `Variable` a měla by tak být ekvivalentem metody `torch.Tensor.backward()`. Pokud např. zavoláme `q.backprop()`, funkce vyplní u všech proměnných `x`, `s`, `o`, `p`, `m` a `q` jejich atribud `grad`, jehož hodnota bude odpovídat parciální derivaci $dq/d\\cdot$, kde $\\cdot$ značí uzly `x` až `q`."
   ]
  },
  {
   "cell_type": "markdown",
   "id": "ea269195-3d21-4c68-931c-9c218cba1cce",
   "metadata": {},
   "source": [
    "### TODO: implementujte metodu `backprop()` třídy `Variable`."
   ]
  },
  {
   "cell_type": "code",
   "execution_count": null,
   "id": "6ef561c7-d6ad-477d-b01a-88137e33d389",
   "metadata": {},
   "outputs": [],
   "source": [
    "test_backpropagation.TestBackprop.eval()"
   ]
  },
  {
   "cell_type": "code",
   "execution_count": null,
   "id": "a388768b-e1a2-4a4f-bae4-70e00c217891",
   "metadata": {},
   "outputs": [],
   "source": [
    "q.backprop()"
   ]
  },
  {
   "cell_type": "code",
   "execution_count": null,
   "id": "281e5b22-97d6-4d95-896e-f2afc6d13ed4",
   "metadata": {},
   "outputs": [],
   "source": [
    "x.grad, s.grad, o.grad, p.grad, m.grad, q.grad"
   ]
  },
  {
   "cell_type": "code",
   "execution_count": null,
   "id": "4636dddf-e3c4-4d5e-8c75-33f15fedbff0",
   "metadata": {},
   "outputs": [],
   "source": [
    "draw_comp_graph_ex_3()"
   ]
  },
  {
   "cell_type": "markdown",
   "id": "07d0cda9-34bb-4db7-b279-8f7d273d6c79",
   "metadata": {},
   "source": [
    "# Funkce pro vykreslování grafu"
   ]
  },
  {
   "cell_type": "markdown",
   "id": "72bcc4c0-b63f-4933-b3d1-0ca5eee11321",
   "metadata": {},
   "source": [
    "Topologické řazení `Variable.predecessors()` využijeme i pro vykreslování obecného grafu. Funkce je připravena ve třídě `Variable` jako\n",
    "``` python\n",
    "def to_graphviz(self, show_data: bool = False) -> graphviz.Digraph:\n",
    "    dot = graphviz.Digraph(graph_attr={'rankdir': 'LR'})\n",
    "    ...\n",
    "    return dot\n",
    "```\n",
    "Podobně jako funkce `draw_comp_graph_ex_{i}` vrací objekt typu `graphviz.Digraph`, který se v notebooku vykreslí jako graf. Úkolem je chybějící implementaci doplnit. Vykreslení výrazně usnadní dvě připravené funkce\n",
    "``` python\n",
    "def get_node_info(node: 'Variable', default: str = '', show_data: bool = False) -> tuple[str, str]:\n",
    "    ...\n",
    "\n",
    "def get_func_info(node: 'Variable') -> tuple[str, str]:\n",
    "    ...\n",
    "```\n",
    "Obě funkce přijímají `Variable` jako uzel grafu a vrátí pro něj odpovídající jedinečný identifikátor a zároveň popisek, který se zobrazí při vykreslení - podobně jako funkce tohoto notebooku `node_label(node: ans.autograd.Variable) -> str`.\n",
    "- Pokud do grafu přidáváme uzel reprezentovaný proměnnou `node`, použijeme\n",
    "``` python\n",
    "node_uid, node_label = get_node_info(node)\n",
    "dot.node(node_uid, label=node_label, shape='record')\n",
    "```\n",
    "- V případě uzlu, který značí funkci, použijeme obdobným způsobem funkci `get_func_info()`. Funkce převezme `node: Variable` a z `node.grad_fn` zjistí název funkce, který se pak může vykreslit jako popisek do grafu."
   ]
  },
  {
   "cell_type": "markdown",
   "id": "af692a34-3f70-445e-8901-033749184e48",
   "metadata": {},
   "source": [
    "### TODO: implenetujte funkci `Variable.to_graphviz()` modulu `ans.autograd`."
   ]
  },
  {
   "cell_type": "code",
   "execution_count": null,
   "id": "bbc41e03-d1b4-49a7-a527-b0f14bcb67bc",
   "metadata": {},
   "outputs": [],
   "source": [
    "w.to_graphviz()"
   ]
  },
  {
   "cell_type": "code",
   "execution_count": null,
   "id": "d3c80214-6000-4c06-bc3c-27dc3f886121",
   "metadata": {},
   "outputs": [],
   "source": [
    "z.to_graphviz()"
   ]
  },
  {
   "cell_type": "code",
   "execution_count": null,
   "id": "134c1fcd-ec95-4118-9af4-f4d38926eea0",
   "metadata": {},
   "outputs": [],
   "source": [
    "q.to_graphviz()"
   ]
  },
  {
   "cell_type": "code",
   "execution_count": null,
   "id": "7c9a4aa1-7b6d-4942-a157-40bd9d2da644",
   "metadata": {},
   "outputs": [],
   "source": [
    "(w + z + q).to_graphviz()"
   ]
  }
 ],
 "metadata": {
  "kernelspec": {
   "display_name": "ans23",
   "language": "python",
   "name": "ans23"
  },
  "language_info": {
   "codemirror_mode": {
    "name": "ipython",
    "version": 3
   },
   "file_extension": ".py",
   "mimetype": "text/x-python",
   "name": "python",
   "nbconvert_exporter": "python",
   "pygments_lexer": "ipython3",
   "version": "3.10.12"
  },
  "toc-autonumbering": false,
  "toc-showmarkdowntxt": false,
  "toc-showtags": true
 },
 "nbformat": 4,
 "nbformat_minor": 5
}
